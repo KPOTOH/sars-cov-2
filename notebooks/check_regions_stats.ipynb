{
 "cells": [
  {
   "cell_type": "code",
   "execution_count": 39,
   "id": "blind-forest",
   "metadata": {
    "ExecuteTime": {
     "end_time": "2021-04-29T22:11:15.737248Z",
     "start_time": "2021-04-29T22:11:15.733348Z"
    }
   },
   "outputs": [],
   "source": [
    "import sys\n",
    "\n",
    "sys.path.append('../scripts/')"
   ]
  },
  {
   "cell_type": "markdown",
   "id": "impossible-longer",
   "metadata": {},
   "source": [
    "## Check if initial regions have difference"
   ]
  },
  {
   "cell_type": "code",
   "execution_count": 40,
   "id": "cosmetic-peeing",
   "metadata": {
    "ExecuteTime": {
     "end_time": "2021-04-29T22:11:24.100425Z",
     "start_time": "2021-04-29T22:11:20.163910Z"
    }
   },
   "outputs": [
    {
     "name": "stderr",
     "output_type": "stream",
     "text": [
      "window size: 1000\n",
      "window size: 1000\n"
     ]
    }
   ],
   "source": [
    "import numpy as np\n",
    "import pandas as pd\n",
    "import matplotlib.pyplot as plt\n",
    "from scipy import stats\n",
    "\n",
    "# from sample_from_merged_regions import sample_from_merged, prepare_positions\n",
    "from add_features_to_rerions import SamplesFeatureConstructor\n",
    "\n",
    "PATH_TO_SUBSTITUTIONS = '../data/overall_mutations_with_context2.csv'\n",
    "PATH_TO_DISTANCES = '../data/new_final_fantasy_Tue_Apr_27_17:56:08_2021.csv'\n",
    "PATH_TO_REGIONS = '../data/ss_regions_for_IWT.csv'\n",
    "PATH_TO_CONTROL_REGIONS_ROUGH = '../data/ss_control_regions_rough_for_IWT.csv'\n",
    "\n",
    "\n",
    "def build_region_feature(path_to_regions=PATH_TO_REGIONS,\n",
    "                         path_to_subst=PATH_TO_SUBSTITUTIONS,\n",
    "                         path_to_dist=PATH_TO_DISTANCES,\n",
    "                         only_nsubst=True,\n",
    "                         window_size=10):\n",
    "    regions_df = pd.read_csv(path_to_regions)\n",
    "    regions = regions_df.apply(lambda d: np.arange(d.start, d.end), axis=1)\n",
    "\n",
    "    substitutions = pd.read_csv(path_to_subst)\n",
    "    final_fantasy = pd.read_csv(path_to_dist)\n",
    "    final_fantasy = final_fantasy[final_fantasy.primary_dist2nearest < 30000]\n",
    "\n",
    "    constructor = SamplesFeatureConstructor(\n",
    "        regions, substitutions, final_fantasy, \n",
    "        window=window_size, reg_df=regions_df\n",
    "    )\n",
    "    constructor.subst_count_feature(add_to_table=True)\n",
    "    if not only_nsubst:\n",
    "        constructor.distance_feature(primary=True, add_to_table=True)\n",
    "        constructor.distance_feature(primary=False, add_to_table=True)\n",
    "    return constructor.regions_df\n",
    "\n",
    "\n",
    "# big window for 1 statistics per region\n",
    "regions = build_region_feature(window_size=1000, only_nsubst=False)\n",
    "controls = build_region_feature(\n",
    "    PATH_TO_CONTROL_REGIONS_ROUGH, window_size=1000, only_nsubst=False)\n",
    "\n",
    "_feas = ['subst_count', 'distance1', 'distance2']\n",
    "for fea in _feas:\n",
    "    regions[fea] = [x[0] for x in regions[fea].values]\n",
    "    controls[fea] = [x[0] for x in controls[fea].values]"
   ]
  },
  {
   "cell_type": "code",
   "execution_count": 4,
   "id": "solid-transport",
   "metadata": {
    "ExecuteTime": {
     "end_time": "2021-04-29T15:14:34.355432Z",
     "start_time": "2021-04-29T15:14:33.792839Z"
    }
   },
   "outputs": [
    {
     "name": "stdout",
     "output_type": "stream",
     "text": [
      "Different distros\n",
      "MannwhitneyuResult(statistic=67594.0, pvalue=0.0021796299589972854)\n"
     ]
    },
    {
     "data": {
      "image/png": "[encoded data removed]",
      "text/plain": [
       "<Figure size 432x288 with 1 Axes>"
      ]
     },
     "metadata": {
      "needs_background": "light"
     },
     "output_type": "display_data"
    },
    {
     "name": "stdout",
     "output_type": "stream",
     "text": [
      "Equal distros\n",
      "MannwhitneyuResult(statistic=71418.0, pvalue=0.18264806820356083)\n"
     ]
    },
    {
     "data": {
      "image/png": "[encoded data removed]",
      "text/plain": [
       "<Figure size 432x288 with 1 Axes>"
      ]
     },
     "metadata": {
      "needs_background": "light"
     },
     "output_type": "display_data"
    },
    {
     "name": "stdout",
     "output_type": "stream",
     "text": [
      "Equal distros\n",
      "MannwhitneyuResult(statistic=70576.5, pvalue=0.1199319396406831)\n"
     ]
    },
    {
     "data": {
      "image/png": "[encoded data removed]",
      "text/plain": [
       "<Figure size 432x288 with 1 Axes>"
      ]
     },
     "metadata": {
      "needs_background": "light"
     },
     "output_type": "display_data"
    }
   ],
   "source": [
    "for fea in _feas:\n",
    "    xr = regions[fea].dropna()\n",
    "    xc = controls[fea].dropna()\n",
    "    \n",
    "    stest = stats.mannwhitneyu(xr, xc)\n",
    "    if stest.pvalue < .05:\n",
    "        print('Different distros')\n",
    "    else:\n",
    "        print('Equal distros')\n",
    "    print(stest)\n",
    "#     print(stats.ttest_ind(xr, xc))\n",
    "        \n",
    "    plt.boxplot([xr], positions=[0], labels=['stems'])\n",
    "    plt.boxplot([xc], positions=[2], labels=['control'])\n",
    "    plt.title(fea)\n",
    "    plt.ylabel('values')\n",
    "    plt.show()"
   ]
  },
  {
   "cell_type": "code",
   "execution_count": null,
   "id": "modified-minnesota",
   "metadata": {},
   "outputs": [],
   "source": []
  },
  {
   "cell_type": "markdown",
   "id": "owned-beast",
   "metadata": {},
   "source": [
    "## Check if samples from united regions have difference"
   ]
  },
  {
   "cell_type": "code",
   "execution_count": 29,
   "id": "supposed-dispatch",
   "metadata": {
    "ExecuteTime": {
     "end_time": "2021-04-29T15:25:28.367603Z",
     "start_time": "2021-04-29T15:25:22.652455Z"
    }
   },
   "outputs": [
    {
     "name": "stderr",
     "output_type": "stream",
     "text": [
      "window size: 20\n",
      "window size: 20\n"
     ]
    }
   ],
   "source": [
    "from add_features_to_rerions import build_region_feature\n",
    "\n",
    "reglen = 20\n",
    "window_size = 20\n",
    "regions = build_region_feature(PATH_TO_REGIONS,\n",
    "    only_nsubst=False, window_size=window_size, region_len=reglen)\n",
    "\n",
    "controls = build_region_feature(PATH_TO_CONTROL_REGIONS_ROUGH, \n",
    "    only_nsubst=False, window_size=window_size, region_len=reglen)\n",
    "\n",
    "\n",
    "_feas = ['subst_count', 'distance1', 'distance2']\n",
    "for fea in _feas:\n",
    "    regions[fea] = [x[0] for x in regions[fea].values]\n",
    "    controls[fea] = [x[0] for x in controls[fea].values]"
   ]
  },
  {
   "cell_type": "code",
   "execution_count": 30,
   "id": "statistical-shepherd",
   "metadata": {
    "ExecuteTime": {
     "end_time": "2021-04-29T15:25:28.927871Z",
     "start_time": "2021-04-29T15:25:28.370999Z"
    }
   },
   "outputs": [
    {
     "name": "stdout",
     "output_type": "stream",
     "text": [
      "regions ShapiroResult(statistic=0.7391587495803833, pvalue=6.592369389059101e-37)\n",
      "controls ShapiroResult(statistic=0.8781747221946716, pvalue=2.9079606600653152e-27)\n",
      "\n",
      "U-test: statistic=336652.0, pval=5.615991564877793e-37\n",
      "Different distros\n",
      "means: 26.89, 39.44\n",
      "medians: 21.50, 34.04\n"
     ]
    },
    {
     "data": {
      "image/png": "[encoded data removed]",
      "text/plain": [
       "<Figure size 432x288 with 1 Axes>"
      ]
     },
     "metadata": {
      "needs_background": "light"
     },
     "output_type": "display_data"
    },
    {
     "name": "stdout",
     "output_type": "stream",
     "text": [
      "regions ShapiroResult(statistic=0.9961663484573364, pvalue=0.01439426839351654)\n",
      "controls ShapiroResult(statistic=0.9880346059799194, pvalue=2.7925469225920097e-07)\n",
      "\n",
      "U-test: statistic=474985.0, pval=0.026364670846890512\n",
      "Different distros\n",
      "means: 430.55, 434.97\n",
      "medians: 430.15, 440.37\n"
     ]
    },
    {
     "data": {
      "image/png": "[encoded data removed]",
      "text/plain": [
       "<Figure size 432x288 with 1 Axes>"
      ]
     },
     "metadata": {
      "needs_background": "light"
     },
     "output_type": "display_data"
    },
    {
     "name": "stdout",
     "output_type": "stream",
     "text": [
      "regions ShapiroResult(statistic=0.9936399459838867, pvalue=0.00029087497387081385)\n",
      "controls ShapiroResult(statistic=0.9894207119941711, pvalue=1.2999494174437132e-06)\n",
      "\n",
      "U-test: statistic=459542.0, pval=0.0008650239951028169\n",
      "Different distros\n",
      "means: 336.68, 346.47\n",
      "medians: 336.61, 350.39\n"
     ]
    },
    {
     "data": {
      "image/png": "[encoded data removed]",
      "text/plain": [
       "<Figure size 432x288 with 1 Axes>"
      ]
     },
     "metadata": {
      "needs_background": "light"
     },
     "output_type": "display_data"
    }
   ],
   "source": [
    "for fea in _feas:\n",
    "    xr = regions[fea].dropna()\n",
    "    xc = controls[fea].dropna()\n",
    "    \n",
    "    print('regions', stats.shapiro(xr))\n",
    "    print('controls', stats.shapiro(xc))\n",
    "    print()\n",
    "    \n",
    "    if stats.shapiro(xr).pvalue > .05 and stats.shapiro(xc).pvalue > .05:\n",
    "        print('Both are normal samples')\n",
    "        print(stats.ttest_ind(xr, xc))\n",
    "    \n",
    "    stest = stats.mannwhitneyu(xr, xc)\n",
    "    print(f'U-test: statistic={stest.statistic}, pval={stest.pvalue}')\n",
    "    if stest.pvalue < .05:\n",
    "        print('Different distros')\n",
    "    else:\n",
    "        print('Equal distros')\n",
    "    print(f'means: {xr.mean():.2f}, {xc.mean():.2f}')\n",
    "    print(f'medians: {xr.median():.2f}, {xc.median():.2f}')\n",
    "    \n",
    "    plt.boxplot([xr, xc], positions=[0, 1], labels=['stems', 'control'])\n",
    "    plt.title(fea)\n",
    "    plt.ylabel('values')\n",
    "    plt.show()"
   ]
  },
  {
   "cell_type": "code",
   "execution_count": null,
   "id": "perfect-irish",
   "metadata": {},
   "outputs": [],
   "source": []
  }
 ],
 "metadata": {
  "kernelspec": {
   "display_name": "Python 3 (ipykernel)",
   "language": "python",
   "name": "python3"
  },
  "language_info": {
   "codemirror_mode": {
    "name": "ipython",
    "version": 3
   },
   "file_extension": ".py",
   "mimetype": "text/x-python",
   "name": "python",
   "nbconvert_exporter": "python",
   "pygments_lexer": "ipython3",
   "version": "3.9.5"
  }
 },
 "nbformat": 4,
 "nbformat_minor": 5
}

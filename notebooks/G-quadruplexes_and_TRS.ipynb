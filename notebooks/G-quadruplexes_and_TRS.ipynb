{
 "cells": [
  {
   "cell_type": "code",
   "execution_count": 1,
   "id": "warming-support",
   "metadata": {
    "ExecuteTime": {
     "end_time": "2021-06-03T11:04:35.007516Z",
     "start_time": "2021-06-03T11:04:33.280976Z"
    }
   },
   "outputs": [],
   "source": [
    "import sys\n",
    "import numpy as np\n",
    "import pandas as pd\n",
    "import matplotlib.pyplot as plt\n",
    "from scipy import stats\n",
    "\n",
    "sys.path.append('../scripts/')\n",
    "\n",
    "import utils\n",
    "from utils import read_ss_file"
   ]
  },
  {
   "cell_type": "code",
   "execution_count": 2,
   "id": "laughing-procedure",
   "metadata": {
    "ExecuteTime": {
     "end_time": "2021-06-03T11:04:35.013746Z",
     "start_time": "2021-06-03T11:04:35.010441Z"
    }
   },
   "outputs": [],
   "source": [
    "GQUAD_ANNOT_PATH = '../data/ideal_table_with_Gquadr.csv'\n",
    "SEC_STRUCT_PATH = \"../data/structure_data/SARSCoV2-RNA_from_site_plus_0based.ss\""
   ]
  },
  {
   "cell_type": "code",
   "execution_count": 3,
   "id": "specified-answer",
   "metadata": {
    "ExecuteTime": {
     "end_time": "2021-06-03T11:04:35.363729Z",
     "start_time": "2021-06-03T11:04:35.018370Z"
    }
   },
   "outputs": [
    {
     "name": "stderr",
     "output_type": "stream",
     "text": [
      "/home/mr/.local/lib/python3.7/site-packages/IPython/core/interactiveshell.py:3156: DtypeWarning: Columns (6) have mixed types.Specify dtype option on import or set low_memory=False.\n",
      "  interactivity=interactivity, compiler=compiler, result=result)\n"
     ]
    }
   ],
   "source": [
    "gannotation = pd.read_csv(GQUAD_ANNOT_PATH)\n",
    "ss_regions = read_ss_file(SEC_STRUCT_PATH)"
   ]
  },
  {
   "cell_type": "markdown",
   "id": "becoming-moment",
   "metadata": {},
   "source": [
    "## G-quadruplexes"
   ]
  },
  {
   "cell_type": "code",
   "execution_count": 4,
   "id": "arctic-indie",
   "metadata": {
    "ExecuteTime": {
     "end_time": "2021-06-03T11:04:35.423757Z",
     "start_time": "2021-06-03T11:04:35.370897Z"
    }
   },
   "outputs": [
    {
     "data": {
      "text/plain": [
       "(216,)"
      ]
     },
     "execution_count": 4,
     "metadata": {},
     "output_type": "execute_result"
    }
   ],
   "source": [
    "gpositions = gannotation.groupby('Pos').Quadr.min()[\n",
    "                gannotation.groupby('Pos').Quadr.min() == 1].index.values - 1  # 0-based\n",
    "gpositions.shape"
   ]
  },
  {
   "cell_type": "code",
   "execution_count": 5,
   "id": "paperback-venue",
   "metadata": {
    "ExecuteTime": {
     "end_time": "2021-06-03T11:04:35.434566Z",
     "start_time": "2021-06-03T11:04:35.428135Z"
    }
   },
   "outputs": [],
   "source": [
    "# positions of the regions (stems + free)\n",
    "ss_positions = []\n",
    "for ss in ss_regions:\n",
    "    start, end = ss[1:3]\n",
    "    for pos in range(start, end + 1):\n",
    "        ss_positions.append(pos)\n",
    "ss_positions = np.array(ss_positions)"
   ]
  },
  {
   "cell_type": "code",
   "execution_count": 6,
   "id": "figured-chaos",
   "metadata": {
    "ExecuteTime": {
     "end_time": "2021-06-03T11:04:35.461532Z",
     "start_time": "2021-06-03T11:04:35.438301Z"
    }
   },
   "outputs": [
    {
     "data": {
      "text/plain": [
       "6134"
      ]
     },
     "execution_count": 6,
     "metadata": {},
     "output_type": "execute_result"
    }
   ],
   "source": [
    "ss_positions.shape[0]"
   ]
  },
  {
   "cell_type": "code",
   "execution_count": 7,
   "id": "amended-congo",
   "metadata": {
    "ExecuteTime": {
     "end_time": "2021-06-03T11:04:35.485976Z",
     "start_time": "2021-06-03T11:04:35.466783Z"
    }
   },
   "outputs": [
    {
     "name": "stdout",
     "output_type": "stream",
     "text": [
      "48 Gquadr-positions is in ss regions\n"
     ]
    }
   ],
   "source": [
    "print(\n",
    "    len(gpositions) - len(set(gpositions).difference(ss_positions)), \n",
    "    'Gquadr-positions is in ss regions'\n",
    ")"
   ]
  },
  {
   "cell_type": "code",
   "execution_count": 8,
   "id": "directed-growing",
   "metadata": {
    "ExecuteTime": {
     "end_time": "2021-06-03T11:04:35.513202Z",
     "start_time": "2021-06-03T11:04:35.489751Z"
    }
   },
   "outputs": [
    {
     "data": {
      "text/plain": [
       "array([   83,    84,    85, ..., 29864, 29865, 29866])"
      ]
     },
     "execution_count": 8,
     "metadata": {},
     "output_type": "execute_result"
    }
   ],
   "source": [
    "ss_positions"
   ]
  },
  {
   "cell_type": "code",
   "execution_count": null,
   "id": "formed-auckland",
   "metadata": {},
   "outputs": [],
   "source": []
  },
  {
   "cell_type": "code",
   "execution_count": 9,
   "id": "after-direction",
   "metadata": {
    "ExecuteTime": {
     "end_time": "2021-06-03T11:04:35.644304Z",
     "start_time": "2021-06-03T11:04:35.594435Z"
    }
   },
   "outputs": [
    {
     "data": {
      "text/html": [
       "<div>\n",
       "<style scoped>\n",
       "    .dataframe tbody tr th:only-of-type {\n",
       "        vertical-align: middle;\n",
       "    }\n",
       "\n",
       "    .dataframe tbody tr th {\n",
       "        vertical-align: top;\n",
       "    }\n",
       "\n",
       "    .dataframe thead th {\n",
       "        text-align: right;\n",
       "    }\n",
       "</style>\n",
       "<table border=\"1\" class=\"dataframe\">\n",
       "  <thead>\n",
       "    <tr style=\"text-align: right;\">\n",
       "      <th></th>\n",
       "      <th>Pos</th>\n",
       "      <th>RefNuc</th>\n",
       "      <th>GenName</th>\n",
       "      <th>IsStem</th>\n",
       "      <th>SsPairs</th>\n",
       "    </tr>\n",
       "  </thead>\n",
       "  <tbody>\n",
       "    <tr>\n",
       "      <th>83</th>\n",
       "      <td>84</td>\n",
       "      <td>C</td>\n",
       "      <td>5UTR</td>\n",
       "      <td>1.0</td>\n",
       "      <td>126.0</td>\n",
       "    </tr>\n",
       "    <tr>\n",
       "      <th>84</th>\n",
       "      <td>85</td>\n",
       "      <td>T</td>\n",
       "      <td>5UTR</td>\n",
       "      <td>1.0</td>\n",
       "      <td>125.0</td>\n",
       "    </tr>\n",
       "    <tr>\n",
       "      <th>85</th>\n",
       "      <td>86</td>\n",
       "      <td>G</td>\n",
       "      <td>5UTR</td>\n",
       "      <td>1.0</td>\n",
       "      <td>124.0</td>\n",
       "    </tr>\n",
       "    <tr>\n",
       "      <th>86</th>\n",
       "      <td>87</td>\n",
       "      <td>T</td>\n",
       "      <td>5UTR</td>\n",
       "      <td>1.0</td>\n",
       "      <td>123.0</td>\n",
       "    </tr>\n",
       "    <tr>\n",
       "      <th>87</th>\n",
       "      <td>88</td>\n",
       "      <td>G</td>\n",
       "      <td>5UTR</td>\n",
       "      <td>1.0</td>\n",
       "      <td>122.0</td>\n",
       "    </tr>\n",
       "  </tbody>\n",
       "</table>\n",
       "</div>"
      ],
      "text/plain": [
       "    Pos RefNuc GenName  IsStem  SsPairs\n",
       "83   84      C    5UTR     1.0    126.0\n",
       "84   85      T    5UTR     1.0    125.0\n",
       "85   86      G    5UTR     1.0    124.0\n",
       "86   87      T    5UTR     1.0    123.0\n",
       "87   88      G    5UTR     1.0    122.0"
      ]
     },
     "execution_count": 9,
     "metadata": {},
     "output_type": "execute_result"
    }
   ],
   "source": [
    "df = pd.read_csv('../data/secondary_structure_on_genome.csv')\n",
    "df[df.IsStem == 1].head()"
   ]
  },
  {
   "cell_type": "code",
   "execution_count": 10,
   "id": "agreed-enemy",
   "metadata": {
    "ExecuteTime": {
     "end_time": "2021-06-03T11:04:35.679916Z",
     "start_time": "2021-06-03T11:04:35.673409Z"
    }
   },
   "outputs": [],
   "source": [
    "stem_positions = []\n",
    "for ss in ss_regions:\n",
    "    start = ss[1]\n",
    "    pairs = ss[4]\n",
    "    for pos in pairs:\n",
    "        pos += start\n",
    "        stem_positions.append(pos)"
   ]
  },
  {
   "cell_type": "code",
   "execution_count": 11,
   "id": "fewer-presentation",
   "metadata": {
    "ExecuteTime": {
     "end_time": "2021-06-03T11:04:38.167549Z",
     "start_time": "2021-06-03T11:04:38.158509Z"
    }
   },
   "outputs": [
    {
     "data": {
      "text/plain": [
       "[7959, 7960, 7961, 7962, 7967, 7968, 7970, 7971, 7972, 7973]"
      ]
     },
     "execution_count": 11,
     "metadata": {},
     "output_type": "execute_result"
    }
   ],
   "source": [
    "_ = 1150\n",
    "stem_positions[_:_ + 10]"
   ]
  },
  {
   "cell_type": "code",
   "execution_count": 12,
   "id": "imported-prospect",
   "metadata": {
    "ExecuteTime": {
     "end_time": "2021-06-03T11:04:38.393626Z",
     "start_time": "2021-06-03T11:04:38.370771Z"
    }
   },
   "outputs": [
    {
     "data": {
      "text/html": [
       "<div>\n",
       "<style scoped>\n",
       "    .dataframe tbody tr th:only-of-type {\n",
       "        vertical-align: middle;\n",
       "    }\n",
       "\n",
       "    .dataframe tbody tr th {\n",
       "        vertical-align: top;\n",
       "    }\n",
       "\n",
       "    .dataframe thead th {\n",
       "        text-align: right;\n",
       "    }\n",
       "</style>\n",
       "<table border=\"1\" class=\"dataframe\">\n",
       "  <thead>\n",
       "    <tr style=\"text-align: right;\">\n",
       "      <th></th>\n",
       "      <th>Pos</th>\n",
       "      <th>RefNuc</th>\n",
       "      <th>GenName</th>\n",
       "      <th>IsStem</th>\n",
       "      <th>SsPairs</th>\n",
       "    </tr>\n",
       "  </thead>\n",
       "  <tbody>\n",
       "    <tr>\n",
       "      <th>7959</th>\n",
       "      <td>7960</td>\n",
       "      <td>G</td>\n",
       "      <td>ORF1ab</td>\n",
       "      <td>1.0</td>\n",
       "      <td>8098.0</td>\n",
       "    </tr>\n",
       "    <tr>\n",
       "      <th>7960</th>\n",
       "      <td>7961</td>\n",
       "      <td>T</td>\n",
       "      <td>ORF1ab</td>\n",
       "      <td>1.0</td>\n",
       "      <td>8097.0</td>\n",
       "    </tr>\n",
       "    <tr>\n",
       "      <th>7961</th>\n",
       "      <td>7962</td>\n",
       "      <td>G</td>\n",
       "      <td>ORF1ab</td>\n",
       "      <td>1.0</td>\n",
       "      <td>8096.0</td>\n",
       "    </tr>\n",
       "    <tr>\n",
       "      <th>7962</th>\n",
       "      <td>7963</td>\n",
       "      <td>T</td>\n",
       "      <td>ORF1ab</td>\n",
       "      <td>1.0</td>\n",
       "      <td>8095.0</td>\n",
       "    </tr>\n",
       "    <tr>\n",
       "      <th>7967</th>\n",
       "      <td>7968</td>\n",
       "      <td>C</td>\n",
       "      <td>ORF1ab</td>\n",
       "      <td>1.0</td>\n",
       "      <td>8017.0</td>\n",
       "    </tr>\n",
       "    <tr>\n",
       "      <th>7968</th>\n",
       "      <td>7969</td>\n",
       "      <td>T</td>\n",
       "      <td>ORF1ab</td>\n",
       "      <td>1.0</td>\n",
       "      <td>8016.0</td>\n",
       "    </tr>\n",
       "    <tr>\n",
       "      <th>7970</th>\n",
       "      <td>7971</td>\n",
       "      <td>T</td>\n",
       "      <td>ORF1ab</td>\n",
       "      <td>1.0</td>\n",
       "      <td>8014.0</td>\n",
       "    </tr>\n",
       "    <tr>\n",
       "      <th>7971</th>\n",
       "      <td>7972</td>\n",
       "      <td>A</td>\n",
       "      <td>ORF1ab</td>\n",
       "      <td>1.0</td>\n",
       "      <td>8013.0</td>\n",
       "    </tr>\n",
       "    <tr>\n",
       "      <th>7972</th>\n",
       "      <td>7973</td>\n",
       "      <td>C</td>\n",
       "      <td>ORF1ab</td>\n",
       "      <td>1.0</td>\n",
       "      <td>8012.0</td>\n",
       "    </tr>\n",
       "    <tr>\n",
       "      <th>7973</th>\n",
       "      <td>7974</td>\n",
       "      <td>T</td>\n",
       "      <td>ORF1ab</td>\n",
       "      <td>1.0</td>\n",
       "      <td>8011.0</td>\n",
       "    </tr>\n",
       "  </tbody>\n",
       "</table>\n",
       "</div>"
      ],
      "text/plain": [
       "       Pos RefNuc GenName  IsStem  SsPairs\n",
       "7959  7960      G  ORF1ab     1.0   8098.0\n",
       "7960  7961      T  ORF1ab     1.0   8097.0\n",
       "7961  7962      G  ORF1ab     1.0   8096.0\n",
       "7962  7963      T  ORF1ab     1.0   8095.0\n",
       "7967  7968      C  ORF1ab     1.0   8017.0\n",
       "7968  7969      T  ORF1ab     1.0   8016.0\n",
       "7970  7971      T  ORF1ab     1.0   8014.0\n",
       "7971  7972      A  ORF1ab     1.0   8013.0\n",
       "7972  7973      C  ORF1ab     1.0   8012.0\n",
       "7973  7974      T  ORF1ab     1.0   8011.0"
      ]
     },
     "execution_count": 12,
     "metadata": {},
     "output_type": "execute_result"
    }
   ],
   "source": [
    "df[df.IsStem == 1].iloc[_:_ + 10]"
   ]
  },
  {
   "attachments": {
    "image-2.png": {
     "image/png": "[encoded data removed]"
    },
    "image.png": {
     "image/png": "[encoded data removed]"
    }
   },
   "cell_type": "markdown",
   "id": "multiple-circuit",
   "metadata": {},
   "source": [
    "## TRS\n",
    "[paper](https://www.ncbi.nlm.nih.gov/pmc/articles/PMC7094943/)\n",
    "![image.png](attachment:image.png)\n",
    "![image-2.png](attachment:image-2.png)"
   ]
  },
  {
   "cell_type": "code",
   "execution_count": 13,
   "id": "addressed-costs",
   "metadata": {
    "ExecuteTime": {
     "end_time": "2021-06-03T11:04:39.030343Z",
     "start_time": "2021-06-03T11:04:39.025033Z"
    }
   },
   "outputs": [],
   "source": [
    "trs_intervals = [\n",
    "    (64, 64 + 14),\n",
    "    (21550, 21550 + 14),\n",
    "    (25379, 25379 + 14),  # obtained\n",
    "    (26231, 26231 + 14),  # obtained\n",
    "    (26467, 26467 + 14),\n",
    "    (27035, 27035 + 14),  # obtained\n",
    "    (27382, 27382 + 14),\n",
    "    (27882, 27882 + 14),\n",
    "    (28254, 28254 + 14),\n",
    "    (29528, 29528 + 14),\n",
    "]\n",
    "trs_positions = [x for p1, p2 in trs_intervals for x in range(p1, p2)]"
   ]
  },
  {
   "cell_type": "code",
   "execution_count": 14,
   "id": "noted-newcastle",
   "metadata": {
    "ExecuteTime": {
     "end_time": "2021-06-03T11:04:39.379635Z",
     "start_time": "2021-06-03T11:04:39.372571Z"
    }
   },
   "outputs": [
    {
     "data": {
      "text/plain": [
       "(98, 140)"
      ]
     },
     "execution_count": 14,
     "metadata": {},
     "output_type": "execute_result"
    }
   ],
   "source": [
    "len(set(trs_positions).difference(ss_positions)), len(trs_positions)"
   ]
  },
  {
   "cell_type": "code",
   "execution_count": 15,
   "id": "heard-operator",
   "metadata": {
    "ExecuteTime": {
     "end_time": "2021-06-03T11:04:39.706445Z",
     "start_time": "2021-06-03T11:04:39.694548Z"
    }
   },
   "outputs": [
    {
     "name": "stderr",
     "output_type": "stream",
     "text": [
      "/home/mr/.local/lib/python3.7/site-packages/ipykernel_launcher.py:2: SettingWithCopyWarning: \n",
      "A value is trying to be set on a copy of a slice from a DataFrame\n",
      "\n",
      "See the caveats in the documentation: https://pandas.pydata.org/pandas-docs/stable/user_guide/indexing.html#returning-a-view-versus-a-copy\n",
      "  \n"
     ]
    }
   ],
   "source": [
    "df['IsTRS'] = 0\n",
    "df['IsTRS'][df.Pos.isin(trs_positions)] = 1"
   ]
  },
  {
   "cell_type": "code",
   "execution_count": 16,
   "id": "assumed-reporter",
   "metadata": {
    "ExecuteTime": {
     "end_time": "2021-06-03T11:04:41.521565Z",
     "start_time": "2021-06-03T11:04:41.514792Z"
    }
   },
   "outputs": [
    {
     "data": {
      "text/plain": [
       "140"
      ]
     },
     "execution_count": 16,
     "metadata": {},
     "output_type": "execute_result"
    }
   ],
   "source": [
    "df.IsTRS.sum()"
   ]
  },
  {
   "cell_type": "markdown",
   "id": "external-polls",
   "metadata": {},
   "source": [
    "### We have only 41 position in 3 regions from 9 TRS"
   ]
  },
  {
   "cell_type": "markdown",
   "id": "administrative-staff",
   "metadata": {},
   "source": [
    "### Check the mutation rate on TRS"
   ]
  },
  {
   "cell_type": "code",
   "execution_count": 17,
   "id": "short-burke",
   "metadata": {
    "ExecuteTime": {
     "end_time": "2021-06-03T11:04:51.259052Z",
     "start_time": "2021-06-03T11:04:49.687052Z"
    }
   },
   "outputs": [
    {
     "name": "stdout",
     "output_type": "stream",
     "text": [
      "29903\n",
      "631407 substitutions in the dataset\n",
      "618118 SNPs (not indel)\n"
     ]
    }
   ],
   "source": [
    "from utils import read_fasta_generator\n",
    "\n",
    "SUBSTITUTIONS_PATH = '../data/overall_mutations_with_context2.json'\n",
    "REFSEQ_PATH = \"../data/covid_ref.fasta\"\n",
    "\n",
    "refseq = next(read_fasta_generator(REFSEQ_PATH))[1].replace('\\n', '')\n",
    "print(len(refseq))\n",
    "\n",
    "with open(SUBSTITUTIONS_PATH) as fin:\n",
    "    substitutions = json.load(fin)\n",
    "    \n",
    "\n",
    "refseq_len = len(refseq)\n",
    "subs_by_pos = [[] for _ in range(refseq_len)]\n",
    "n_overall_substitutions = 0\n",
    "n_snps = 0\n",
    "\n",
    "for parent_node, child_node, substs in substitutions:\n",
    "    for pos, parent_nucl, child_nucl, _, _ in substs:\n",
    "        n_overall_substitutions += 1\n",
    "        # only SNPs\n",
    "        if parent_nucl != '-' and child_nucl != '-':\n",
    "            subs_by_pos[pos].append((parent_nucl, child_nucl, ))  # parent_node, child_node\n",
    "            n_snps += 1\n",
    "\n",
    "assert n_snps == sum(map(len, subs_by_pos))\n",
    "\n",
    "print(f'{n_overall_substitutions} substitutions in the dataset')\n",
    "print(f\"{n_snps} SNPs (not indel)\")"
   ]
  },
  {
   "cell_type": "code",
   "execution_count": 18,
   "id": "descending-genre",
   "metadata": {
    "ExecuteTime": {
     "end_time": "2021-06-03T11:04:51.269893Z",
     "start_time": "2021-06-03T11:04:51.262187Z"
    }
   },
   "outputs": [
    {
     "data": {
      "text/plain": [
       "(29903,)"
      ]
     },
     "execution_count": 18,
     "metadata": {},
     "output_type": "execute_result"
    }
   ],
   "source": [
    "nsubs_by_pos = np.array(list(map(len, subs_by_pos)))\n",
    "nsubs_by_pos.shape"
   ]
  },
  {
   "cell_type": "code",
   "execution_count": 19,
   "id": "soviet-digit",
   "metadata": {
    "ExecuteTime": {
     "end_time": "2021-06-03T11:04:52.237813Z",
     "start_time": "2021-06-03T11:04:52.232775Z"
    }
   },
   "outputs": [],
   "source": [
    "df['NSubst'] = nsubs_by_pos\n",
    "# df.to_csv('../data/gemone_structures_annot.csv', index=None)"
   ]
  },
  {
   "cell_type": "code",
   "execution_count": 20,
   "id": "seeing-indonesian",
   "metadata": {
    "ExecuteTime": {
     "end_time": "2021-06-03T11:04:54.056017Z",
     "start_time": "2021-06-03T11:04:54.037452Z"
    }
   },
   "outputs": [
    {
     "data": {
      "text/html": [
       "<div>\n",
       "<style scoped>\n",
       "    .dataframe tbody tr th:only-of-type {\n",
       "        vertical-align: middle;\n",
       "    }\n",
       "\n",
       "    .dataframe tbody tr th {\n",
       "        vertical-align: top;\n",
       "    }\n",
       "\n",
       "    .dataframe thead th {\n",
       "        text-align: right;\n",
       "    }\n",
       "</style>\n",
       "<table border=\"1\" class=\"dataframe\">\n",
       "  <thead>\n",
       "    <tr style=\"text-align: right;\">\n",
       "      <th></th>\n",
       "      <th>Pos</th>\n",
       "      <th>RefNuc</th>\n",
       "      <th>GenName</th>\n",
       "      <th>IsStem</th>\n",
       "      <th>SsPairs</th>\n",
       "      <th>IsTRS</th>\n",
       "      <th>NSubst</th>\n",
       "    </tr>\n",
       "  </thead>\n",
       "  <tbody>\n",
       "    <tr>\n",
       "      <th>63</th>\n",
       "      <td>64</td>\n",
       "      <td>C</td>\n",
       "      <td>5UTR</td>\n",
       "      <td>NaN</td>\n",
       "      <td>NaN</td>\n",
       "      <td>1</td>\n",
       "      <td>42</td>\n",
       "    </tr>\n",
       "    <tr>\n",
       "      <th>64</th>\n",
       "      <td>65</td>\n",
       "      <td>T</td>\n",
       "      <td>5UTR</td>\n",
       "      <td>NaN</td>\n",
       "      <td>NaN</td>\n",
       "      <td>1</td>\n",
       "      <td>0</td>\n",
       "    </tr>\n",
       "    <tr>\n",
       "      <th>65</th>\n",
       "      <td>66</td>\n",
       "      <td>C</td>\n",
       "      <td>5UTR</td>\n",
       "      <td>NaN</td>\n",
       "      <td>NaN</td>\n",
       "      <td>1</td>\n",
       "      <td>387</td>\n",
       "    </tr>\n",
       "    <tr>\n",
       "      <th>66</th>\n",
       "      <td>67</td>\n",
       "      <td>T</td>\n",
       "      <td>5UTR</td>\n",
       "      <td>NaN</td>\n",
       "      <td>NaN</td>\n",
       "      <td>1</td>\n",
       "      <td>4</td>\n",
       "    </tr>\n",
       "    <tr>\n",
       "      <th>67</th>\n",
       "      <td>68</td>\n",
       "      <td>A</td>\n",
       "      <td>5UTR</td>\n",
       "      <td>NaN</td>\n",
       "      <td>NaN</td>\n",
       "      <td>1</td>\n",
       "      <td>0</td>\n",
       "    </tr>\n",
       "    <tr>\n",
       "      <th>68</th>\n",
       "      <td>69</td>\n",
       "      <td>A</td>\n",
       "      <td>5UTR</td>\n",
       "      <td>NaN</td>\n",
       "      <td>NaN</td>\n",
       "      <td>1</td>\n",
       "      <td>0</td>\n",
       "    </tr>\n",
       "    <tr>\n",
       "      <th>69</th>\n",
       "      <td>70</td>\n",
       "      <td>A</td>\n",
       "      <td>5UTR</td>\n",
       "      <td>NaN</td>\n",
       "      <td>NaN</td>\n",
       "      <td>1</td>\n",
       "      <td>0</td>\n",
       "    </tr>\n",
       "    <tr>\n",
       "      <th>70</th>\n",
       "      <td>71</td>\n",
       "      <td>C</td>\n",
       "      <td>5UTR</td>\n",
       "      <td>NaN</td>\n",
       "      <td>NaN</td>\n",
       "      <td>1</td>\n",
       "      <td>0</td>\n",
       "    </tr>\n",
       "    <tr>\n",
       "      <th>71</th>\n",
       "      <td>72</td>\n",
       "      <td>G</td>\n",
       "      <td>5UTR</td>\n",
       "      <td>NaN</td>\n",
       "      <td>NaN</td>\n",
       "      <td>1</td>\n",
       "      <td>0</td>\n",
       "    </tr>\n",
       "    <tr>\n",
       "      <th>72</th>\n",
       "      <td>73</td>\n",
       "      <td>A</td>\n",
       "      <td>5UTR</td>\n",
       "      <td>NaN</td>\n",
       "      <td>NaN</td>\n",
       "      <td>1</td>\n",
       "      <td>0</td>\n",
       "    </tr>\n",
       "    <tr>\n",
       "      <th>73</th>\n",
       "      <td>74</td>\n",
       "      <td>A</td>\n",
       "      <td>5UTR</td>\n",
       "      <td>NaN</td>\n",
       "      <td>NaN</td>\n",
       "      <td>1</td>\n",
       "      <td>0</td>\n",
       "    </tr>\n",
       "    <tr>\n",
       "      <th>74</th>\n",
       "      <td>75</td>\n",
       "      <td>C</td>\n",
       "      <td>5UTR</td>\n",
       "      <td>NaN</td>\n",
       "      <td>NaN</td>\n",
       "      <td>1</td>\n",
       "      <td>20</td>\n",
       "    </tr>\n",
       "    <tr>\n",
       "      <th>75</th>\n",
       "      <td>76</td>\n",
       "      <td>T</td>\n",
       "      <td>5UTR</td>\n",
       "      <td>NaN</td>\n",
       "      <td>NaN</td>\n",
       "      <td>1</td>\n",
       "      <td>10</td>\n",
       "    </tr>\n",
       "    <tr>\n",
       "      <th>76</th>\n",
       "      <td>77</td>\n",
       "      <td>T</td>\n",
       "      <td>5UTR</td>\n",
       "      <td>NaN</td>\n",
       "      <td>NaN</td>\n",
       "      <td>1</td>\n",
       "      <td>0</td>\n",
       "    </tr>\n",
       "  </tbody>\n",
       "</table>\n",
       "</div>"
      ],
      "text/plain": [
       "    Pos RefNuc GenName  IsStem  SsPairs  IsTRS  NSubst\n",
       "63   64      C    5UTR     NaN      NaN      1      42\n",
       "64   65      T    5UTR     NaN      NaN      1       0\n",
       "65   66      C    5UTR     NaN      NaN      1     387\n",
       "66   67      T    5UTR     NaN      NaN      1       4\n",
       "67   68      A    5UTR     NaN      NaN      1       0\n",
       "68   69      A    5UTR     NaN      NaN      1       0\n",
       "69   70      A    5UTR     NaN      NaN      1       0\n",
       "70   71      C    5UTR     NaN      NaN      1       0\n",
       "71   72      G    5UTR     NaN      NaN      1       0\n",
       "72   73      A    5UTR     NaN      NaN      1       0\n",
       "73   74      A    5UTR     NaN      NaN      1       0\n",
       "74   75      C    5UTR     NaN      NaN      1      20\n",
       "75   76      T    5UTR     NaN      NaN      1      10\n",
       "76   77      T    5UTR     NaN      NaN      1       0"
      ]
     },
     "execution_count": 20,
     "metadata": {},
     "output_type": "execute_result"
    }
   ],
   "source": [
    "df[df.Pos.isin(np.arange(*trs_intervals[0]))]"
   ]
  },
  {
   "cell_type": "code",
   "execution_count": 23,
   "id": "comfortable-discipline",
   "metadata": {
    "ExecuteTime": {
     "end_time": "2021-06-03T11:05:42.254696Z",
     "start_time": "2021-06-03T11:05:42.246600Z"
    }
   },
   "outputs": [
    {
     "name": "stdout",
     "output_type": "stream",
     "text": [
      "[  0 387   4   0   0   0   0   0   0   0  20  10   0  30]\n",
      "[86 45  0  0  8 16  0  0  0  0  4  5  0  0]\n",
      "[ 8 14  1  0  8  0 42  0  0  0  4  4 12  0]\n",
      "[ 4 96 19  4  0  8  0  4  0  0  0  0  0  0]\n",
      "[  0 109   0   0   4   0   0   0   0   0   4   0   0   0]\n",
      "[  0   0   9   8   4   4   0   0   4   0 156 145   0   0]\n",
      "[160 722   0   8   9   0 186  93   4  37  74   8   0  13]\n",
      "[82 12  0  0  0  1 76 66  1  0 17 16  2  4]\n",
      "[  5 326   0   0   0   0   0   0   0   4   4  18   0   0]\n",
      "[  8  66   0   4   4  12  37   0   4  68   4  86 286   4]\n"
     ]
    }
   ],
   "source": [
    "for start, end in trs_intervals:\n",
    "    print(nsubs_by_pos[start: end])"
   ]
  },
  {
   "cell_type": "code",
   "execution_count": 24,
   "id": "emerging-setup",
   "metadata": {
    "ExecuteTime": {
     "end_time": "2021-06-03T11:05:44.462099Z",
     "start_time": "2021-06-03T11:05:44.456391Z"
    }
   },
   "outputs": [
    {
     "data": {
      "text/plain": [
       "array([  0, 387,   4,   0,   0,   0,   0,   0,   0,   0,  20,  10,   0,\n",
       "        30,  86,  45,   0,   0,   8,  16,   0,   0,   0,   0,   4,   5,\n",
       "         0,   0,   8,  14,   1,   0,   8,   0,  42,   0,   0,   0,   4,\n",
       "         4,  12,   0,   4,  96,  19,   4,   0,   8,   0,   4,   0,   0,\n",
       "         0,   0,   0,   0,   0, 109,   0,   0,   4,   0,   0,   0,   0,\n",
       "         0,   4,   0,   0,   0,   0,   0,   9,   8,   4,   4,   0,   0,\n",
       "         4,   0, 156, 145,   0,   0, 160, 722,   0,   8,   9,   0, 186,\n",
       "        93,   4,  37,  74,   8,   0,  13,  82,  12,   0,   0,   0,   1,\n",
       "        76,  66,   1,   0,  17,  16,   2,   4,   5, 326,   0,   0,   0,\n",
       "         0,   0,   0,   0,   4,   4,  18,   0,   0,   8,  66,   0,   4,\n",
       "         4,  12,  37,   0,   4,  68,   4,  86, 286,   4])"
      ]
     },
     "execution_count": 24,
     "metadata": {},
     "output_type": "execute_result"
    }
   ],
   "source": [
    "nsubs_by_pos[trs_positions]"
   ]
  },
  {
   "cell_type": "code",
   "execution_count": 32,
   "id": "identical-houston",
   "metadata": {
    "ExecuteTime": {
     "end_time": "2021-06-02T22:53:39.534889Z",
     "start_time": "2021-06-02T22:53:39.263930Z"
    }
   },
   "outputs": [
    {
     "data": {
      "image/png": "[encoded data removed]",
      "text/plain": [
       "<Figure size 576x360 with 1 Axes>"
      ]
     },
     "metadata": {
      "needs_background": "light"
     },
     "output_type": "display_data"
    }
   ],
   "source": [
    "plt.figure(figsize=(8, 5))\n",
    "\n",
    "for i, (start, end) in enumerate(trs_intervals):\n",
    "    if i in [0, 1, 3, 4, 8]:\n",
    "        lbl = 'Основные TRS'\n",
    "        stl = 'k'\n",
    "    else:\n",
    "        lbl = 'Вспомогательные TRS'\n",
    "        stl = 'r--'\n",
    "    plt.plot(nsubs_by_pos[start: end], stl, label=lbl, alpha=.5)\n",
    "plt.legend()\n",
    "plt.xlabel('Позиция TRS', fontsize=14)\n",
    "plt.ylabel('Количество мутаций на позицию', fontsize=14)\n",
    "plt.show()"
   ]
  },
  {
   "cell_type": "code",
   "execution_count": null,
   "id": "searching-treatment",
   "metadata": {},
   "outputs": [],
   "source": []
  },
  {
   "cell_type": "markdown",
   "id": "equivalent-testing",
   "metadata": {},
   "source": [
    "### Add "
   ]
  },
  {
   "cell_type": "code",
   "execution_count": null,
   "id": "widespread-implement",
   "metadata": {},
   "outputs": [],
   "source": []
  },
  {
   "cell_type": "code",
   "execution_count": null,
   "id": "essential-closer",
   "metadata": {},
   "outputs": [],
   "source": []
  },
  {
   "cell_type": "code",
   "execution_count": null,
   "id": "silent-somewhere",
   "metadata": {},
   "outputs": [],
   "source": []
  },
  {
   "cell_type": "code",
   "execution_count": 6,
   "id": "maritime-questionnaire",
   "metadata": {
    "ExecuteTime": {
     "end_time": "2021-05-04T12:25:47.689914Z",
     "start_time": "2021-05-04T12:25:47.666236Z"
    }
   },
   "outputs": [],
   "source": [
    "GENES_ANNOT_PATH = '../data/genes_annotation.csv'\n",
    "\n",
    "genes = pd.read_csv(GENES_ANNOT_PATH)\n",
    "genes['Pos'] -= 1"
   ]
  },
  {
   "cell_type": "code",
   "execution_count": 8,
   "id": "inclusive-thailand",
   "metadata": {
    "ExecuteTime": {
     "end_time": "2021-05-04T12:25:56.236995Z",
     "start_time": "2021-05-04T12:25:56.221951Z"
    }
   },
   "outputs": [
    {
     "data": {
      "text/html": [
       "<div>\n",
       "<style scoped>\n",
       "    .dataframe tbody tr th:only-of-type {\n",
       "        vertical-align: middle;\n",
       "    }\n",
       "\n",
       "    .dataframe tbody tr th {\n",
       "        vertical-align: top;\n",
       "    }\n",
       "\n",
       "    .dataframe thead th {\n",
       "        text-align: right;\n",
       "    }\n",
       "</style>\n",
       "<table border=\"1\" class=\"dataframe\">\n",
       "  <thead>\n",
       "    <tr style=\"text-align: right;\">\n",
       "      <th></th>\n",
       "      <th>Pos</th>\n",
       "      <th>RefNuc</th>\n",
       "      <th>GenName</th>\n",
       "    </tr>\n",
       "  </thead>\n",
       "  <tbody>\n",
       "    <tr>\n",
       "      <th>0</th>\n",
       "      <td>0</td>\n",
       "      <td>A</td>\n",
       "      <td>5UTR</td>\n",
       "    </tr>\n",
       "    <tr>\n",
       "      <th>1</th>\n",
       "      <td>1</td>\n",
       "      <td>T</td>\n",
       "      <td>5UTR</td>\n",
       "    </tr>\n",
       "  </tbody>\n",
       "</table>\n",
       "</div>"
      ],
      "text/plain": [
       "   Pos RefNuc GenName\n",
       "0    0      A    5UTR\n",
       "1    1      T    5UTR"
      ]
     },
     "execution_count": 8,
     "metadata": {},
     "output_type": "execute_result"
    }
   ],
   "source": [
    "genes.head(2)"
   ]
  },
  {
   "cell_type": "code",
   "execution_count": 31,
   "id": "clean-donor",
   "metadata": {
    "ExecuteTime": {
     "end_time": "2021-05-04T12:55:07.723599Z",
     "start_time": "2021-05-04T12:55:07.706000Z"
    }
   },
   "outputs": [
    {
     "data": {
      "text/html": [
       "<div>\n",
       "<style scoped>\n",
       "    .dataframe tbody tr th:only-of-type {\n",
       "        vertical-align: middle;\n",
       "    }\n",
       "\n",
       "    .dataframe tbody tr th {\n",
       "        vertical-align: top;\n",
       "    }\n",
       "\n",
       "    .dataframe thead th {\n",
       "        text-align: right;\n",
       "    }\n",
       "</style>\n",
       "<table border=\"1\" class=\"dataframe\">\n",
       "  <thead>\n",
       "    <tr style=\"text-align: right;\">\n",
       "      <th></th>\n",
       "      <th>Pos</th>\n",
       "      <th>RefNuc</th>\n",
       "      <th>GenName</th>\n",
       "    </tr>\n",
       "  </thead>\n",
       "  <tbody>\n",
       "    <tr>\n",
       "      <th>64</th>\n",
       "      <td>64</td>\n",
       "      <td>T</td>\n",
       "      <td>5UTR</td>\n",
       "    </tr>\n",
       "    <tr>\n",
       "      <th>65</th>\n",
       "      <td>65</td>\n",
       "      <td>C</td>\n",
       "      <td>5UTR</td>\n",
       "    </tr>\n",
       "    <tr>\n",
       "      <th>66</th>\n",
       "      <td>66</td>\n",
       "      <td>T</td>\n",
       "      <td>5UTR</td>\n",
       "    </tr>\n",
       "    <tr>\n",
       "      <th>67</th>\n",
       "      <td>67</td>\n",
       "      <td>A</td>\n",
       "      <td>5UTR</td>\n",
       "    </tr>\n",
       "    <tr>\n",
       "      <th>68</th>\n",
       "      <td>68</td>\n",
       "      <td>A</td>\n",
       "      <td>5UTR</td>\n",
       "    </tr>\n",
       "    <tr>\n",
       "      <th>69</th>\n",
       "      <td>69</td>\n",
       "      <td>A</td>\n",
       "      <td>5UTR</td>\n",
       "    </tr>\n",
       "    <tr>\n",
       "      <th>70</th>\n",
       "      <td>70</td>\n",
       "      <td>C</td>\n",
       "      <td>5UTR</td>\n",
       "    </tr>\n",
       "    <tr>\n",
       "      <th>71</th>\n",
       "      <td>71</td>\n",
       "      <td>G</td>\n",
       "      <td>5UTR</td>\n",
       "    </tr>\n",
       "    <tr>\n",
       "      <th>72</th>\n",
       "      <td>72</td>\n",
       "      <td>A</td>\n",
       "      <td>5UTR</td>\n",
       "    </tr>\n",
       "    <tr>\n",
       "      <th>73</th>\n",
       "      <td>73</td>\n",
       "      <td>A</td>\n",
       "      <td>5UTR</td>\n",
       "    </tr>\n",
       "    <tr>\n",
       "      <th>74</th>\n",
       "      <td>74</td>\n",
       "      <td>C</td>\n",
       "      <td>5UTR</td>\n",
       "    </tr>\n",
       "    <tr>\n",
       "      <th>75</th>\n",
       "      <td>75</td>\n",
       "      <td>T</td>\n",
       "      <td>5UTR</td>\n",
       "    </tr>\n",
       "    <tr>\n",
       "      <th>76</th>\n",
       "      <td>76</td>\n",
       "      <td>T</td>\n",
       "      <td>5UTR</td>\n",
       "    </tr>\n",
       "    <tr>\n",
       "      <th>77</th>\n",
       "      <td>77</td>\n",
       "      <td>T</td>\n",
       "      <td>5UTR</td>\n",
       "    </tr>\n",
       "    <tr>\n",
       "      <th>78</th>\n",
       "      <td>78</td>\n",
       "      <td>A</td>\n",
       "      <td>5UTR</td>\n",
       "    </tr>\n",
       "    <tr>\n",
       "      <th>79</th>\n",
       "      <td>79</td>\n",
       "      <td>A</td>\n",
       "      <td>5UTR</td>\n",
       "    </tr>\n",
       "    <tr>\n",
       "      <th>80</th>\n",
       "      <td>80</td>\n",
       "      <td>A</td>\n",
       "      <td>5UTR</td>\n",
       "    </tr>\n",
       "  </tbody>\n",
       "</table>\n",
       "</div>"
      ],
      "text/plain": [
       "    Pos RefNuc GenName\n",
       "64   64      T    5UTR\n",
       "65   65      C    5UTR\n",
       "66   66      T    5UTR\n",
       "67   67      A    5UTR\n",
       "68   68      A    5UTR\n",
       "69   69      A    5UTR\n",
       "70   70      C    5UTR\n",
       "71   71      G    5UTR\n",
       "72   72      A    5UTR\n",
       "73   73      A    5UTR\n",
       "74   74      C    5UTR\n",
       "75   75      T    5UTR\n",
       "76   76      T    5UTR\n",
       "77   77      T    5UTR\n",
       "78   78      A    5UTR\n",
       "79   79      A    5UTR\n",
       "80   80      A    5UTR"
      ]
     },
     "execution_count": 31,
     "metadata": {},
     "output_type": "execute_result"
    }
   ],
   "source": [
    "genes[trs_intervals[0][0]: trs_intervals[0][1]]"
   ]
  },
  {
   "cell_type": "code",
   "execution_count": 100,
   "id": "reflected-cloud",
   "metadata": {
    "ExecuteTime": {
     "end_time": "2021-04-30T12:31:43.901430Z",
     "start_time": "2021-04-30T12:31:43.879060Z"
    }
   },
   "outputs": [
    {
     "data": {
      "text/plain": [
       "GenName\n",
       "3UTR      29902\n",
       "5UTR        264\n",
       "E         26471\n",
       "M         27190\n",
       "N         29532\n",
       "ORF10     29673\n",
       "ORF1ab    21554\n",
       "ORF3a     26219\n",
       "ORF6      27386\n",
       "ORF7a     27754\n",
       "ORF7b     27886\n",
       "ORF8      28258\n",
       "S         25383\n",
       "Name: Pos, dtype: int64"
      ]
     },
     "execution_count": 100,
     "metadata": {},
     "output_type": "execute_result"
    }
   ],
   "source": [
    "gene_names = [c for c in genes.GenName.unique() if '_' not in c]\n",
    "gend_pos = genes[genes.GenName.isin(gene_names)].groupby('GenName').Pos.max()\n",
    "gend_pos"
   ]
  },
  {
   "cell_type": "code",
   "execution_count": 101,
   "id": "listed-circle",
   "metadata": {
    "ExecuteTime": {
     "end_time": "2021-04-30T14:05:57.759330Z",
     "start_time": "2021-04-30T14:05:57.755712Z"
    }
   },
   "outputs": [],
   "source": [
    "from utils import print_ss_fasta_to_draw"
   ]
  },
  {
   "cell_type": "code",
   "execution_count": 111,
   "id": "sweet-watts",
   "metadata": {
    "ExecuteTime": {
     "end_time": "2021-04-30T14:09:39.276374Z",
     "start_time": "2021-04-30T14:09:39.270828Z"
    }
   },
   "outputs": [
    {
     "name": "stdout",
     "output_type": "stream",
     "text": [
      ">motif_23969-24097\n",
      "CACAAATATTACCAGATCCATCAAAACCAAGCAAGAGGTCATTTATTGAAGATCTACTTTTCAACAAAGTGACACTTGCAGATGCTGGCTTCATCAAACAATATGGTGATTGCCTTGGTGATATTGCTG\n",
      "((..(((((((((((...............(((((..((((((..(((((((.....)))))))...)))))).))))).......(((.((((((.......))))))..))))))))))))))..))\n"
     ]
    }
   ],
   "source": [
    "print_ss_fasta_to_draw(ss_regions, 65)"
   ]
  },
  {
   "cell_type": "code",
   "execution_count": null,
   "id": "treated-kansas",
   "metadata": {},
   "outputs": [],
   "source": []
  },
  {
   "cell_type": "code",
   "execution_count": null,
   "id": "general-messenger",
   "metadata": {},
   "outputs": [],
   "source": []
  },
  {
   "cell_type": "code",
   "execution_count": null,
   "id": "following-strain",
   "metadata": {},
   "outputs": [],
   "source": []
  },
  {
   "cell_type": "code",
   "execution_count": null,
   "id": "overall-organic",
   "metadata": {},
   "outputs": [],
   "source": []
  },
  {
   "cell_type": "code",
   "execution_count": null,
   "id": "dangerous-worship",
   "metadata": {},
   "outputs": [],
   "source": []
  }
 ],
 "metadata": {
  "kernelspec": {
   "display_name": "Python 3",
   "language": "python",
   "name": "python3"
  },
  "language_info": {
   "codemirror_mode": {
    "name": "ipython",
    "version": 3
   },
   "file_extension": ".py",
   "mimetype": "text/x-python",
   "name": "python",
   "nbconvert_exporter": "python",
   "pygments_lexer": "ipython3",
   "version": "3.7.5"
  }
 },
 "nbformat": 4,
 "nbformat_minor": 5
}

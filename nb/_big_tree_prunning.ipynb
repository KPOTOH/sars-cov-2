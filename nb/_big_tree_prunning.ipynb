{
 "cells": [
  {
   "cell_type": "markdown",
   "metadata": {},
   "source": [
    "### Hint\n",
    "Чтобы удалить ноду в бифуркации и сохранить действительное расстояние \n",
    "до оставшегося единственного узла без промежуточной ноды, надо обратиться \n",
    "по ссылке к этой ноде и вызвать метод `.delete(preserve_branch_length=True)`"
   ]
  },
  {
   "cell_type": "code",
   "execution_count": 1,
   "metadata": {},
   "outputs": [],
   "source": [
    "import sys\n",
    "from ete3 import PhyloTree\n",
    "\n",
    "sys.path.append('/home/mr/COVID19/sourse')\n",
    "from tree_pruner import (\n",
    "    metelki2singles, is_binary_tree, filter_parents, node_parent,\n",
    "    random_deletion_in_bifurcations, pruning\n",
    ")"
   ]
  },
  {
   "cell_type": "code",
   "execution_count": 3,
   "metadata": {},
   "outputs": [
    {
     "name": "stdout",
     "output_type": "stream",
     "text": [
      "\n",
      "      /-H\n",
      "     |\n",
      "   /-|--I\n",
      "  |  |\n",
      "  |   \\-X1\n",
      "  |\n",
      "  |--A\n",
      "--|\n",
      "  |   /-B\n",
      "  |  |\n",
      "  |  |--X2\n",
      "  |  |\n",
      "   \\-|      /-C\n",
      "     |   /-|\n",
      "     |  |   \\-X5\n",
      "     |  |\n",
      "      \\-|--X3\n",
      "        |\n",
      "        |   /-J\n",
      "        |  |\n",
      "         \\-|   /-F\n",
      "           |  |\n",
      "            \\-|--D\n",
      "              |\n",
      "               \\-X4\n"
     ]
    }
   ],
   "source": [
    "# t1 = PhyloTree(\"((H:0.3,I:0.1)X1:0.5, A:1, (B:0.4,(C:0.5,(J:1.3, (F:1.2, D:0.1)X2:0.5)X3:0.5)X4:0.5)X5:0.5)X6;\", format=1)\n",
    "newick = \"((H:0.3,I:0.1,X1:0.1):0.5, A:1, (B:0.4,X2:0.3,((C:0.5, X5:0.5):0.4,X3:0.5,(J:1.3, (F:1.2, D:0.1, X4:1.2):0.5):0.5):0.5):0.5);\"\n",
    "t1 = PhyloTree(newick, format=1)\n",
    "print(t1)\n",
    "# leaves = t1.get_leaves()\n",
    "# pre_leaves = set(map(lambda x: next(x.iter_ancestors()), leaves))\n",
    "# print(leaves)"
   ]
  },
  {
   "cell_type": "code",
   "execution_count": 4,
   "metadata": {},
   "outputs": [],
   "source": [
    "t1.show()"
   ]
  },
  {
   "cell_type": "code",
   "execution_count": 22,
   "metadata": {},
   "outputs": [],
   "source": [
    "part_tree = tree_prunning(newick)"
   ]
  },
  {
   "cell_type": "code",
   "execution_count": 23,
   "metadata": {},
   "outputs": [
    {
     "name": "stdout",
     "output_type": "stream",
     "text": [
      "\n",
      "      /-H\n",
      "   /-|\n",
      "  |   \\-I\n",
      "  |\n",
      "  |--A\n",
      "--|\n",
      "  |   /-B\n",
      "  |  |\n",
      "  |  |--X2\n",
      "  |  |\n",
      "   \\-|   /-X3\n",
      "     |  |\n",
      "     |  |   /-J\n",
      "     |  |--|\n",
      "      \\-|  |   /-F\n",
      "        |   \\-|\n",
      "        |      \\-D\n",
      "        |\n",
      "         \\-C\n"
     ]
    }
   ],
   "source": [
    "print(part_tree)"
   ]
  },
  {
   "cell_type": "code",
   "execution_count": 24,
   "metadata": {},
   "outputs": [],
   "source": [
    "part_tree.show()"
   ]
  },
  {
   "cell_type": "code",
   "execution_count": null,
   "metadata": {},
   "outputs": [],
   "source": []
  },
  {
   "cell_type": "code",
   "execution_count": 1,
   "metadata": {},
   "outputs": [],
   "source": [
    "import sys\n",
    "from ete3 import PhyloTree\n",
    "\n",
    "sys.path.append('/home/mr/COVID19/sourse')\n",
    "from tree_pruner import (\n",
    "    metelki2singles, is_binary_tree, filter_parents, node_parent,\n",
    "    random_deletion_in_bifurcations, pruning\n",
    ")\n",
    "\n",
    "\n",
    "newick = \"../data/mulal_gisaid_2021-01-22.filtered.fasta.tre\"\n",
    "# t1 = PhyloTree(newick)\n",
    "# leaves = t1.get_leaves()\n",
    "# pre_leaves = list(set(map(lambda x: next(x.iter_ancestors()), leaves)))\n",
    "# len(leaves), len(pre_leaves)"
   ]
  },
  {
   "cell_type": "code",
   "execution_count": 2,
   "metadata": {},
   "outputs": [],
   "source": [
    "# pre_leaves[1].show()"
   ]
  },
  {
   "cell_type": "code",
   "execution_count": 7,
   "metadata": {},
   "outputs": [],
   "source": [
    "prtree, niter = pruning(newick)"
   ]
  },
  {
   "cell_type": "code",
   "execution_count": 8,
   "metadata": {},
   "outputs": [
    {
     "data": {
      "text/plain": [
       "(2, 49895)"
      ]
     },
     "execution_count": 8,
     "metadata": {},
     "output_type": "execute_result"
    }
   ],
   "source": [
    "niter, len(prtree)"
   ]
  },
  {
   "cell_type": "code",
   "execution_count": 10,
   "metadata": {},
   "outputs": [],
   "source": [
    "leaves = prtree.get_leaves()\n",
    "leaves_parents = set(map(node_parent, leaves))\n",
    "pre_leaves = filter_parents(leaves_parents)"
   ]
  },
  {
   "cell_type": "code",
   "execution_count": 17,
   "metadata": {},
   "outputs": [],
   "source": [
    "pre_leaves[290].show()"
   ]
  },
  {
   "cell_type": "code",
   "execution_count": null,
   "metadata": {},
   "outputs": [],
   "source": []
  },
  {
   "cell_type": "code",
   "execution_count": null,
   "metadata": {},
   "outputs": [],
   "source": []
  },
  {
   "cell_type": "code",
   "execution_count": null,
   "metadata": {},
   "outputs": [],
   "source": []
  },
  {
   "cell_type": "code",
   "execution_count": 1,
   "metadata": {},
   "outputs": [],
   "source": [
    "import sys\n",
    "\n",
    "from ete3 import PhyloTree\n",
    "import tqdm\n",
    "\n",
    "DEFAULT_TREE_FORMAT = 1\n",
    "\n",
    "\n",
    "def node_parent(node):\n",
    "    return next(node.iter_ancestors())\n",
    "\n",
    "\n",
    "path_to_newick = \"../data/mulal_gisaid_2021-01-22.filtered.fasta.tre\"\n",
    "tree = PhyloTree(path_to_newick, format=DEFAULT_TREE_FORMAT)\n",
    "leaves = tree.get_leaves()\n",
    "leaves_parents = set(map(node_parent, leaves))"
   ]
  },
  {
   "cell_type": "code",
   "execution_count": 11,
   "metadata": {},
   "outputs": [
    {
     "data": {
      "text/plain": [
       "164689"
      ]
     },
     "execution_count": 11,
     "metadata": {},
     "output_type": "execute_result"
    }
   ],
   "source": [
    "len(leaves)"
   ]
  },
  {
   "cell_type": "code",
   "execution_count": 8,
   "metadata": {},
   "outputs": [],
   "source": [
    "list(leaves_parents)[100].show()"
   ]
  },
  {
   "cell_type": "code",
   "execution_count": 11,
   "metadata": {},
   "outputs": [
    {
     "name": "stderr",
     "output_type": "stream",
     "text": [
      "100%|██████████| 85016/85016 [00:06<00:00, 12153.93it/s]\n"
     ]
    }
   ],
   "source": [
    "dists_to_leaves = []\n",
    "for parent_node in tqdm.tqdm(leaves_parents):\n",
    "    cur_leaves = []\n",
    "    for potential_leaf in parent_node.get_children():\n",
    "        if len(potential_leaf) == 1:\n",
    "            cur_leaves.append(potential_leaf)\n",
    "    if len(cur_leaves) == 1:\n",
    "        continue\n",
    "\n",
    "    dists_to_leaves.append([l.dist for l in cur_leaves])"
   ]
  },
  {
   "cell_type": "code",
   "execution_count": 12,
   "metadata": {},
   "outputs": [
    {
     "data": {
      "text/plain": [
       "[[0.0, 0.0, 0.0, 0.0, 0.0],\n",
       " [0.0, 0.0],\n",
       " [0.0, 0.0, 0.0],\n",
       " [0.0, 0.0],\n",
       " [0.0, 0.0, 0.0],\n",
       " [0.00055, 0.00055],\n",
       " [0.0, 0.0],\n",
       " [0.00055, 0.00055],\n",
       " [0.0, 0.0, 0.0, 0.0, 0.0],\n",
       " [0.00055, 0.00055]]"
      ]
     },
     "execution_count": 12,
     "metadata": {},
     "output_type": "execute_result"
    }
   ],
   "source": [
    "dists_to_leaves[:10]"
   ]
  },
  {
   "cell_type": "code",
   "execution_count": 18,
   "metadata": {},
   "outputs": [
    {
     "data": {
      "text/plain": [
       "63775.51020408163"
      ]
     },
     "execution_count": 18,
     "metadata": {},
     "output_type": "execute_result"
    }
   ],
   "source": [
    "# 50_000 - 78.4\n",
    "# x - 100\n",
    "\n",
    "50_000 * 100 / 78.4"
   ]
  },
  {
   "cell_type": "code",
   "execution_count": 19,
   "metadata": {},
   "outputs": [
    {
     "data": {
      "text/plain": [
       "54896.333333333336"
      ]
     },
     "execution_count": 19,
     "metadata": {},
     "output_type": "execute_result"
    }
   ],
   "source": [
    "len(tree) / 3"
   ]
  }
 ],
 "metadata": {
  "kernelspec": {
   "display_name": "Python 3",
   "language": "python",
   "name": "python3"
  },
  "language_info": {
   "codemirror_mode": {
    "name": "ipython",
    "version": 3
   },
   "file_extension": ".py",
   "mimetype": "text/x-python",
   "name": "python",
   "nbconvert_exporter": "python",
   "pygments_lexer": "ipython3",
   "version": "3.7.5"
  }
 },
 "nbformat": 4,
 "nbformat_minor": 2
}

{
 "cells": [
  {
   "cell_type": "code",
   "execution_count": 1,
   "id": "a2588a77",
   "metadata": {},
   "outputs": [],
   "source": [
    "import pandas as pd\n",
    "import matplotlib.pyplot as plt\n",
    "from Bio import SeqIO\n",
    "import tqdm\n",
    "\n",
    "import os\n",
    "from multiprocessing import Process, Pool\n",
    "import sys\n",
    "sys.path.append('../src/')\n",
    "\n",
    "from mutations_extractor_with_context import release_mutations_from_two_seqs"
   ]
  },
  {
   "cell_type": "code",
   "execution_count": 2,
   "id": "ee6fc852",
   "metadata": {},
   "outputs": [],
   "source": [
    "PATH_TO_MULAL = '../data/mulal.fasta'"
   ]
  },
  {
   "cell_type": "code",
   "execution_count": 3,
   "id": "a6b69685",
   "metadata": {},
   "outputs": [
    {
     "name": "stdout",
     "output_type": "stream",
     "text": [
      "CPU times: user 47.6 s, sys: 33.4 s, total: 1min 21s\n",
      "Wall time: 12min 55s\n"
     ]
    }
   ],
   "source": [
    "%%time\n",
    "\n",
    "reader = SeqIO.parse(PATH_TO_MULAL, 'fasta')\n",
    "ref = next(reader)\n",
    "\n",
    "\n",
    "def get_nums(rec):\n",
    "    mutations = release_mutations_from_two_seqs(ref.seq, rec.seq)\n",
    "    mut_num = len(mutations)\n",
    "    return mut_num\n",
    "\n",
    "\n",
    "threads = 24\n",
    "with Pool(threads) as p:\n",
    "    a = p.map(get_nums, reader)"
   ]
  },
  {
   "cell_type": "code",
   "execution_count": 4,
   "id": "b87c3672",
   "metadata": {},
   "outputs": [
    {
     "data": {
      "text/plain": [
       "1139387"
      ]
     },
     "execution_count": 4,
     "metadata": {},
     "output_type": "execute_result"
    }
   ],
   "source": [
    "len(a)"
   ]
  },
  {
   "cell_type": "code",
   "execution_count": 14,
   "id": "9752a0ad",
   "metadata": {},
   "outputs": [],
   "source": [
    "b = [x for x in a if x < 100]"
   ]
  },
  {
   "cell_type": "code",
   "execution_count": 15,
   "id": "116fdad7",
   "metadata": {},
   "outputs": [
    {
     "data": {
      "text/plain": [
       "1129204"
      ]
     },
     "execution_count": 15,
     "metadata": {},
     "output_type": "execute_result"
    }
   ],
   "source": [
    "len(b)"
   ]
  },
  {
   "cell_type": "code",
   "execution_count": 16,
   "id": "3ab74c28",
   "metadata": {},
   "outputs": [
    {
     "data": {
      "image/png": "[encoded data removed]",
      "text/plain": [
       "<Figure size 432x288 with 1 Axes>"
      ]
     },
     "metadata": {
      "needs_background": "light"
     },
     "output_type": "display_data"
    }
   ],
   "source": [
    "plt.hist(b, bins=100)\n",
    "plt.show()"
   ]
  },
  {
   "cell_type": "code",
   "execution_count": null,
   "id": "12677b6e",
   "metadata": {},
   "outputs": [],
   "source": []
  },
  {
   "cell_type": "code",
   "execution_count": null,
   "id": "ec304bbc",
   "metadata": {},
   "outputs": [],
   "source": []
  },
  {
   "cell_type": "code",
   "execution_count": null,
   "id": "49f87250",
   "metadata": {},
   "outputs": [],
   "source": []
  },
  {
   "cell_type": "code",
   "execution_count": null,
   "id": "f4a22c20",
   "metadata": {},
   "outputs": [],
   "source": []
  },
  {
   "cell_type": "code",
   "execution_count": 16,
   "id": "08ed2da1",
   "metadata": {},
   "outputs": [
    {
     "name": "stdout",
     "output_type": "stream",
     "text": [
      "5 doubled to 10 by process id: 9241210 doubled to 20 by process id: 92413\n",
      "\n",
      "15 doubled to 30 by process id: 92419\n",
      "20 doubled to 40 by process id: 92425\n",
      "25 doubled to 50 by process id: 92430\n"
     ]
    }
   ],
   "source": [
    "import os\n",
    "from multiprocessing import Process, Pool\n",
    "\n",
    "\n",
    "def doubler(number):\n",
    "    \"\"\"\n",
    "    Функция умножитель на два\n",
    "    \"\"\"\n",
    "    result = number * 2\n",
    "    proc = os.getpid()\n",
    "    print('{0} doubled to {1} by process id: {2}'.format(\n",
    "        number, result, proc))\n",
    " \n",
    " \n",
    "if __name__ == '__main__':\n",
    "    numbers = [5, 10, 15, 20, 25]\n",
    "    procs = []\n",
    "    \n",
    "    for index, number in enumerate(numbers):\n",
    "        proc = Process(target=doubler, args=(number,))\n",
    "        procs.append(proc)\n",
    "        proc.start()\n",
    "    \n",
    "    for proc in procs:\n",
    "        proc.join()"
   ]
  },
  {
   "cell_type": "code",
   "execution_count": 17,
   "id": "6a3af872",
   "metadata": {},
   "outputs": [
    {
     "name": "stdout",
     "output_type": "stream",
     "text": [
      "[1, 4, 9]\n"
     ]
    }
   ],
   "source": [
    "def f(x):\n",
    "    return x*x\n",
    "\n",
    "if __name__ == '__main__':\n",
    "    with Pool(5) as p:\n",
    "        print(p.map(f, [1, 2, 3]))"
   ]
  },
  {
   "cell_type": "code",
   "execution_count": null,
   "id": "9dd945ec",
   "metadata": {},
   "outputs": [],
   "source": []
  }
 ],
 "metadata": {
  "kernelspec": {
   "display_name": "Python 3 (ipykernel)",
   "language": "python",
   "name": "python3"
  },
  "language_info": {
   "codemirror_mode": {
    "name": "ipython",
    "version": 3
   },
   "file_extension": ".py",
   "mimetype": "text/x-python",
   "name": "python",
   "nbconvert_exporter": "python",
   "pygments_lexer": "ipython3",
   "version": "3.9.5"
  }
 },
 "nbformat": 4,
 "nbformat_minor": 5
}

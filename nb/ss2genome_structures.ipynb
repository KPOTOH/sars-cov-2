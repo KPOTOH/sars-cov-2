{
 "cells": [
  {
   "cell_type": "code",
   "execution_count": 1,
   "id": "korean-andrew",
   "metadata": {
    "ExecuteTime": {
     "end_time": "2021-06-05T13:29:56.569607Z",
     "start_time": "2021-06-05T13:29:54.636375Z"
    }
   },
   "outputs": [],
   "source": [
    "from collections import defaultdict\n",
    "import json\n",
    "import os\n",
    "import sys\n",
    "import time\n",
    "\n",
    "# from scipy.stats import mannwhitneyu\n",
    "import numpy as np\n",
    "# import networkx as nx\n",
    "import pandas as pd\n",
    "import matplotlib.pyplot as plt\n",
    "# from ete3 import PhyloTree\n",
    "from rna_tools.SecondaryStructure import parse_vienna_to_pairs\n",
    "import seaborn as sns\n",
    "\n",
    "sys.path.append('../src/')\n",
    "# from mutations_extractor import get_sequence, node_parent, read_fasta_generator\n",
    "from utils import get_sequence, node_parent, read_fasta_generator, read_ss_file"
   ]
  },
  {
   "cell_type": "code",
   "execution_count": 2,
   "id": "ranking-garage",
   "metadata": {
    "ExecuteTime": {
     "end_time": "2021-06-05T13:29:56.577641Z",
     "start_time": "2021-06-05T13:29:56.573456Z"
    }
   },
   "outputs": [],
   "source": [
    "# https://stackoverflow.com/questions/46768859/how-to-change-the-default-colors-for-multiple-plots-in-matplotlib\n",
    "\n",
    "import matplotlib.pyplot as plt\n",
    "# to change default colormap\n",
    "plt.rcParams[\"image.cmap\"] = \"Greys\"\n",
    "# to change default color cycle\n",
    "# plt.rcParams['axes.prop_cycle'] = plt.cycler(color=plt.cm.Set1.colors)"
   ]
  },
  {
   "cell_type": "code",
   "execution_count": null,
   "id": "wireless-tobacco",
   "metadata": {},
   "outputs": [],
   "source": []
  },
  {
   "cell_type": "code",
   "execution_count": 3,
   "id": "bigger-artwork",
   "metadata": {
    "ExecuteTime": {
     "end_time": "2021-06-05T13:29:56.605455Z",
     "start_time": "2021-06-05T13:29:56.581503Z"
    }
   },
   "outputs": [],
   "source": [
    "REFSEQ_PATH = \"../data/covid_ref.fasta\"\n",
    "SUBSTITUTIONS_PATH = \"../data/overall_mutations_2.json\"\n",
    "# SEC_STRUCT_PATH_v1 = \"../data/structure_data/SARSCoV2-RNA.ss\"\n",
    "# SEC_STRUCT_PATH_from_site = \"../data/structure_data/SARSCoV2-RNA_from_site_0based.ss\"\n",
    "SEC_STRUCT_PATH = \"../data/structure_data/SARSCoV2-RNA_from_site_plus_0based_with_URTs.ss\"\n",
    "MUTSPEC_TABLE_PATH = '../data/ideal_table_of_sasha.csv'"
   ]
  },
  {
   "cell_type": "code",
   "execution_count": 4,
   "id": "certified-citation",
   "metadata": {
    "ExecuteTime": {
     "end_time": "2021-06-05T13:29:56.629802Z",
     "start_time": "2021-06-05T13:29:56.607544Z"
    }
   },
   "outputs": [
    {
     "data": {
      "text/plain": [
       "29903"
      ]
     },
     "execution_count": 4,
     "metadata": {},
     "output_type": "execute_result"
    }
   ],
   "source": [
    "refseq = next(read_fasta_generator(REFSEQ_PATH))[1].replace('\\n', '')\n",
    "len(refseq)"
   ]
  },
  {
   "cell_type": "code",
   "execution_count": 5,
   "id": "similar-equipment",
   "metadata": {
    "ExecuteTime": {
     "end_time": "2021-06-05T13:29:56.671788Z",
     "start_time": "2021-06-05T13:29:56.632131Z"
    },
    "scrolled": true
   },
   "outputs": [
    {
     "name": "stdout",
     "output_type": "stream",
     "text": [
      "('>motif_0-299', 0, 299, [(6, 32), (7, 31), (8, 30), (9, 29), (10, 28), (12, 25), (13, 24), (14, 23), (15, 22), (16, 21), (44, 58), (45, 57), (46, 56), (47, 55), (48, 54), (60, 74), (61, 73), (62, 72), (63, 71), (83, 126), (84, 125), (85, 124), (86, 123), (87, 122), (88, 121), (89, 120), (90, 119), (92, 117), (93, 116), (95, 115), (96, 114), (97, 113), (98, 112), (100, 110), (101, 109), (102, 108), (129, 145), (130, 144), (131, 143), (132, 142), (133, 141), (134, 140), (149, 293), (150, 292), (151, 291), (152, 290), (153, 289), (154, 288), (155, 287), (156, 283), (157, 282), (158, 281), (159, 280), (162, 278), (163, 277), (164, 276), (165, 275), (166, 274), (170, 272), (171, 271), (172, 270), (174, 269), (175, 268), (176, 267), (177, 266), (178, 265), (179, 264), (180, 263), (181, 262), (182, 226), (183, 225), (184, 224), (187, 217), (188, 216), (189, 215), (190, 214), (191, 213), (192, 212), (194, 209), (195, 208), (196, 207), (197, 206), (198, 205), (227, 251), (228, 250), (229, 249), (230, 248), (231, 247), (232, 246), (233, 245), (235, 244), (236, 243), (252, 261), (253, 260), (254, 259)], {6: 32, 7: 31, 8: 30, 9: 29, 10: 28, 12: 25, 13: 24, 14: 23, 15: 22, 16: 21, 44: 58, 45: 57, 46: 56, 47: 55, 48: 54, 60: 74, 61: 73, 62: 72, 63: 71, 83: 126, 84: 125, 85: 124, 86: 123, 87: 122, 88: 121, 89: 120, 90: 119, 92: 117, 93: 116, 95: 115, 96: 114, 97: 113, 98: 112, 100: 110, 101: 109, 102: 108, 129: 145, 130: 144, 131: 143, 132: 142, 133: 141, 134: 140, 149: 293, 150: 292, 151: 291, 152: 290, 153: 289, 154: 288, 155: 287, 156: 283, 157: 282, 158: 281, 159: 280, 162: 278, 163: 277, 164: 276, 165: 275, 166: 274, 170: 272, 171: 271, 172: 270, 174: 269, 175: 268, 176: 267, 177: 266, 178: 265, 179: 264, 180: 263, 181: 262, 182: 226, 183: 225, 184: 224, 187: 217, 188: 216, 189: 215, 190: 214, 191: 213, 192: 212, 194: 209, 195: 208, 196: 207, 197: 206, 198: 205, 227: 251, 228: 250, 229: 249, 230: 248, 231: 247, 232: 246, 233: 245, 235: 244, 236: 243, 252: 261, 253: 260, 254: 259, 32: 6, 31: 7, 30: 8, 29: 9, 28: 10, 25: 12, 24: 13, 23: 14, 22: 15, 21: 16, 58: 44, 57: 45, 56: 46, 55: 47, 54: 48, 74: 60, 73: 61, 72: 62, 71: 63, 126: 83, 125: 84, 124: 85, 123: 86, 122: 87, 121: 88, 120: 89, 119: 90, 117: 92, 116: 93, 115: 95, 114: 96, 113: 97, 112: 98, 110: 100, 109: 101, 108: 102, 145: 129, 144: 130, 143: 131, 142: 132, 141: 133, 140: 134, 293: 149, 292: 150, 291: 151, 290: 152, 289: 153, 288: 154, 287: 155, 283: 156, 282: 157, 281: 158, 280: 159, 278: 162, 277: 163, 276: 164, 275: 165, 274: 166, 272: 170, 271: 171, 270: 172, 269: 174, 268: 175, 267: 176, 266: 177, 265: 178, 264: 179, 263: 180, 262: 181, 226: 182, 225: 183, 224: 184, 217: 187, 216: 188, 215: 189, 214: 190, 213: 191, 212: 192, 209: 194, 208: 195, 207: 196, 206: 197, 205: 198, 251: 227, 250: 228, 249: 229, 248: 230, 247: 231, 246: 232, 245: 233, 244: 235, 243: 236, 261: 252, 260: 253, 259: 254}, [0, 0, 0, 0, 0, 0, 1, 1, 1, 1, 1, 3, 1, 1, 1, 1, 1, 2, 2, 2, 2, 1, 1, 1, 1, 1, 3, 3, 1, 1, 1, 1, 1, 0, 0, 0, 0, 0, 0, 0, 0, 0, 0, 0, 1, 1, 1, 1, 1, 2, 2, 2, 2, 2, 1, 1, 1, 1, 1, 0, 1, 1, 1, 1, 2, 2, 2, 2, 2, 2, 2, 1, 1, 1, 1, 0, 0, 0, 0, 0, 0, 0, 0, 1, 1, 1, 1, 1, 1, 1, 1, 3, 1, 1, 3, 1, 1, 1, 1, 3, 1, 1, 1, 2, 2, 2, 2, 2, 1, 1, 1, 3, 1, 1, 1, 1, 1, 1, 3, 1, 1, 1, 1, 1, 1, 1, 1, 0, 0, 1, 1, 1, 1, 1, 1, 2, 2, 2, 2, 2, 1, 1, 1, 1, 1, 1, 0, 0, 0, 1, 1, 1, 1, 1, 1, 1, 1, 1, 1, 1, 3, 3, 1, 1, 1, 1, 1, 3, 3, 3, 1, 1, 1, 3, 1, 1, 1, 1, 1, 1, 1, 1, 1, 1, 1, 3, 3, 1, 1, 1, 1, 1, 1, 3, 1, 1, 1, 1, 1, 2, 2, 2, 2, 2, 2, 1, 1, 1, 1, 1, 3, 3, 1, 1, 1, 1, 1, 1, 3, 3, 3, 3, 3, 3, 1, 1, 1, 1, 1, 1, 1, 1, 1, 1, 3, 1, 1, 2, 2, 2, 2, 2, 2, 1, 1, 1, 1, 1, 1, 1, 1, 1, 1, 1, 1, 2, 2, 2, 2, 1, 1, 1, 1, 1, 1, 1, 1, 1, 1, 1, 1, 1, 1, 3, 1, 1, 1, 1, 1, 3, 1, 1, 1, 1, 3, 3, 3, 1, 1, 1, 1, 1, 1, 1, 0, 0, 0, 0, 0, 0], '......(((((.(((((....)))))..)))))...........(((((.....))))).((((.......))))........((((((((.((.((((.(((.....))).)))))).))))))))..((((((.....))))))...(((((((((((..(((((...(((.(((((((((((..((((((.(((((......)))))..))))))......)))(((((((.((......)))))))))(((....)))))))))))))).))))).))))...)))))))......')\n"
     ]
    }
   ],
   "source": [
    "ss_clusters = read_ss_file(SEC_STRUCT_PATH)\n",
    "# ss_clusters = read_ss_file(SEC_STRUCT_PATH_v1)\n",
    "print(ss_clusters[0])"
   ]
  },
  {
   "cell_type": "code",
   "execution_count": 6,
   "id": "lucky-understanding",
   "metadata": {
    "ExecuteTime": {
     "end_time": "2021-06-05T13:29:56.739399Z",
     "start_time": "2021-06-05T13:29:56.675011Z"
    }
   },
   "outputs": [],
   "source": [
    "# df = ideal_table.groupby(\"Pos\")[[\"RefNuc\", \"GenName\"]].max().reset_index()\n",
    "df = pd.read_csv('../data/genes_annotation.csv')"
   ]
  },
  {
   "cell_type": "markdown",
   "id": "fitting-treatment",
   "metadata": {},
   "source": [
    "# Типы вторички считаются неверно!!!\n",
    "Поэтому проверяем is_stem"
   ]
  },
  {
   "cell_type": "code",
   "execution_count": 7,
   "id": "attached-reviewer",
   "metadata": {
    "ExecuteTime": {
     "end_time": "2021-06-05T13:29:56.755357Z",
     "start_time": "2021-06-05T13:29:56.742795Z"
    }
   },
   "outputs": [],
   "source": [
    "genome_is_stem = defaultdict(int)\n",
    "genome_ss_pairs = defaultdict(lambda: None)\n",
    "\n",
    "for j in range(len(ss_clusters)):\n",
    "    cur_ss = ss_clusters[j]\n",
    "    start, stop = cur_ss[1:3]\n",
    "    types = cur_ss[5]\n",
    "    pairs_dct = cur_ss[4]\n",
    "\n",
    "    for i in range(start, stop + 1):\n",
    "        ss_idx = i - start\n",
    "        genome_is_stem[i] = 0\n",
    "        if types[ss_idx] == 1:\n",
    "            genome_is_stem[i] = 1\n",
    "            genome_ss_pairs[i] = pairs_dct[ss_idx] + start"
   ]
  },
  {
   "cell_type": "code",
   "execution_count": 8,
   "id": "smart-vegetation",
   "metadata": {
    "ExecuteTime": {
     "end_time": "2021-06-05T13:29:56.809649Z",
     "start_time": "2021-06-05T13:29:56.759487Z"
    }
   },
   "outputs": [],
   "source": [
    "df['IsStem'] = pd.Series(genome_is_stem)\n",
    "df['SsPairs'] = pd.Series(genome_ss_pairs)"
   ]
  },
  {
   "cell_type": "code",
   "execution_count": 9,
   "id": "nonprofit-process",
   "metadata": {
    "ExecuteTime": {
     "end_time": "2021-06-05T13:29:56.834228Z",
     "start_time": "2021-06-05T13:29:56.813073Z"
    }
   },
   "outputs": [
    {
     "data": {
      "text/html": [
       "<div>\n",
       "<style scoped>\n",
       "    .dataframe tbody tr th:only-of-type {\n",
       "        vertical-align: middle;\n",
       "    }\n",
       "\n",
       "    .dataframe tbody tr th {\n",
       "        vertical-align: top;\n",
       "    }\n",
       "\n",
       "    .dataframe thead th {\n",
       "        text-align: right;\n",
       "    }\n",
       "</style>\n",
       "<table border=\"1\" class=\"dataframe\">\n",
       "  <thead>\n",
       "    <tr style=\"text-align: right;\">\n",
       "      <th></th>\n",
       "      <th>Pos</th>\n",
       "      <th>RefNuc</th>\n",
       "      <th>GenName</th>\n",
       "      <th>IsStem</th>\n",
       "      <th>SsPairs</th>\n",
       "    </tr>\n",
       "  </thead>\n",
       "  <tbody>\n",
       "    <tr>\n",
       "      <th>600</th>\n",
       "      <td>601</td>\n",
       "      <td>C</td>\n",
       "      <td>ORF1ab</td>\n",
       "      <td>1.0</td>\n",
       "      <td>586.0</td>\n",
       "    </tr>\n",
       "    <tr>\n",
       "      <th>601</th>\n",
       "      <td>602</td>\n",
       "      <td>G</td>\n",
       "      <td>ORF1ab</td>\n",
       "      <td>1.0</td>\n",
       "      <td>585.0</td>\n",
       "    </tr>\n",
       "    <tr>\n",
       "      <th>602</th>\n",
       "      <td>603</td>\n",
       "      <td>A</td>\n",
       "      <td>ORF1ab</td>\n",
       "      <td>1.0</td>\n",
       "      <td>584.0</td>\n",
       "    </tr>\n",
       "    <tr>\n",
       "      <th>603</th>\n",
       "      <td>604</td>\n",
       "      <td>A</td>\n",
       "      <td>ORF1ab</td>\n",
       "      <td>0.0</td>\n",
       "      <td>NaN</td>\n",
       "    </tr>\n",
       "    <tr>\n",
       "      <th>604</th>\n",
       "      <td>605</td>\n",
       "      <td>A</td>\n",
       "      <td>ORF1ab</td>\n",
       "      <td>1.0</td>\n",
       "      <td>581.0</td>\n",
       "    </tr>\n",
       "  </tbody>\n",
       "</table>\n",
       "</div>"
      ],
      "text/plain": [
       "     Pos RefNuc GenName  IsStem  SsPairs\n",
       "600  601      C  ORF1ab     1.0    586.0\n",
       "601  602      G  ORF1ab     1.0    585.0\n",
       "602  603      A  ORF1ab     1.0    584.0\n",
       "603  604      A  ORF1ab     0.0      NaN\n",
       "604  605      A  ORF1ab     1.0    581.0"
      ]
     },
     "execution_count": 9,
     "metadata": {},
     "output_type": "execute_result"
    }
   ],
   "source": [
    "i = 600\n",
    "df[i: i + 5]"
   ]
  },
  {
   "cell_type": "code",
   "execution_count": 10,
   "id": "functioning-physiology",
   "metadata": {
    "ExecuteTime": {
     "end_time": "2021-06-05T13:29:56.883213Z",
     "start_time": "2021-06-05T13:29:56.839571Z"
    }
   },
   "outputs": [],
   "source": [
    "# check if ss_pairs is not nan only where ss_type == 1\n",
    "assert ~np.any(df[df.IsStem == 1].SsPairs.isna())\n",
    "assert np.any(df[df.IsStem != 1].SsPairs.isna())"
   ]
  },
  {
   "cell_type": "code",
   "execution_count": 11,
   "id": "scenic-filter",
   "metadata": {
    "ExecuteTime": {
     "end_time": "2021-06-05T13:29:56.892212Z",
     "start_time": "2021-06-05T13:29:56.885974Z"
    }
   },
   "outputs": [],
   "source": [
    "# df.to_csv(\"../data/secondary_structure_on_genome.csv\", index=None)"
   ]
  },
  {
   "cell_type": "code",
   "execution_count": 12,
   "id": "criminal-saying",
   "metadata": {
    "ExecuteTime": {
     "end_time": "2021-06-05T13:29:56.923158Z",
     "start_time": "2021-06-05T13:29:56.896936Z"
    }
   },
   "outputs": [],
   "source": [
    "gr = df.groupby(\"IsStem\")"
   ]
  },
  {
   "cell_type": "code",
   "execution_count": 13,
   "id": "proprietary-leone",
   "metadata": {
    "ExecuteTime": {
     "end_time": "2021-06-05T13:29:57.615897Z",
     "start_time": "2021-06-05T13:29:56.925965Z"
    }
   },
   "outputs": [
    {
     "data": {
      "image/png": "[encoded data removed]",
      "text/plain": [
       "<Figure size 864x432 with 1 Axes>"
      ]
     },
     "metadata": {
      "needs_background": "light"
     },
     "output_type": "display_data"
    }
   ],
   "source": [
    "# https://matplotlib.org/stable/gallery/lines_bars_and_markers/barchart.html\n",
    "\n",
    "# labels = (gr.get_group(0).GenName.value_counts() /\n",
    "#           df.GenName.value_counts()).index\n",
    "labels = [\n",
    "    'ORF1ab', 'S', 'ORF3a', 'E', 'M', 'ORF6', 'ORF7a', 'ORF7b',\n",
    "    'ORF8', 'N', 'ORF10', '5UTR', '3UTR', \n",
    "#     'ORF1ab-S_space', \n",
    "    'S-ORF3a_space','ORF3a-E_space', \n",
    "#     'E-M_space', 'M-ORF6_space', 'ORF6-ORF7a_space',\n",
    "#     'ORF7a-ORF7b_overlay', 'ORF7b-ORF8_space', 'ORF8-N_space', \n",
    "    'N-ORF10_space',\n",
    "]\n",
    "ss_structures = [\n",
    "    \"Неспаренные\",\n",
    "    \"Спаренные\", \n",
    "]\n",
    "colors = [\n",
    "    'lightgray',\n",
    "    'black',\n",
    "]\n",
    "\n",
    "\n",
    "# на что нормировать? На полную длину гена/негена или только на ту длину, для которой есть вторичка???\n",
    "values = [(gr.get_group(i).GenName.value_counts() /\n",
    "           df.GenName.value_counts())[labels].values for i in range(gr.ngroups)]\n",
    "\n",
    "x = np.arange(len(labels))  # the label locations\n",
    "width = 0.25  # the width of the bars\n",
    "\n",
    "fig, ax = plt.subplots(figsize=(12, 6))\n",
    "\n",
    "collection_of_rects = []\n",
    "for i, v in enumerate(values):\n",
    "    rects = ax.bar(x + (-1)**i * width / 2 , v, width, \n",
    "                   label=ss_structures[i], color=colors[i], edgecolor='k')\n",
    "#     rects1 = ax.bar(x - width/2, men_means, width, label='Men')\n",
    "    collection_of_rects.append(rects)\n",
    "\n",
    "# Add some text for labels, title and custom x-axis tick labels, etc.\n",
    "ax.set_ylabel('Доля позиций с известной\\nвторичной структурой', fontsize=14)\n",
    "ax.set_xlabel(\"Элементы генома\", fontsize=14)\n",
    "# ax.set_title('Amount of nucleotides in stem or not across all genome structures')\n",
    "ax.set_xticks(x)\n",
    "\n",
    "nice_labels = [\n",
    "    x.replace('-', ' - ').replace('_space', '\\nмежген.') if 'space' in x else x for x in labels\n",
    "]\n",
    "\n",
    "ax.set_xticklabels(nice_labels, rotation=65, fontsize=14)\n",
    "ax.legend(fontsize=14)  # loc='upper right'\n",
    "\n",
    "\n",
    "def autolabel(rects):\n",
    "    \"\"\"Attach a text label above each bar in *rects*, displaying its height.\"\"\"\n",
    "    for rect in rects:\n",
    "        height = rect.get_height()\n",
    "        ax.annotate('{:.2f}'.format(height),\n",
    "                    xy=(rect.get_x() + rect.get_width() / 2, height),\n",
    "                    xytext=(8, 3),  # 3 points vertical offset\n",
    "                    textcoords=\"offset points\",\n",
    "                    ha='center', va='bottom')\n",
    "\n",
    "for r in collection_of_rects:\n",
    "    autolabel(r)\n",
    "\n",
    "fig.tight_layout()\n",
    "\n",
    "plt.show()"
   ]
  },
  {
   "cell_type": "code",
   "execution_count": null,
   "id": "tribal-treat",
   "metadata": {},
   "outputs": [],
   "source": []
  },
  {
   "cell_type": "code",
   "execution_count": 14,
   "id": "satellite-median",
   "metadata": {
    "ExecuteTime": {
     "end_time": "2021-06-05T13:29:57.669487Z",
     "start_time": "2021-06-05T13:29:57.618174Z"
    }
   },
   "outputs": [
    {
     "data": {
      "text/html": [
       "<div>\n",
       "<style scoped>\n",
       "    .dataframe tbody tr th:only-of-type {\n",
       "        vertical-align: middle;\n",
       "    }\n",
       "\n",
       "    .dataframe tbody tr th {\n",
       "        vertical-align: top;\n",
       "    }\n",
       "\n",
       "    .dataframe thead th {\n",
       "        text-align: right;\n",
       "    }\n",
       "</style>\n",
       "<table border=\"1\" class=\"dataframe\">\n",
       "  <thead>\n",
       "    <tr style=\"text-align: right;\">\n",
       "      <th></th>\n",
       "      <th>Pos</th>\n",
       "      <th>RefNuc</th>\n",
       "      <th>GenName</th>\n",
       "      <th>IsStem</th>\n",
       "      <th>SsPairs</th>\n",
       "      <th>NSubst</th>\n",
       "      <th>IsTRS</th>\n",
       "    </tr>\n",
       "  </thead>\n",
       "  <tbody>\n",
       "    <tr>\n",
       "      <th>0</th>\n",
       "      <td>1</td>\n",
       "      <td>A</td>\n",
       "      <td>5UTR</td>\n",
       "      <td>NaN</td>\n",
       "      <td>NaN</td>\n",
       "      <td>89</td>\n",
       "      <td>0</td>\n",
       "    </tr>\n",
       "    <tr>\n",
       "      <th>1</th>\n",
       "      <td>2</td>\n",
       "      <td>T</td>\n",
       "      <td>5UTR</td>\n",
       "      <td>NaN</td>\n",
       "      <td>NaN</td>\n",
       "      <td>122</td>\n",
       "      <td>0</td>\n",
       "    </tr>\n",
       "  </tbody>\n",
       "</table>\n",
       "</div>"
      ],
      "text/plain": [
       "   Pos RefNuc GenName  IsStem  SsPairs  NSubst  IsTRS\n",
       "0    1      A    5UTR     NaN      NaN      89      0\n",
       "1    2      T    5UTR     NaN      NaN     122      0"
      ]
     },
     "execution_count": 14,
     "metadata": {},
     "output_type": "execute_result"
    }
   ],
   "source": [
    "annot = pd.read_csv('../data/gemone_structures_annot.csv')\n",
    "annot.head(2)"
   ]
  },
  {
   "cell_type": "markdown",
   "id": "eastern-bidder",
   "metadata": {},
   "source": [
    "Add known stems"
   ]
  },
  {
   "cell_type": "code",
   "execution_count": 15,
   "id": "breeding-duration",
   "metadata": {
    "ExecuteTime": {
     "end_time": "2021-06-05T13:29:57.684111Z",
     "start_time": "2021-06-05T13:29:57.672997Z"
    }
   },
   "outputs": [],
   "source": [
    "annot['IsStem'] = df.IsStem\n",
    "annot['SsPairs'] = df.SsPairs\n",
    "annot['IsRS'] = 0\n",
    "\n",
    "# RS of 3'UTR\n",
    "annot.loc[29533+73:29533+79, 'IsRS'] = 1  # stem\n",
    "annot.loc[29533+105:29533+113, 'IsRS'] = 1  # loop\n",
    "\n",
    "# RS of 5'UTR\n",
    "annot.loc[28:28+4, 'IsRS'] = 1  # stem\n",
    "annot.loc[49:49+4, 'IsRS'] = 1  # tetraloop\n",
    "\n",
    "# annot.to_csv('../data/gemone_structures_annot_with_UTRs.csv', index=None)"
   ]
  },
  {
   "cell_type": "code",
   "execution_count": 18,
   "id": "placed-cache",
   "metadata": {
    "ExecuteTime": {
     "end_time": "2021-06-05T13:30:38.144461Z",
     "start_time": "2021-06-05T13:30:38.114989Z"
    }
   },
   "outputs": [
    {
     "data": {
      "text/html": [
       "<div>\n",
       "<style scoped>\n",
       "    .dataframe tbody tr th:only-of-type {\n",
       "        vertical-align: middle;\n",
       "    }\n",
       "\n",
       "    .dataframe tbody tr th {\n",
       "        vertical-align: top;\n",
       "    }\n",
       "\n",
       "    .dataframe thead th {\n",
       "        text-align: right;\n",
       "    }\n",
       "</style>\n",
       "<table border=\"1\" class=\"dataframe\">\n",
       "  <thead>\n",
       "    <tr style=\"text-align: right;\">\n",
       "      <th></th>\n",
       "      <th>Pos</th>\n",
       "      <th>RefNuc</th>\n",
       "      <th>GenName</th>\n",
       "      <th>IsStem</th>\n",
       "      <th>SsPairs</th>\n",
       "      <th>NSubst</th>\n",
       "      <th>IsTRS</th>\n",
       "      <th>IsRS</th>\n",
       "    </tr>\n",
       "  </thead>\n",
       "  <tbody>\n",
       "    <tr>\n",
       "      <th>28</th>\n",
       "      <td>29</td>\n",
       "      <td>A</td>\n",
       "      <td>5UTR</td>\n",
       "      <td>1.0</td>\n",
       "      <td>10.0</td>\n",
       "      <td>121</td>\n",
       "      <td>0</td>\n",
       "      <td>1</td>\n",
       "    </tr>\n",
       "    <tr>\n",
       "      <th>29</th>\n",
       "      <td>30</td>\n",
       "      <td>A</td>\n",
       "      <td>5UTR</td>\n",
       "      <td>1.0</td>\n",
       "      <td>9.0</td>\n",
       "      <td>226</td>\n",
       "      <td>0</td>\n",
       "      <td>1</td>\n",
       "    </tr>\n",
       "    <tr>\n",
       "      <th>30</th>\n",
       "      <td>31</td>\n",
       "      <td>A</td>\n",
       "      <td>5UTR</td>\n",
       "      <td>1.0</td>\n",
       "      <td>8.0</td>\n",
       "      <td>247</td>\n",
       "      <td>0</td>\n",
       "      <td>1</td>\n",
       "    </tr>\n",
       "    <tr>\n",
       "      <th>31</th>\n",
       "      <td>32</td>\n",
       "      <td>C</td>\n",
       "      <td>5UTR</td>\n",
       "      <td>1.0</td>\n",
       "      <td>7.0</td>\n",
       "      <td>59</td>\n",
       "      <td>0</td>\n",
       "      <td>1</td>\n",
       "    </tr>\n",
       "    <tr>\n",
       "      <th>32</th>\n",
       "      <td>33</td>\n",
       "      <td>C</td>\n",
       "      <td>5UTR</td>\n",
       "      <td>1.0</td>\n",
       "      <td>6.0</td>\n",
       "      <td>63</td>\n",
       "      <td>0</td>\n",
       "      <td>1</td>\n",
       "    </tr>\n",
       "    <tr>\n",
       "      <th>29606</th>\n",
       "      <td>29607</td>\n",
       "      <td>T</td>\n",
       "      <td>ORF10</td>\n",
       "      <td>1.0</td>\n",
       "      <td>29553.0</td>\n",
       "      <td>27</td>\n",
       "      <td>0</td>\n",
       "      <td>1</td>\n",
       "    </tr>\n",
       "    <tr>\n",
       "      <th>29607</th>\n",
       "      <td>29608</td>\n",
       "      <td>C</td>\n",
       "      <td>ORF10</td>\n",
       "      <td>1.0</td>\n",
       "      <td>29552.0</td>\n",
       "      <td>0</td>\n",
       "      <td>0</td>\n",
       "      <td>1</td>\n",
       "    </tr>\n",
       "    <tr>\n",
       "      <th>29608</th>\n",
       "      <td>29609</td>\n",
       "      <td>T</td>\n",
       "      <td>ORF10</td>\n",
       "      <td>1.0</td>\n",
       "      <td>29551.0</td>\n",
       "      <td>8</td>\n",
       "      <td>0</td>\n",
       "      <td>1</td>\n",
       "    </tr>\n",
       "    <tr>\n",
       "      <th>29609</th>\n",
       "      <td>29610</td>\n",
       "      <td>T</td>\n",
       "      <td>ORF10</td>\n",
       "      <td>1.0</td>\n",
       "      <td>29550.0</td>\n",
       "      <td>0</td>\n",
       "      <td>0</td>\n",
       "      <td>1</td>\n",
       "    </tr>\n",
       "    <tr>\n",
       "      <th>29610</th>\n",
       "      <td>29611</td>\n",
       "      <td>G</td>\n",
       "      <td>ORF10</td>\n",
       "      <td>1.0</td>\n",
       "      <td>29549.0</td>\n",
       "      <td>0</td>\n",
       "      <td>0</td>\n",
       "      <td>1</td>\n",
       "    </tr>\n",
       "    <tr>\n",
       "      <th>29611</th>\n",
       "      <td>29612</td>\n",
       "      <td>T</td>\n",
       "      <td>ORF10</td>\n",
       "      <td>1.0</td>\n",
       "      <td>29548.0</td>\n",
       "      <td>0</td>\n",
       "      <td>0</td>\n",
       "      <td>1</td>\n",
       "    </tr>\n",
       "    <tr>\n",
       "      <th>29612</th>\n",
       "      <td>29613</td>\n",
       "      <td>G</td>\n",
       "      <td>ORF10</td>\n",
       "      <td>1.0</td>\n",
       "      <td>29547.0</td>\n",
       "      <td>4</td>\n",
       "      <td>0</td>\n",
       "      <td>1</td>\n",
       "    </tr>\n",
       "    <tr>\n",
       "      <th>29638</th>\n",
       "      <td>29639</td>\n",
       "      <td>G</td>\n",
       "      <td>ORF10</td>\n",
       "      <td>1.0</td>\n",
       "      <td>29645.0</td>\n",
       "      <td>13</td>\n",
       "      <td>0</td>\n",
       "      <td>1</td>\n",
       "    </tr>\n",
       "    <tr>\n",
       "      <th>29639</th>\n",
       "      <td>29640</td>\n",
       "      <td>C</td>\n",
       "      <td>ORF10</td>\n",
       "      <td>1.0</td>\n",
       "      <td>29644.0</td>\n",
       "      <td>130</td>\n",
       "      <td>0</td>\n",
       "      <td>1</td>\n",
       "    </tr>\n",
       "    <tr>\n",
       "      <th>29644</th>\n",
       "      <td>29645</td>\n",
       "      <td>G</td>\n",
       "      <td>ORF10</td>\n",
       "      <td>1.0</td>\n",
       "      <td>29639.0</td>\n",
       "      <td>202</td>\n",
       "      <td>0</td>\n",
       "      <td>1</td>\n",
       "    </tr>\n",
       "    <tr>\n",
       "      <th>29645</th>\n",
       "      <td>29646</td>\n",
       "      <td>T</td>\n",
       "      <td>ORF10</td>\n",
       "      <td>1.0</td>\n",
       "      <td>29638.0</td>\n",
       "      <td>1</td>\n",
       "      <td>0</td>\n",
       "      <td>1</td>\n",
       "    </tr>\n",
       "  </tbody>\n",
       "</table>\n",
       "</div>"
      ],
      "text/plain": [
       "         Pos RefNuc GenName  IsStem  SsPairs  NSubst  IsTRS  IsRS\n",
       "28        29      A    5UTR     1.0     10.0     121      0     1\n",
       "29        30      A    5UTR     1.0      9.0     226      0     1\n",
       "30        31      A    5UTR     1.0      8.0     247      0     1\n",
       "31        32      C    5UTR     1.0      7.0      59      0     1\n",
       "32        33      C    5UTR     1.0      6.0      63      0     1\n",
       "29606  29607      T   ORF10     1.0  29553.0      27      0     1\n",
       "29607  29608      C   ORF10     1.0  29552.0       0      0     1\n",
       "29608  29609      T   ORF10     1.0  29551.0       8      0     1\n",
       "29609  29610      T   ORF10     1.0  29550.0       0      0     1\n",
       "29610  29611      G   ORF10     1.0  29549.0       0      0     1\n",
       "29611  29612      T   ORF10     1.0  29548.0       0      0     1\n",
       "29612  29613      G   ORF10     1.0  29547.0       4      0     1\n",
       "29638  29639      G   ORF10     1.0  29645.0      13      0     1\n",
       "29639  29640      C   ORF10     1.0  29644.0     130      0     1\n",
       "29644  29645      G   ORF10     1.0  29639.0     202      0     1\n",
       "29645  29646      T   ORF10     1.0  29638.0       1      0     1"
      ]
     },
     "execution_count": 18,
     "metadata": {},
     "output_type": "execute_result"
    }
   ],
   "source": [
    "annot[(annot.IsRS == 1) & (annot.IsStem == 1)]"
   ]
  },
  {
   "cell_type": "code",
   "execution_count": null,
   "id": "sorted-ribbon",
   "metadata": {},
   "outputs": [],
   "source": []
  },
  {
   "cell_type": "markdown",
   "id": "liberal-customs",
   "metadata": {},
   "source": [
    "### Данные позиции будем использовать для подсчета мутспека на железобетонных вторичках"
   ]
  },
  {
   "cell_type": "code",
   "execution_count": null,
   "id": "weird-transsexual",
   "metadata": {},
   "outputs": [],
   "source": [
    "p1 = annot[(annot.IsRS == 1) & (annot.IsStem == 1)].Pos.values  # 1-based\n",
    "p2 = annot[(annot.IsTRS == 1) & (annot.IsStem == 1)].Pos.values  # 1-based"
   ]
  },
  {
   "cell_type": "code",
   "execution_count": 40,
   "id": "studied-chicago",
   "metadata": {
    "ExecuteTime": {
     "end_time": "2021-06-03T13:25:00.157877Z",
     "start_time": "2021-06-03T13:25:00.150708Z"
    }
   },
   "outputs": [
    {
     "name": "stdout",
     "output_type": "stream",
     "text": [
      "[29, 30, 31, 32, 33, 64, 72, 73, 74, 75, 25380, 25381, 25382, 25383, 25384, 25385, 25386, 25387, 25388, 25389, 26231, 26232, 26233, 26234, 26235, 26236, 26237, 26238, 27035, 27036, 27037, 27038, 27039, 27042, 27043, 27044, 27045, 27047, 27048, 29607, 29608, 29609, 29610, 29611, 29612, 29613, 29639, 29640, 29645, 29646]\n"
     ]
    }
   ],
   "source": [
    "pos_for_mutspec = sorted(list(p1) + list(p2))\n",
    "print(pos_for_mutspec)\n",
    "\n",
    "assert len(pos_for_mutspec) == len(set(pos_for_mutspec))"
   ]
  },
  {
   "cell_type": "code",
   "execution_count": 46,
   "id": "consistent-basement",
   "metadata": {
    "ExecuteTime": {
     "end_time": "2021-06-03T13:27:41.201596Z",
     "start_time": "2021-06-03T13:27:40.109775Z"
    }
   },
   "outputs": [
    {
     "data": {
      "text/plain": [
       "631299"
      ]
     },
     "execution_count": 46,
     "metadata": {},
     "output_type": "execute_result"
    }
   ],
   "source": [
    "gis = pd.read_csv('../data/gisaid_mutations_annotation.csv')\n",
    "gis['Pos'] = gis.pos + 1\n",
    "len(gis)"
   ]
  },
  {
   "cell_type": "code",
   "execution_count": 63,
   "id": "surface-activity",
   "metadata": {
    "ExecuteTime": {
     "end_time": "2021-06-03T14:08:29.600821Z",
     "start_time": "2021-06-03T14:08:29.259793Z"
    }
   },
   "outputs": [],
   "source": [
    "gis_for_trs_rs = gis[\n",
    "    (~ gis.child_node.str.startswith('#')) &\n",
    "    (gis.parent_nucl != '-') &\n",
    "    (gis.child_nucl != '-') &\n",
    "    ((gis.child_aa == gis.parent_aa) | (gis.child_aa.isna())) &\n",
    "    (gis.Pos.isin(pos_for_mutspec))\n",
    "]"
   ]
  },
  {
   "cell_type": "code",
   "execution_count": 64,
   "id": "static-weight",
   "metadata": {
    "ExecuteTime": {
     "end_time": "2021-06-03T14:08:30.981062Z",
     "start_time": "2021-06-03T14:08:30.951146Z"
    }
   },
   "outputs": [
    {
     "name": "stdout",
     "output_type": "stream",
     "text": [
      "(263, 13)\n"
     ]
    },
    {
     "data": {
      "text/html": [
       "<div>\n",
       "<style scoped>\n",
       "    .dataframe tbody tr th:only-of-type {\n",
       "        vertical-align: middle;\n",
       "    }\n",
       "\n",
       "    .dataframe tbody tr th {\n",
       "        vertical-align: top;\n",
       "    }\n",
       "\n",
       "    .dataframe thead th {\n",
       "        text-align: right;\n",
       "    }\n",
       "</style>\n",
       "<table border=\"1\" class=\"dataframe\">\n",
       "  <thead>\n",
       "    <tr style=\"text-align: right;\">\n",
       "      <th></th>\n",
       "      <th>pos</th>\n",
       "      <th>parent_nucl</th>\n",
       "      <th>child_nucl</th>\n",
       "      <th>parent_node</th>\n",
       "      <th>child_node</th>\n",
       "      <th>GenName</th>\n",
       "      <th>GenType</th>\n",
       "      <th>CodonNumber</th>\n",
       "      <th>child_codon</th>\n",
       "      <th>parent_codon</th>\n",
       "      <th>child_aa</th>\n",
       "      <th>parent_aa</th>\n",
       "      <th>Pos</th>\n",
       "    </tr>\n",
       "  </thead>\n",
       "  <tbody>\n",
       "    <tr>\n",
       "      <th>45663</th>\n",
       "      <td>27046</td>\n",
       "      <td>T</td>\n",
       "      <td>G</td>\n",
       "      <td>#27714#</td>\n",
       "      <td>hCoV-19/USA/CA-ALSR-3186/2020|EPI_ISL_635904|2...</td>\n",
       "      <td>M</td>\n",
       "      <td>translated</td>\n",
       "      <td>8899.0</td>\n",
       "      <td>ACG</td>\n",
       "      <td>ACT</td>\n",
       "      <td>T</td>\n",
       "      <td>T</td>\n",
       "      <td>27047</td>\n",
       "    </tr>\n",
       "    <tr>\n",
       "      <th>45667</th>\n",
       "      <td>27046</td>\n",
       "      <td>G</td>\n",
       "      <td>T</td>\n",
       "      <td>#37608#</td>\n",
       "      <td>hCoV-19/USA/IL-USAFSAM-S340/2020|EPI_ISL_81264...</td>\n",
       "      <td>M</td>\n",
       "      <td>translated</td>\n",
       "      <td>8899.0</td>\n",
       "      <td>ACT</td>\n",
       "      <td>ACG</td>\n",
       "      <td>T</td>\n",
       "      <td>T</td>\n",
       "      <td>27047</td>\n",
       "    </tr>\n",
       "    <tr>\n",
       "      <th>45670</th>\n",
       "      <td>27046</td>\n",
       "      <td>T</td>\n",
       "      <td>G</td>\n",
       "      <td>#17760#</td>\n",
       "      <td>hCoV-19/USA/TX-HMH-MCoV-10159/2020|EPI_ISL_789...</td>\n",
       "      <td>M</td>\n",
       "      <td>translated</td>\n",
       "      <td>8899.0</td>\n",
       "      <td>ACG</td>\n",
       "      <td>ACT</td>\n",
       "      <td>T</td>\n",
       "      <td>T</td>\n",
       "      <td>27047</td>\n",
       "    </tr>\n",
       "    <tr>\n",
       "      <th>45673</th>\n",
       "      <td>27046</td>\n",
       "      <td>T</td>\n",
       "      <td>G</td>\n",
       "      <td>#43066#</td>\n",
       "      <td>hCoV-19/USA/MN-MDH-1728/2020|EPI_ISL_576237|20...</td>\n",
       "      <td>M</td>\n",
       "      <td>translated</td>\n",
       "      <td>8899.0</td>\n",
       "      <td>ACG</td>\n",
       "      <td>ACT</td>\n",
       "      <td>T</td>\n",
       "      <td>T</td>\n",
       "      <td>27047</td>\n",
       "    </tr>\n",
       "    <tr>\n",
       "      <th>45675</th>\n",
       "      <td>27046</td>\n",
       "      <td>G</td>\n",
       "      <td>T</td>\n",
       "      <td>#28030#</td>\n",
       "      <td>hCoV-19/USA/CA-LACPHL-AE00045/2020|EPI_ISL_735...</td>\n",
       "      <td>M</td>\n",
       "      <td>translated</td>\n",
       "      <td>8899.0</td>\n",
       "      <td>ACT</td>\n",
       "      <td>ACG</td>\n",
       "      <td>T</td>\n",
       "      <td>T</td>\n",
       "      <td>27047</td>\n",
       "    </tr>\n",
       "  </tbody>\n",
       "</table>\n",
       "</div>"
      ],
      "text/plain": [
       "         pos parent_nucl child_nucl parent_node  \\\n",
       "45663  27046           T          G     #27714#   \n",
       "45667  27046           G          T     #37608#   \n",
       "45670  27046           T          G     #17760#   \n",
       "45673  27046           T          G     #43066#   \n",
       "45675  27046           G          T     #28030#   \n",
       "\n",
       "                                              child_node GenName     GenType  \\\n",
       "45663  hCoV-19/USA/CA-ALSR-3186/2020|EPI_ISL_635904|2...       M  translated   \n",
       "45667  hCoV-19/USA/IL-USAFSAM-S340/2020|EPI_ISL_81264...       M  translated   \n",
       "45670  hCoV-19/USA/TX-HMH-MCoV-10159/2020|EPI_ISL_789...       M  translated   \n",
       "45673  hCoV-19/USA/MN-MDH-1728/2020|EPI_ISL_576237|20...       M  translated   \n",
       "45675  hCoV-19/USA/CA-LACPHL-AE00045/2020|EPI_ISL_735...       M  translated   \n",
       "\n",
       "       CodonNumber child_codon parent_codon child_aa parent_aa    Pos  \n",
       "45663       8899.0         ACG          ACT        T         T  27047  \n",
       "45667       8899.0         ACT          ACG        T         T  27047  \n",
       "45670       8899.0         ACG          ACT        T         T  27047  \n",
       "45673       8899.0         ACG          ACT        T         T  27047  \n",
       "45675       8899.0         ACT          ACG        T         T  27047  "
      ]
     },
     "execution_count": 64,
     "metadata": {},
     "output_type": "execute_result"
    }
   ],
   "source": [
    "print(gis_for_trs_rs.shape)\n",
    "gis_for_trs_rs.head()"
   ]
  },
  {
   "cell_type": "code",
   "execution_count": 62,
   "id": "welsh-attack",
   "metadata": {
    "ExecuteTime": {
     "end_time": "2021-06-03T13:43:35.699883Z",
     "start_time": "2021-06-03T13:43:35.685817Z"
    }
   },
   "outputs": [],
   "source": [
    "gis_for_trs_rs.to_csv('../data/gisaid_only_for_TRS-RS.csv', index=None)"
   ]
  },
  {
   "cell_type": "code",
   "execution_count": null,
   "id": "flying-allowance",
   "metadata": {},
   "outputs": [],
   "source": []
  },
  {
   "cell_type": "code",
   "execution_count": null,
   "id": "minimal-poster",
   "metadata": {},
   "outputs": [],
   "source": []
  },
  {
   "cell_type": "code",
   "execution_count": null,
   "id": "capital-tract",
   "metadata": {},
   "outputs": [],
   "source": []
  },
  {
   "cell_type": "code",
   "execution_count": null,
   "id": "elder-murray",
   "metadata": {},
   "outputs": [],
   "source": []
  },
  {
   "cell_type": "code",
   "execution_count": 2,
   "id": "duplicate-arrangement",
   "metadata": {
    "ExecuteTime": {
     "end_time": "2021-03-15T22:52:56.679458Z",
     "start_time": "2021-03-15T22:52:55.369154Z"
    }
   },
   "outputs": [],
   "source": [
    "fulltree = pd.read_csv(\"../data/fulltree.csv\", delimiter=';')\n",
    "hgt_fulltreeCodons = pd.read_csv(\"../data/human-global-tree_fulltreeCodons_from.csv\", delimiter=';')"
   ]
  },
  {
   "cell_type": "code",
   "execution_count": 3,
   "id": "confused-trader",
   "metadata": {
    "ExecuteTime": {
     "end_time": "2021-03-15T22:53:03.121866Z",
     "start_time": "2021-03-15T22:53:03.075853Z"
    }
   },
   "outputs": [
    {
     "data": {
      "text/html": [
       "<div>\n",
       "<style scoped>\n",
       "    .dataframe tbody tr th:only-of-type {\n",
       "        vertical-align: middle;\n",
       "    }\n",
       "\n",
       "    .dataframe tbody tr th {\n",
       "        vertical-align: top;\n",
       "    }\n",
       "\n",
       "    .dataframe thead th {\n",
       "        text-align: right;\n",
       "    }\n",
       "</style>\n",
       "<table border=\"1\" class=\"dataframe\">\n",
       "  <thead>\n",
       "    <tr style=\"text-align: right;\">\n",
       "      <th></th>\n",
       "      <th>first</th>\n",
       "      <th>second</th>\n",
       "      <th>position</th>\n",
       "      <th>ref_pos</th>\n",
       "      <th>ancestor</th>\n",
       "      <th>descendant</th>\n",
       "      <th>nuc_ref_in_ali</th>\n",
       "      <th>gene_info</th>\n",
       "    </tr>\n",
       "  </thead>\n",
       "  <tbody>\n",
       "    <tr>\n",
       "      <th>0</th>\n",
       "      <td>28409</td>\n",
       "      <td>AM_PR_0048</td>\n",
       "      <td>174</td>\n",
       "      <td>150</td>\n",
       "      <td>ttTc-</td>\n",
       "      <td>ttCc-</td>\n",
       "      <td>C</td>\n",
       "      <td>D-loop_2</td>\n",
       "    </tr>\n",
       "    <tr>\n",
       "      <th>1</th>\n",
       "      <td>28409</td>\n",
       "      <td>AM_PR_0048</td>\n",
       "      <td>593</td>\n",
       "      <td>522</td>\n",
       "      <td>acTc-</td>\n",
       "      <td>acAc-</td>\n",
       "      <td>A</td>\n",
       "      <td>D-loop_2</td>\n",
       "    </tr>\n",
       "    <tr>\n",
       "      <th>2</th>\n",
       "      <td>28409</td>\n",
       "      <td>AM_PR_0048</td>\n",
       "      <td>5007</td>\n",
       "      <td>4840</td>\n",
       "      <td>ctAac</td>\n",
       "      <td>ctGac</td>\n",
       "      <td>G</td>\n",
       "      <td>mRNA_ND2</td>\n",
       "    </tr>\n",
       "    <tr>\n",
       "      <th>3</th>\n",
       "      <td>28409</td>\n",
       "      <td>AM_PR_0048</td>\n",
       "      <td>7971</td>\n",
       "      <td>7774</td>\n",
       "      <td>ccGtc</td>\n",
       "      <td>ccRtc</td>\n",
       "      <td>G</td>\n",
       "      <td>mRNA_COX2</td>\n",
       "    </tr>\n",
       "    <tr>\n",
       "      <th>4</th>\n",
       "      <td>28409</td>\n",
       "      <td>AM_PR_0048</td>\n",
       "      <td>8017</td>\n",
       "      <td>7820</td>\n",
       "      <td>ccCat</td>\n",
       "      <td>ccMat</td>\n",
       "      <td>C</td>\n",
       "      <td>mRNA_COX2</td>\n",
       "    </tr>\n",
       "  </tbody>\n",
       "</table>\n",
       "</div>"
      ],
      "text/plain": [
       "   first      second  position  ref_pos ancestor descendant nuc_ref_in_ali  \\\n",
       "0  28409  AM_PR_0048       174      150    ttTc-      ttCc-              C   \n",
       "1  28409  AM_PR_0048       593      522    acTc-      acAc-              A   \n",
       "2  28409  AM_PR_0048      5007     4840    ctAac      ctGac              G   \n",
       "3  28409  AM_PR_0048      7971     7774    ccGtc      ccRtc              G   \n",
       "4  28409  AM_PR_0048      8017     7820    ccCat      ccMat              C   \n",
       "\n",
       "   gene_info  \n",
       "0   D-loop_2  \n",
       "1   D-loop_2  \n",
       "2   mRNA_ND2  \n",
       "3  mRNA_COX2  \n",
       "4  mRNA_COX2  "
      ]
     },
     "execution_count": 3,
     "metadata": {},
     "output_type": "execute_result"
    }
   ],
   "source": [
    "fulltree.head()"
   ]
  },
  {
   "cell_type": "code",
   "execution_count": 48,
   "id": "compressed-password",
   "metadata": {
    "ExecuteTime": {
     "end_time": "2021-03-12T14:11:51.715749Z",
     "start_time": "2021-03-12T14:11:51.692616Z"
    }
   },
   "outputs": [
    {
     "data": {
      "text/html": [
       "<div>\n",
       "<style scoped>\n",
       "    .dataframe tbody tr th:only-of-type {\n",
       "        vertical-align: middle;\n",
       "    }\n",
       "\n",
       "    .dataframe tbody tr th {\n",
       "        vertical-align: top;\n",
       "    }\n",
       "\n",
       "    .dataframe thead th {\n",
       "        text-align: right;\n",
       "    }\n",
       "</style>\n",
       "<table border=\"1\" class=\"dataframe\">\n",
       "  <thead>\n",
       "    <tr style=\"text-align: right;\">\n",
       "      <th></th>\n",
       "      <th>first</th>\n",
       "      <th>second</th>\n",
       "      <th>position</th>\n",
       "      <th>ref_pos</th>\n",
       "      <th>ancestor</th>\n",
       "      <th>descendant</th>\n",
       "      <th>nuc_ref_in_ali</th>\n",
       "      <th>gene_info</th>\n",
       "      <th>gene_start</th>\n",
       "      <th>pos_in_codon</th>\n",
       "      <th>synonymous</th>\n",
       "      <th>ancestral_aa</th>\n",
       "      <th>derived_aa</th>\n",
       "      <th>note</th>\n",
       "    </tr>\n",
       "  </thead>\n",
       "  <tbody>\n",
       "    <tr>\n",
       "      <th>0</th>\n",
       "      <td>28409</td>\n",
       "      <td>AM_PR_0048</td>\n",
       "      <td>174</td>\n",
       "      <td>150</td>\n",
       "      <td>ttTc-</td>\n",
       "      <td>ttCc-</td>\n",
       "      <td>C</td>\n",
       "      <td>D-loop_2</td>\n",
       "      <td>NaN</td>\n",
       "      <td>NaN</td>\n",
       "      <td>NaN</td>\n",
       "      <td>NaN</td>\n",
       "      <td>NaN</td>\n",
       "      <td>non-coding</td>\n",
       "    </tr>\n",
       "    <tr>\n",
       "      <th>1</th>\n",
       "      <td>28409</td>\n",
       "      <td>AM_PR_0048</td>\n",
       "      <td>593</td>\n",
       "      <td>522</td>\n",
       "      <td>acTc-</td>\n",
       "      <td>acAc-</td>\n",
       "      <td>A</td>\n",
       "      <td>D-loop_2</td>\n",
       "      <td>NaN</td>\n",
       "      <td>NaN</td>\n",
       "      <td>NaN</td>\n",
       "      <td>NaN</td>\n",
       "      <td>NaN</td>\n",
       "      <td>non-coding</td>\n",
       "    </tr>\n",
       "    <tr>\n",
       "      <th>2</th>\n",
       "      <td>28409</td>\n",
       "      <td>AM_PR_0048</td>\n",
       "      <td>5007</td>\n",
       "      <td>4840</td>\n",
       "      <td>ctAac</td>\n",
       "      <td>ctGac</td>\n",
       "      <td>G</td>\n",
       "      <td>mRNA_ND2</td>\n",
       "      <td>4469.0</td>\n",
       "      <td>1.0</td>\n",
       "      <td>non-synonymous</td>\n",
       "      <td>Asn</td>\n",
       "      <td>Asp</td>\n",
       "      <td>normal</td>\n",
       "    </tr>\n",
       "  </tbody>\n",
       "</table>\n",
       "</div>"
      ],
      "text/plain": [
       "   first      second  position  ref_pos ancestor descendant nuc_ref_in_ali  \\\n",
       "0  28409  AM_PR_0048       174      150    ttTc-      ttCc-              C   \n",
       "1  28409  AM_PR_0048       593      522    acTc-      acAc-              A   \n",
       "2  28409  AM_PR_0048      5007     4840    ctAac      ctGac              G   \n",
       "\n",
       "  gene_info  gene_start  pos_in_codon      synonymous ancestral_aa derived_aa  \\\n",
       "0  D-loop_2         NaN           NaN             NaN          NaN        NaN   \n",
       "1  D-loop_2         NaN           NaN             NaN          NaN        NaN   \n",
       "2  mRNA_ND2      4469.0           1.0  non-synonymous          Asn        Asp   \n",
       "\n",
       "         note  \n",
       "0  non-coding  \n",
       "1  non-coding  \n",
       "2      normal  "
      ]
     },
     "execution_count": 48,
     "metadata": {},
     "output_type": "execute_result"
    }
   ],
   "source": [
    "hgt_fulltreeCodons.head(3)"
   ]
  },
  {
   "cell_type": "code",
   "execution_count": 49,
   "id": "organized-cooperative",
   "metadata": {
    "ExecuteTime": {
     "end_time": "2021-03-12T14:11:55.806680Z",
     "start_time": "2021-03-12T14:11:55.800979Z"
    }
   },
   "outputs": [
    {
     "data": {
      "text/plain": [
       "Index(['first', 'second', 'position', 'ref_pos', 'ancestor', 'descendant',\n",
       "       'nuc_ref_in_ali', 'gene_info', 'gene_start', 'pos_in_codon',\n",
       "       'synonymous', 'ancestral_aa', 'derived_aa', 'note'],\n",
       "      dtype='object')"
      ]
     },
     "execution_count": 49,
     "metadata": {},
     "output_type": "execute_result"
    }
   ],
   "source": [
    "hgt_fulltreeCodons.columns"
   ]
  },
  {
   "cell_type": "code",
   "execution_count": null,
   "id": "attractive-bhutan",
   "metadata": {},
   "outputs": [],
   "source": []
  }
 ],
 "metadata": {
  "kernelspec": {
   "display_name": "Python 3",
   "language": "python",
   "name": "python3"
  },
  "language_info": {
   "codemirror_mode": {
    "name": "ipython",
    "version": 3
   },
   "file_extension": ".py",
   "mimetype": "text/x-python",
   "name": "python",
   "nbconvert_exporter": "python",
   "pygments_lexer": "ipython3",
   "version": "3.7.5"
  }
 },
 "nbformat": 4,
 "nbformat_minor": 5
}

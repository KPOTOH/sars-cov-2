{
 "cells": [
  {
   "cell_type": "code",
   "execution_count": 2,
   "id": "willing-result",
   "metadata": {
    "ExecuteTime": {
     "end_time": "2021-05-14T09:01:10.477342Z",
     "start_time": "2021-05-14T09:01:08.863348Z"
    }
   },
   "outputs": [],
   "source": [
    "from collections import defaultdict\n",
    "import json\n",
    "import os\n",
    "import sys\n",
    "import time\n",
    "\n",
    "from scipy import stats\n",
    "from scipy.stats import mannwhitneyu, wilcoxon\n",
    "import numpy as np\n",
    "import networkx as nx\n",
    "import pandas as pd\n",
    "import matplotlib.pyplot as plt\n",
    "from ete3 import PhyloTree\n",
    "# from rna_tools.SecondaryStructure import parse_vienna_to_pairs\n",
    "import seaborn as sns\n",
    "import tqdm\n",
    "import seqlogo\n",
    "\n",
    "sys.path.append('../src/')\n",
    "from mutations_extractor_with_context import get_sequence, node_parent, read_fasta_generator"
   ]
  },
  {
   "cell_type": "code",
   "execution_count": 3,
   "id": "scheduled-limit",
   "metadata": {
    "ExecuteTime": {
     "end_time": "2021-05-14T09:01:12.211824Z",
     "start_time": "2021-05-14T09:01:12.208233Z"
    }
   },
   "outputs": [],
   "source": [
    "REFSEQ_PATH = \"../data/covid_ref.fasta\"\n",
    "SUBSTITUTIONS_PATH = \"../data/overall_mutations_with_context2.json\"\n",
    "SEC_STRUCT_PATH_from_site = \"../data/structure_data/SARSCoV2-RNA_from_site_plus_0based.ss\"\n",
    "# DISTANCES_PATH = \"../data/new_final_fantasy_Tue_Apr_27_17:56:08_2021.csv\"\n",
    "DISTANCES_PATH = \"../data/new_final_fantasy_Sat_May__8_13:54:58_2021.csv\"\n",
    "GENES_ANNOT_PATH = \"../data/genes_annotation.csv\"\n",
    "FULL_ANNOT_PATH = '../data/full_gisaid_substitutions_annotation.csv'"
   ]
  },
  {
   "cell_type": "markdown",
   "id": "fuzzy-cleaning",
   "metadata": {
    "ExecuteTime": {
     "end_time": "2021-04-27T22:17:37.255822Z",
     "start_time": "2021-04-27T22:17:37.245358Z"
    }
   },
   "source": [
    "### Substitution types (stype):\n",
    "~~~\n",
    "{\n",
    "    0: комплементарные замены, приводящие к форм-ию компл. взаимодействий (ref+, parent-, child+)\n",
    "    1: некомпл. замены, разрушающие уже имеющиеся компл. взаимодействия (ref+, parent+, child-)\n",
    "    2: замены, которые не восстанавливают компл. взаимодействия (ref+, parent-, child-)\n",
    "    3: вне вторичных взаимодействий в референсе (ref-)\n",
    "    4: компл., заново сформированные за 1 итерацию (ref+, parent+, child+) paired substitutions\n",
    "}\n",
    "~~~"
   ]
  },
  {
   "cell_type": "markdown",
   "id": "normal-landscape",
   "metadata": {},
   "source": [
    "### Count wobble base-pairs "
   ]
  },
  {
   "cell_type": "code",
   "execution_count": 4,
   "id": "middle-specialist",
   "metadata": {
    "ExecuteTime": {
     "end_time": "2021-05-14T09:01:14.241325Z",
     "start_time": "2021-05-14T09:01:14.215888Z"
    }
   },
   "outputs": [],
   "source": [
    "_df = pd.read_csv('../data/secondary_structure_on_genome.csv')\n",
    "_df['SsPairs'] += 1"
   ]
  },
  {
   "cell_type": "code",
   "execution_count": 5,
   "id": "material-coffee",
   "metadata": {
    "ExecuteTime": {
     "end_time": "2021-05-14T09:01:17.152635Z",
     "start_time": "2021-05-14T09:01:14.834606Z"
    }
   },
   "outputs": [],
   "source": [
    "s = []\n",
    "d = _df[_df.IsStem == 1]\n",
    "for pos1, n1, _, _, pos2 in d.values:\n",
    "    pos2 = int(pos2)\n",
    "    n2 = d[d.Pos == pos2].RefNuc.item()\n",
    "    if not ({n1, n2} == set('AT') or {n1, n2} == set('GC')):\n",
    "#         print(pos1, n1, pos2, n2)\n",
    "        s.append((n1, n2))"
   ]
  },
  {
   "cell_type": "code",
   "execution_count": 6,
   "id": "prescribed-highland",
   "metadata": {
    "ExecuteTime": {
     "end_time": "2021-05-14T09:01:17.165115Z",
     "start_time": "2021-05-14T09:01:17.155384Z"
    }
   },
   "outputs": [
    {
     "data": {
      "text/plain": [
       "(array([['A', 'C'],\n",
       "        ['C', 'A'],\n",
       "        ['G', 'T'],\n",
       "        ['T', 'G']], dtype='<U1'),\n",
       " array([  1,   1, 249, 249]))"
      ]
     },
     "execution_count": 6,
     "metadata": {},
     "output_type": "execute_result"
    }
   ],
   "source": [
    "np.unique(s, axis=0, return_counts=True)"
   ]
  },
  {
   "cell_type": "code",
   "execution_count": 16,
   "id": "hourly-geneva",
   "metadata": {
    "ExecuteTime": {
     "end_time": "2021-05-14T09:05:25.012207Z",
     "start_time": "2021-05-14T09:05:25.005771Z"
    }
   },
   "outputs": [
    {
     "data": {
      "text/plain": [
       "(6081, 5)"
      ]
     },
     "execution_count": 16,
     "metadata": {},
     "output_type": "execute_result"
    }
   ],
   "source": [
    "# number of pos with known ss\n",
    "_df[_df.IsStem.isin([0,1])].shape"
   ]
  },
  {
   "cell_type": "code",
   "execution_count": 17,
   "id": "rental-steam",
   "metadata": {
    "ExecuteTime": {
     "end_time": "2021-05-14T09:06:20.207529Z",
     "start_time": "2021-05-14T09:06:20.199460Z"
    }
   },
   "outputs": [],
   "source": [
    "nfree = _df[_df.IsStem == 0].shape[0]"
   ]
  },
  {
   "cell_type": "code",
   "execution_count": 24,
   "id": "deluxe-albany",
   "metadata": {
    "ExecuteTime": {
     "end_time": "2021-05-14T09:11:46.398652Z",
     "start_time": "2021-05-14T09:11:44.053449Z"
    }
   },
   "outputs": [
    {
     "name": "stdout",
     "output_type": "stream",
     "text": [
      "14408 14413 C A\n",
      "14413 14408 A C\n"
     ]
    }
   ],
   "source": [
    "# strong: GC\n",
    "# weak: AT, GT\n",
    "_AT = {'A', 'T'}\n",
    "_GT = {'G', 'T'}\n",
    "_GC = {'G', 'C'}\n",
    "\n",
    "nweak = nstrong = 0\n",
    "for pos1, n1, _, _, pos2 in d.values:\n",
    "    pos2 = int(pos2)\n",
    "    n2 = d[d.Pos == pos2].RefNuc.item()\n",
    "    pair = {n1, n2}\n",
    "    if pair == _GC:\n",
    "        nstrong += 1\n",
    "    elif pair == _AT or pair == _GT:\n",
    "        nweak += 1\n",
    "    else:\n",
    "        print(pos1, pos2, n1, n2)\n",
    "    \n",
    "assert nstrong + nweak == d.shape[0] - 2  # one CA"
   ]
  },
  {
   "cell_type": "code",
   "execution_count": 25,
   "id": "numerous-ceiling",
   "metadata": {
    "ExecuteTime": {
     "end_time": "2021-05-14T09:11:50.136489Z",
     "start_time": "2021-05-14T09:11:50.129106Z"
    }
   },
   "outputs": [
    {
     "data": {
      "text/plain": [
       "(4220, 4222)"
      ]
     },
     "execution_count": 25,
     "metadata": {},
     "output_type": "execute_result"
    }
   ],
   "source": [
    "nstrong + nweak, d.shape[0]"
   ]
  },
  {
   "cell_type": "code",
   "execution_count": 36,
   "id": "comparable-chemical",
   "metadata": {
    "ExecuteTime": {
     "end_time": "2021-05-14T09:18:12.264724Z",
     "start_time": "2021-05-14T09:18:12.256063Z"
    }
   },
   "outputs": [
    {
     "data": {
      "text/plain": [
       "array([0.30580688, 0.28524428, 0.40894884])"
      ]
     },
     "execution_count": 36,
     "metadata": {},
     "output_type": "execute_result"
    }
   ],
   "source": [
    "np.array([nfree, nstrong, nweak]) / (nstrong + nweak + nfree)"
   ]
  },
  {
   "cell_type": "code",
   "execution_count": 35,
   "id": "apart-encyclopedia",
   "metadata": {
    "ExecuteTime": {
     "end_time": "2021-05-14T09:17:40.941894Z",
     "start_time": "2021-05-14T09:17:40.929948Z"
    }
   },
   "outputs": [
    {
     "data": {
      "text/html": [
       "<div>\n",
       "<style scoped>\n",
       "    .dataframe tbody tr th:only-of-type {\n",
       "        vertical-align: middle;\n",
       "    }\n",
       "\n",
       "    .dataframe tbody tr th {\n",
       "        vertical-align: top;\n",
       "    }\n",
       "\n",
       "    .dataframe thead th {\n",
       "        text-align: right;\n",
       "    }\n",
       "</style>\n",
       "<table border=\"1\" class=\"dataframe\">\n",
       "  <thead>\n",
       "    <tr style=\"text-align: right;\">\n",
       "      <th></th>\n",
       "      <th>free</th>\n",
       "      <th>strong</th>\n",
       "      <th>weak</th>\n",
       "    </tr>\n",
       "  </thead>\n",
       "  <tbody>\n",
       "    <tr>\n",
       "      <th>reference genome state</th>\n",
       "      <td>0.31</td>\n",
       "      <td>0.29</td>\n",
       "      <td>0.41</td>\n",
       "    </tr>\n",
       "  </tbody>\n",
       "</table>\n",
       "</div>"
      ],
      "text/plain": [
       "                        free  strong  weak\n",
       "reference genome state  0.31    0.29  0.41"
      ]
     },
     "execution_count": 35,
     "metadata": {},
     "output_type": "execute_result"
    }
   ],
   "source": [
    "pd.DataFrame(\n",
    "    [np.round(np.array([nfree, nstrong, nweak]) / (nstrong + nweak + nfree), 2)], \n",
    "    columns=['free', 'strong', 'weak'],\n",
    "    index = ['reference genome state'],\n",
    ")"
   ]
  },
  {
   "cell_type": "markdown",
   "id": "shared-spectrum",
   "metadata": {},
   "source": [
    "------------"
   ]
  },
  {
   "cell_type": "code",
   "execution_count": 7,
   "id": "military-olympus",
   "metadata": {
    "ExecuteTime": {
     "end_time": "2021-05-08T11:55:22.404756Z",
     "start_time": "2021-05-08T11:55:20.012519Z"
    }
   },
   "outputs": [],
   "source": [
    "full_annotation = pd.read_csv(FULL_ANNOT_PATH)\n",
    "full_annotation['n2n'] = full_annotation.parent_nucl + full_annotation.child_nucl\n",
    "\n",
    "full_annotation = full_annotation[\n",
    "    (full_annotation.child_nucl != '-') & (full_annotation.parent_nucl != '-')\n",
    "]\n",
    "\n",
    "assert np.sum(full_annotation.child_nucl == '-') == 0\n",
    "assert np.sum(full_annotation.parent_nucl == '-') == 0"
   ]
  },
  {
   "cell_type": "code",
   "execution_count": 8,
   "id": "israeli-difficulty",
   "metadata": {
    "ExecuteTime": {
     "end_time": "2021-05-08T11:55:25.134299Z",
     "start_time": "2021-05-08T11:55:23.901272Z"
    }
   },
   "outputs": [
    {
     "name": "stdout",
     "output_type": "stream",
     "text": [
      "(606936, 13)\n"
     ]
    },
    {
     "data": {
      "text/html": [
       "<div>\n",
       "<style scoped>\n",
       "    .dataframe tbody tr th:only-of-type {\n",
       "        vertical-align: middle;\n",
       "    }\n",
       "\n",
       "    .dataframe tbody tr th {\n",
       "        vertical-align: top;\n",
       "    }\n",
       "\n",
       "    .dataframe thead th {\n",
       "        text-align: right;\n",
       "    }\n",
       "</style>\n",
       "<table border=\"1\" class=\"dataframe\">\n",
       "  <thead>\n",
       "    <tr style=\"text-align: right;\">\n",
       "      <th></th>\n",
       "      <th>pair_idx</th>\n",
       "      <th>pos</th>\n",
       "      <th>parent_nucl</th>\n",
       "      <th>child_nucl</th>\n",
       "      <th>stype</th>\n",
       "      <th>primary_dist2nearest</th>\n",
       "      <th>secondary_dist2nearest</th>\n",
       "      <th>parent_node</th>\n",
       "      <th>child_node</th>\n",
       "      <th>n2n</th>\n",
       "      <th>Pos</th>\n",
       "      <th>RefNuc</th>\n",
       "      <th>GenName</th>\n",
       "    </tr>\n",
       "  </thead>\n",
       "  <tbody>\n",
       "    <tr>\n",
       "      <th>0</th>\n",
       "      <td>0</td>\n",
       "      <td>240</td>\n",
       "      <td>C</td>\n",
       "      <td>T</td>\n",
       "      <td>0</td>\n",
       "      <td>30000</td>\n",
       "      <td>30000</td>\n",
       "      <td>#54567#</td>\n",
       "      <td>#51858#</td>\n",
       "      <td>CT</td>\n",
       "      <td>240</td>\n",
       "      <td>C</td>\n",
       "      <td>5UTR</td>\n",
       "    </tr>\n",
       "    <tr>\n",
       "      <th>1</th>\n",
       "      <td>1</td>\n",
       "      <td>240</td>\n",
       "      <td>C</td>\n",
       "      <td>T</td>\n",
       "      <td>0</td>\n",
       "      <td>30000</td>\n",
       "      <td>30000</td>\n",
       "      <td>#54567#</td>\n",
       "      <td>#54566#</td>\n",
       "      <td>CT</td>\n",
       "      <td>240</td>\n",
       "      <td>C</td>\n",
       "      <td>5UTR</td>\n",
       "    </tr>\n",
       "  </tbody>\n",
       "</table>\n",
       "</div>"
      ],
      "text/plain": [
       "   pair_idx  pos parent_nucl child_nucl  stype  primary_dist2nearest  \\\n",
       "0         0  240           C          T      0                 30000   \n",
       "1         1  240           C          T      0                 30000   \n",
       "\n",
       "   secondary_dist2nearest parent_node child_node n2n  Pos RefNuc GenName  \n",
       "0                   30000     #54567#    #51858#  CT  240      C    5UTR  \n",
       "1                   30000     #54567#    #54566#  CT  240      C    5UTR  "
      ]
     },
     "execution_count": 8,
     "metadata": {},
     "output_type": "execute_result"
    }
   ],
   "source": [
    "distances = pd.read_csv(DISTANCES_PATH)\n",
    "distances['n2n'] = distances.parent_nucl + distances.child_nucl\n",
    "\n",
    "genes_annot = pd.read_csv(GENES_ANNOT_PATH)\n",
    "genes_annot['Pos'] -= 1\n",
    "\n",
    "assert len(set(distances.pos.unique()).difference(genes_annot.Pos.unique())) == 0\n",
    "distances = pd.merge(distances, genes_annot, left_on='pos', right_on='Pos')\n",
    "\n",
    "# no need to filter on distance, we play with stype!\n",
    "# distances = distances[distances.primary_dist2nearest < 30_000]\n",
    "print(distances.shape)\n",
    "distances.head(2)"
   ]
  },
  {
   "cell_type": "code",
   "execution_count": 14,
   "id": "overhead-interview",
   "metadata": {
    "ExecuteTime": {
     "end_time": "2021-05-08T12:07:20.060055Z",
     "start_time": "2021-05-08T12:07:20.040246Z"
    }
   },
   "outputs": [
    {
     "data": {
      "text/html": [
       "<div>\n",
       "<style scoped>\n",
       "    .dataframe tbody tr th:only-of-type {\n",
       "        vertical-align: middle;\n",
       "    }\n",
       "\n",
       "    .dataframe tbody tr th {\n",
       "        vertical-align: top;\n",
       "    }\n",
       "\n",
       "    .dataframe thead th {\n",
       "        text-align: right;\n",
       "    }\n",
       "</style>\n",
       "<table border=\"1\" class=\"dataframe\">\n",
       "  <thead>\n",
       "    <tr style=\"text-align: right;\">\n",
       "      <th></th>\n",
       "      <th>stype</th>\n",
       "      <th>count</th>\n",
       "    </tr>\n",
       "  </thead>\n",
       "  <tbody>\n",
       "    <tr>\n",
       "      <th>0</th>\n",
       "      <td>no info</td>\n",
       "      <td>533834</td>\n",
       "    </tr>\n",
       "    <tr>\n",
       "      <th>1</th>\n",
       "      <td>free&gt;free</td>\n",
       "      <td>287</td>\n",
       "    </tr>\n",
       "    <tr>\n",
       "      <th>2</th>\n",
       "      <td>free&gt;weak</td>\n",
       "      <td>6339</td>\n",
       "    </tr>\n",
       "    <tr>\n",
       "      <th>3</th>\n",
       "      <td>free&gt;strong</td>\n",
       "      <td>11190</td>\n",
       "    </tr>\n",
       "    <tr>\n",
       "      <th>4</th>\n",
       "      <td>weak&gt;free</td>\n",
       "      <td>7062</td>\n",
       "    </tr>\n",
       "    <tr>\n",
       "      <th>5</th>\n",
       "      <td>weak&gt;weak</td>\n",
       "      <td>10040</td>\n",
       "    </tr>\n",
       "    <tr>\n",
       "      <th>6</th>\n",
       "      <td>weak&gt;strong</td>\n",
       "      <td>12607</td>\n",
       "    </tr>\n",
       "    <tr>\n",
       "      <th>7</th>\n",
       "      <td>strong&gt;free</td>\n",
       "      <td>12764</td>\n",
       "    </tr>\n",
       "    <tr>\n",
       "      <th>8</th>\n",
       "      <td>strong&gt;weak</td>\n",
       "      <td>12813</td>\n",
       "    </tr>\n",
       "  </tbody>\n",
       "</table>\n",
       "</div>"
      ],
      "text/plain": [
       "         stype   count\n",
       "0      no info  533834\n",
       "1    free>free     287\n",
       "2    free>weak    6339\n",
       "3  free>strong   11190\n",
       "4    weak>free    7062\n",
       "5    weak>weak   10040\n",
       "6  weak>strong   12607\n",
       "7  strong>free   12764\n",
       "8  strong>weak   12813"
      ]
     },
     "execution_count": 14,
     "metadata": {},
     "output_type": "execute_result"
    }
   ],
   "source": [
    "stype_annot = {   \n",
    "        0: \"no info\",\n",
    "        1: \"free>free\",\n",
    "        2: \"free>weak\",\n",
    "        3: \"free>strong\",\n",
    "        4: \"weak>free\",\n",
    "        5: \"weak>weak\",\n",
    "        6: \"weak>strong\",\n",
    "        7: \"strong>free\",\n",
    "        8: \"strong>weak\",\n",
    "        9: \"strong>strong\",\n",
    "}\n",
    "_d = distances.stype.value_counts(sort=False).reset_index()\n",
    "_d.columns = ['stype', 'count']\n",
    "_d['stype'] = _d.stype.map(stype_annot)\n",
    "_d"
   ]
  },
  {
   "cell_type": "code",
   "execution_count": 34,
   "id": "eight-packet",
   "metadata": {
    "ExecuteTime": {
     "end_time": "2021-05-08T12:16:01.117641Z",
     "start_time": "2021-05-08T12:16:00.777242Z"
    }
   },
   "outputs": [
    {
     "data": {
      "image/png": "[encoded data removed]",
      "text/plain": [
       "<Figure size 864x432 with 1 Axes>"
      ]
     },
     "metadata": {
      "needs_background": "light"
     },
     "output_type": "display_data"
    }
   ],
   "source": [
    "plt.figure(figsize=(12, 6))\n",
    "\n",
    "for i in range(2, 9):\n",
    "    plt.plot(\n",
    "        distances[distances.stype == i].pos.value_counts().index, \n",
    "        distances[distances.stype == i].pos.value_counts().values,\n",
    "        '.', alpha=.2, label=f'stype_{i}'\n",
    "    )\n",
    "plt.ylabel('substitutions count')\n",
    "plt.xlabel('pos')\n",
    "plt.legend()\n",
    "plt.show()"
   ]
  },
  {
   "cell_type": "code",
   "execution_count": 37,
   "id": "polish-swing",
   "metadata": {
    "ExecuteTime": {
     "end_time": "2021-05-08T12:17:26.318015Z",
     "start_time": "2021-05-08T12:17:26.309830Z"
    }
   },
   "outputs": [
    {
     "data": {
      "text/plain": [
       "Index(['no info', 'free>free', 'free>weak', 'free>strong', 'weak>free',\n",
       "       'weak>weak', 'weak>strong', 'strong>free', 'strong>weak'],\n",
       "      dtype='object', name='stype')"
      ]
     },
     "execution_count": 37,
     "metadata": {},
     "output_type": "execute_result"
    }
   ],
   "source": [
    "stype_on_pos.columns.map(stype_annot)"
   ]
  },
  {
   "cell_type": "code",
   "execution_count": 38,
   "id": "chinese-edmonton",
   "metadata": {
    "ExecuteTime": {
     "end_time": "2021-05-08T12:17:33.320747Z",
     "start_time": "2021-05-08T12:17:33.244438Z"
    }
   },
   "outputs": [],
   "source": [
    "_stype_on_pos = distances.groupby(['pos', 'stype'])['pair_idx'].count().reset_index()\n",
    "_stype_on_pos.columns = ['pos', 'stype', 'count']\n",
    "\n",
    "stype_on_pos = pd.pivot_table(_stype_on_pos, index='pos', columns='stype', values='count', fill_value=0)\n",
    "# stype_on_pos.columns = [f\"stype_{x}\" for x in stype_on_pos.columns]\n",
    "stype_on_pos.columns = stype_on_pos.columns.map(stype_annot)\n",
    "\n",
    "# stype_on_pos.to_csv('../data/stype_on_pos.csv')"
   ]
  },
  {
   "cell_type": "code",
   "execution_count": 39,
   "id": "younger-christmas",
   "metadata": {
    "ExecuteTime": {
     "end_time": "2021-05-08T12:17:34.491917Z",
     "start_time": "2021-05-08T12:17:34.479889Z"
    }
   },
   "outputs": [
    {
     "data": {
      "text/html": [
       "<div>\n",
       "<style scoped>\n",
       "    .dataframe tbody tr th:only-of-type {\n",
       "        vertical-align: middle;\n",
       "    }\n",
       "\n",
       "    .dataframe tbody tr th {\n",
       "        vertical-align: top;\n",
       "    }\n",
       "\n",
       "    .dataframe thead th {\n",
       "        text-align: right;\n",
       "    }\n",
       "</style>\n",
       "<table border=\"1\" class=\"dataframe\">\n",
       "  <thead>\n",
       "    <tr style=\"text-align: right;\">\n",
       "      <th></th>\n",
       "      <th>stype</th>\n",
       "      <th>number</th>\n",
       "    </tr>\n",
       "  </thead>\n",
       "  <tbody>\n",
       "    <tr>\n",
       "      <th>0</th>\n",
       "      <td>no info</td>\n",
       "      <td>533834</td>\n",
       "    </tr>\n",
       "    <tr>\n",
       "      <th>1</th>\n",
       "      <td>free&gt;free</td>\n",
       "      <td>287</td>\n",
       "    </tr>\n",
       "    <tr>\n",
       "      <th>2</th>\n",
       "      <td>free&gt;weak</td>\n",
       "      <td>6339</td>\n",
       "    </tr>\n",
       "    <tr>\n",
       "      <th>3</th>\n",
       "      <td>free&gt;strong</td>\n",
       "      <td>11190</td>\n",
       "    </tr>\n",
       "    <tr>\n",
       "      <th>4</th>\n",
       "      <td>weak&gt;free</td>\n",
       "      <td>7062</td>\n",
       "    </tr>\n",
       "    <tr>\n",
       "      <th>5</th>\n",
       "      <td>weak&gt;weak</td>\n",
       "      <td>10040</td>\n",
       "    </tr>\n",
       "    <tr>\n",
       "      <th>6</th>\n",
       "      <td>weak&gt;strong</td>\n",
       "      <td>12607</td>\n",
       "    </tr>\n",
       "    <tr>\n",
       "      <th>7</th>\n",
       "      <td>strong&gt;free</td>\n",
       "      <td>12764</td>\n",
       "    </tr>\n",
       "    <tr>\n",
       "      <th>8</th>\n",
       "      <td>strong&gt;weak</td>\n",
       "      <td>12813</td>\n",
       "    </tr>\n",
       "  </tbody>\n",
       "</table>\n",
       "</div>"
      ],
      "text/plain": [
       "         stype  number\n",
       "0      no info  533834\n",
       "1    free>free     287\n",
       "2    free>weak    6339\n",
       "3  free>strong   11190\n",
       "4    weak>free    7062\n",
       "5    weak>weak   10040\n",
       "6  weak>strong   12607\n",
       "7  strong>free   12764\n",
       "8  strong>weak   12813"
      ]
     },
     "execution_count": 39,
     "metadata": {},
     "output_type": "execute_result"
    }
   ],
   "source": [
    "_d2 = stype_on_pos.sum(axis=0).reset_index()\n",
    "_d2.columns = ['stype', 'number']\n",
    "_d2"
   ]
  },
  {
   "cell_type": "code",
   "execution_count": 164,
   "id": "lasting-reaction",
   "metadata": {
    "ExecuteTime": {
     "end_time": "2021-05-08T14:35:07.047593Z",
     "start_time": "2021-05-08T14:35:07.039986Z"
    }
   },
   "outputs": [
    {
     "data": {
      "text/plain": [
       "array([[0.016, 0.628, 0.356],\n",
       "       [0.499, 0.   , 0.501],\n",
       "       [0.238, 0.424, 0.338]])"
      ]
     },
     "execution_count": 164,
     "metadata": {},
     "output_type": "execute_result"
    }
   ],
   "source": [
    "didi = dict(_d2.values)\n",
    "matrix = np.array([\n",
    "    [didi['free>free'], didi['free>strong'], didi['free>weak']],\n",
    "    [didi['strong>free'], didi.get('strong>strong', 0), didi['strong>weak']],\n",
    "    [didi['weak>free'], didi['weak>strong'], didi['weak>weak']],\n",
    "])\n",
    "(matrix / matrix.sum(axis=1).reshape(-1, 1)).round(3)"
   ]
  },
  {
   "attachments": {
    "image.png": {
     "image/png": "[encoded data removed]"
    }
   },
   "cell_type": "markdown",
   "id": "extended-recall",
   "metadata": {},
   "source": [
    "[link](http://markov.yoriz.co.uk/)\n",
    "![image.png](attachment:image.png)"
   ]
  },
  {
   "cell_type": "code",
   "execution_count": 140,
   "id": "acceptable-galaxy",
   "metadata": {
    "ExecuteTime": {
     "end_time": "2021-05-08T14:09:48.822032Z",
     "start_time": "2021-05-08T14:09:48.764901Z"
    }
   },
   "outputs": [
    {
     "data": {
      "text/plain": [
       "T    9594\n",
       "A    8954\n",
       "G    5863\n",
       "C    5492\n",
       "Name: RefNuc, dtype: int64"
      ]
     },
     "execution_count": 140,
     "metadata": {},
     "output_type": "execute_result"
    }
   ],
   "source": [
    "pd.read_csv('../data/ref_annot.csv').RefNuc.value_counts()"
   ]
  },
  {
   "cell_type": "code",
   "execution_count": 137,
   "id": "sharing-favor",
   "metadata": {
    "ExecuteTime": {
     "end_time": "2021-05-08T14:05:25.620518Z",
     "start_time": "2021-05-08T14:05:25.615235Z"
    }
   },
   "outputs": [
    {
     "data": {
      "text/plain": [
       "0.4980392156862745"
      ]
     },
     "execution_count": 137,
     "metadata": {},
     "output_type": "execute_result"
    }
   ],
   "source": [
    "12700 / (12800+12700)"
   ]
  },
  {
   "cell_type": "code",
   "execution_count": 130,
   "id": "proper-brook",
   "metadata": {
    "ExecuteTime": {
     "end_time": "2021-05-08T13:47:39.181765Z",
     "start_time": "2021-05-08T13:47:39.176461Z"
    }
   },
   "outputs": [
    {
     "data": {
      "text/plain": [
       "(19826, 17529)"
      ]
     },
     "execution_count": 130,
     "metadata": {},
     "output_type": "execute_result"
    }
   ],
   "source": [
    "12764 + 7062, 11190 + 6339"
   ]
  },
  {
   "cell_type": "code",
   "execution_count": 40,
   "id": "promising-helena",
   "metadata": {
    "ExecuteTime": {
     "end_time": "2021-05-08T12:17:43.856145Z",
     "start_time": "2021-05-08T12:17:43.847216Z"
    }
   },
   "outputs": [],
   "source": [
    "def context_extraction(full_annotation, mut='CT'):\n",
    "    # https://github.com/betteridiot/seqlogo\n",
    "    full_annotation = full_annotation.copy()[full_annotation.parent_nucl_context.str.len() == 5]\n",
    "    gr = full_annotation.groupby('n2n')\n",
    "    substitutions = gr.get_group(mut)\n",
    "    \n",
    "    mean_context = []\n",
    "    \n",
    "    for i in range(5):  # context index\n",
    "        one_mut_context = substitutions.parent_nucl_context.apply(\n",
    "            lambda s: s[i]).value_counts(normalize=True).to_dict()\n",
    "\n",
    "        # filter freqs\n",
    "        if i != 2:\n",
    "            one_mut_context = {nucl: share for nucl, share in one_mut_context.items() if nucl in 'actg'}\n",
    "        else:\n",
    "            one_mut_context = {nucl.lower(): share for nucl, share in one_mut_context.items() if share > .95}\n",
    "            assert len(one_mut_context) == 1\n",
    "            \n",
    "        mut_ppm = np.array([one_mut_context.get(nucl, 0) for nucl in 'acgt'])\n",
    "        mut_ppm = mut_ppm / mut_ppm.sum()\n",
    "#         assert mut_ppm.sum() == 1, f' == {mut_ppm.sum()}'\n",
    "        mean_context.append(mut_ppm)\n",
    "        \n",
    "    return np.array(mean_context)"
   ]
  },
  {
   "cell_type": "code",
   "execution_count": 118,
   "id": "joined-friendship",
   "metadata": {
    "ExecuteTime": {
     "end_time": "2021-05-08T13:39:14.376532Z",
     "start_time": "2021-05-08T13:39:14.367062Z"
    }
   },
   "outputs": [],
   "source": [
    "def calculate_stype_on_pos(distances, mut=['all'], gene_names=['all']):\n",
    "    distances = distances[distances.stype != 0]\n",
    "    if mut != ['all']:\n",
    "        distances = distances[distances['n2n'].isin(mut)]\n",
    "    if gene_names != ['all']:\n",
    "        distances = distances[distances['GenName'].isin(gene_names)]\n",
    "    \n",
    "    _stype_on_pos = distances.groupby(['pos', 'stype'])['pair_idx'].count().reset_index()\n",
    "    _stype_on_pos.columns = ['pos', 'stype', 'count']\n",
    "\n",
    "    stype_on_pos = pd.pivot_table(_stype_on_pos, index='pos', columns='stype', values='count', fill_value=0)\n",
    "#     stypes = ['free2paired', 'paired2free', 'free2free', 'no_info', 'paired2paired']\n",
    "#     idx_accordance = {i: v for i, v in enumerate(stypes)}\n",
    "    # add zero values\n",
    "    for col in range(1, 9):\n",
    "        if col not in stype_on_pos.columns:\n",
    "            stype_on_pos[col] = 0\n",
    "            \n",
    "    stype_on_pos.columns = stype_on_pos.columns.map(stype_annot)\n",
    "    \n",
    "    if stype_on_pos.shape[0] < 10:\n",
    "        return None\n",
    "    return stype_on_pos\n",
    "\n",
    "\n",
    "def count_difference(stype_on_pos, fea1, fea2, plot=False):\n",
    "    # fea1 - fea2\n",
    "    difference = stype_on_pos[fea1] - stype_on_pos[fea2]\n",
    "    if plot:\n",
    "        difference.plot.hist(bins=40)\n",
    "        plt.title('Distribution of destabilizing-stabilizing substitutions difference')\n",
    "        plt.xlabel(f'{fea1} - {fea2}')\n",
    "        plt.show()\n",
    "        \n",
    "    w, pval = wilcoxon(\n",
    "        stype_on_pos[fea1], \n",
    "        stype_on_pos[fea2], \n",
    "    )\n",
    "    return difference.mean(), w, pval"
   ]
  },
  {
   "cell_type": "code",
   "execution_count": 120,
   "id": "brief-patrick",
   "metadata": {
    "ExecuteTime": {
     "end_time": "2021-05-08T13:39:18.352482Z",
     "start_time": "2021-05-08T13:39:17.529563Z"
    }
   },
   "outputs": [
    {
     "name": "stderr",
     "output_type": "stream",
     "text": [
      "/home/mr/.local/lib/python3.7/site-packages/scipy/stats/morestats.py:2981: UserWarning: Sample size too small for normal approximation.\n",
      "  warnings.warn(\"Sample size too small for normal approximation.\")\n",
      "/home/mr/.local/lib/python3.7/site-packages/scipy/stats/morestats.py:2967: UserWarning: Exact p-value calculation does not work if there are ties. Switching to normal approximation.\n",
      "  warnings.warn(\"Exact p-value calculation does not work if there are \"\n",
      "/home/mr/.local/lib/python3.7/site-packages/scipy/stats/morestats.py:2981: UserWarning: Sample size too small for normal approximation.\n",
      "  warnings.warn(\"Sample size too small for normal approximation.\")\n",
      "/home/mr/.local/lib/python3.7/site-packages/scipy/stats/morestats.py:2981: UserWarning: Sample size too small for normal approximation.\n",
      "  warnings.warn(\"Sample size too small for normal approximation.\")\n",
      "/home/mr/.local/lib/python3.7/site-packages/scipy/stats/morestats.py:2967: UserWarning: Exact p-value calculation does not work if there are ties. Switching to normal approximation.\n",
      "  warnings.warn(\"Exact p-value calculation does not work if there are \"\n",
      "/home/mr/.local/lib/python3.7/site-packages/scipy/stats/morestats.py:2981: UserWarning: Sample size too small for normal approximation.\n",
      "  warnings.warn(\"Sample size too small for normal approximation.\")\n"
     ]
    }
   ],
   "source": [
    "genes = distances.GenName.unique()\n",
    "genes = np.concatenate([['all'], genes])\n",
    "\n",
    "fea1, fea2 = 'weak>strong', 'strong>weak'\n",
    "\n",
    "gstat_table = []\n",
    "for gene in genes:\n",
    "    stype_on_pos = calculate_stype_on_pos(distances, gene_names=[gene])\n",
    "    if stype_on_pos is None:\n",
    "        continue\n",
    "    _cols = stype_on_pos.columns\n",
    "    if fea1 not in _cols or fea2 not in _cols:\n",
    "        continue\n",
    "    average, w, pval = count_difference(stype_on_pos, fea1, fea2)\n",
    "    significant = '+' if pval < .05 else '-'\n",
    "    gstat_table.append((gene, stype_on_pos.sum().sum(), average, w, pval, significant))\n",
    "\n",
    "_cols = ['gene', 'subst_count', 'diff_mean', 'w_statistic', 'p_value', 'significant']\n",
    "gstat_table = pd.DataFrame(gstat_table, columns=_cols)"
   ]
  },
  {
   "cell_type": "code",
   "execution_count": 121,
   "id": "boring-mainstream",
   "metadata": {
    "ExecuteTime": {
     "end_time": "2021-05-08T13:39:20.042418Z",
     "start_time": "2021-05-08T13:39:20.019711Z"
    }
   },
   "outputs": [
    {
     "data": {
      "text/html": [
       "<div>\n",
       "<style scoped>\n",
       "    .dataframe tbody tr th:only-of-type {\n",
       "        vertical-align: middle;\n",
       "    }\n",
       "\n",
       "    .dataframe tbody tr th {\n",
       "        vertical-align: top;\n",
       "    }\n",
       "\n",
       "    .dataframe thead th {\n",
       "        text-align: right;\n",
       "    }\n",
       "</style>\n",
       "<table border=\"1\" class=\"dataframe\">\n",
       "  <thead>\n",
       "    <tr style=\"text-align: right;\">\n",
       "      <th></th>\n",
       "      <th>gene</th>\n",
       "      <th>subst_count</th>\n",
       "      <th>diff_mean</th>\n",
       "      <th>w_statistic</th>\n",
       "      <th>p_value</th>\n",
       "      <th>significant</th>\n",
       "    </tr>\n",
       "  </thead>\n",
       "  <tbody>\n",
       "    <tr>\n",
       "      <th>0</th>\n",
       "      <td>all</td>\n",
       "      <td>73102</td>\n",
       "      <td>-0.08</td>\n",
       "      <td>25141.0</td>\n",
       "      <td>1.962040e-08</td>\n",
       "      <td>+</td>\n",
       "    </tr>\n",
       "    <tr>\n",
       "      <th>1</th>\n",
       "      <td>5UTR</td>\n",
       "      <td>2482</td>\n",
       "      <td>-0.06</td>\n",
       "      <td>60.5</td>\n",
       "      <td>4.293502e-01</td>\n",
       "      <td>-</td>\n",
       "    </tr>\n",
       "    <tr>\n",
       "      <th>2</th>\n",
       "      <td>ORF1ab</td>\n",
       "      <td>36295</td>\n",
       "      <td>-0.07</td>\n",
       "      <td>9897.0</td>\n",
       "      <td>3.315820e-06</td>\n",
       "      <td>+</td>\n",
       "    </tr>\n",
       "    <tr>\n",
       "      <th>3</th>\n",
       "      <td>ORF8</td>\n",
       "      <td>2432</td>\n",
       "      <td>-0.03</td>\n",
       "      <td>12.0</td>\n",
       "      <td>7.257210e-01</td>\n",
       "      <td>-</td>\n",
       "    </tr>\n",
       "    <tr>\n",
       "      <th>4</th>\n",
       "      <td>N</td>\n",
       "      <td>5232</td>\n",
       "      <td>-0.06</td>\n",
       "      <td>80.0</td>\n",
       "      <td>5.300905e-01</td>\n",
       "      <td>-</td>\n",
       "    </tr>\n",
       "    <tr>\n",
       "      <th>5</th>\n",
       "      <td>3UTR</td>\n",
       "      <td>8129</td>\n",
       "      <td>-0.19</td>\n",
       "      <td>52.0</td>\n",
       "      <td>2.377469e-01</td>\n",
       "      <td>-</td>\n",
       "    </tr>\n",
       "    <tr>\n",
       "      <th>6</th>\n",
       "      <td>E</td>\n",
       "      <td>292</td>\n",
       "      <td>0.10</td>\n",
       "      <td>0.0</td>\n",
       "      <td>3.173105e-01</td>\n",
       "      <td>-</td>\n",
       "    </tr>\n",
       "    <tr>\n",
       "      <th>7</th>\n",
       "      <td>S</td>\n",
       "      <td>5116</td>\n",
       "      <td>-0.01</td>\n",
       "      <td>169.5</td>\n",
       "      <td>6.220544e-01</td>\n",
       "      <td>-</td>\n",
       "    </tr>\n",
       "    <tr>\n",
       "      <th>8</th>\n",
       "      <td>ORF3a</td>\n",
       "      <td>4471</td>\n",
       "      <td>-0.28</td>\n",
       "      <td>14.0</td>\n",
       "      <td>1.376078e-02</td>\n",
       "      <td>+</td>\n",
       "    </tr>\n",
       "    <tr>\n",
       "      <th>9</th>\n",
       "      <td>ORF7a</td>\n",
       "      <td>2493</td>\n",
       "      <td>-0.06</td>\n",
       "      <td>9.0</td>\n",
       "      <td>1.053715e-01</td>\n",
       "      <td>-</td>\n",
       "    </tr>\n",
       "    <tr>\n",
       "      <th>10</th>\n",
       "      <td>ORF10</td>\n",
       "      <td>1698</td>\n",
       "      <td>-0.26</td>\n",
       "      <td>20.0</td>\n",
       "      <td>1.274403e-01</td>\n",
       "      <td>-</td>\n",
       "    </tr>\n",
       "    <tr>\n",
       "      <th>11</th>\n",
       "      <td>M</td>\n",
       "      <td>3894</td>\n",
       "      <td>-0.02</td>\n",
       "      <td>60.0</td>\n",
       "      <td>6.755116e-01</td>\n",
       "      <td>-</td>\n",
       "    </tr>\n",
       "    <tr>\n",
       "      <th>12</th>\n",
       "      <td>ORF3a-E_space</td>\n",
       "      <td>228</td>\n",
       "      <td>-0.10</td>\n",
       "      <td>0.0</td>\n",
       "      <td>3.173105e-01</td>\n",
       "      <td>-</td>\n",
       "    </tr>\n",
       "  </tbody>\n",
       "</table>\n",
       "</div>"
      ],
      "text/plain": [
       "             gene  subst_count  diff_mean  w_statistic       p_value  \\\n",
       "0             all        73102      -0.08      25141.0  1.962040e-08   \n",
       "1            5UTR         2482      -0.06         60.5  4.293502e-01   \n",
       "2          ORF1ab        36295      -0.07       9897.0  3.315820e-06   \n",
       "3            ORF8         2432      -0.03         12.0  7.257210e-01   \n",
       "4               N         5232      -0.06         80.0  5.300905e-01   \n",
       "5            3UTR         8129      -0.19         52.0  2.377469e-01   \n",
       "6               E          292       0.10          0.0  3.173105e-01   \n",
       "7               S         5116      -0.01        169.5  6.220544e-01   \n",
       "8           ORF3a         4471      -0.28         14.0  1.376078e-02   \n",
       "9           ORF7a         2493      -0.06          9.0  1.053715e-01   \n",
       "10          ORF10         1698      -0.26         20.0  1.274403e-01   \n",
       "11              M         3894      -0.02         60.0  6.755116e-01   \n",
       "12  ORF3a-E_space          228      -0.10          0.0  3.173105e-01   \n",
       "\n",
       "   significant  \n",
       "0            +  \n",
       "1            -  \n",
       "2            +  \n",
       "3            -  \n",
       "4            -  \n",
       "5            -  \n",
       "6            -  \n",
       "7            -  \n",
       "8            +  \n",
       "9            -  \n",
       "10           -  \n",
       "11           -  \n",
       "12           -  "
      ]
     },
     "execution_count": 121,
     "metadata": {},
     "output_type": "execute_result"
    }
   ],
   "source": [
    "# .iloc[[0, 1, 2, 6, 7, 10, 8, 3, 4, 9, 5]]\n",
    "gstat_table.round({'diff_mean': 2})"
   ]
  },
  {
   "cell_type": "code",
   "execution_count": 167,
   "id": "unique-binary",
   "metadata": {
    "ExecuteTime": {
     "end_time": "2021-05-08T15:23:09.462728Z",
     "start_time": "2021-05-08T15:23:08.855278Z"
    }
   },
   "outputs": [
    {
     "name": "stderr",
     "output_type": "stream",
     "text": [
      "/home/mr/.local/lib/python3.7/site-packages/scipy/stats/morestats.py:2981: UserWarning: Sample size too small for normal approximation.\n",
      "  warnings.warn(\"Sample size too small for normal approximation.\")\n"
     ]
    }
   ],
   "source": [
    "mutations = distances['n2n'].unique()\n",
    "mutations = np.concatenate([['all'], mutations])\n",
    "\n",
    "fea1, fea2 = 'free>strong', 'strong>free'\n",
    "\n",
    "stat_table = []\n",
    "for mut in mutations:\n",
    "    stype_on_pos = calculate_stype_on_pos(distances, mut=[mut])\n",
    "    if np.all(stype_on_pos[fea1] - stype_on_pos[fea2] == 0):\n",
    "        stat_table.append([])\n",
    "        continue\n",
    "        \n",
    "    average, w, pval = count_difference(stype_on_pos, fea1, fea2)\n",
    "    significant = '+' if pval < .05 else '-'\n",
    "    stat_table.append((mut, stype_on_pos.sum().sum(), average, w, pval, significant))\n",
    "#     print(f'{mut}: {stype_on_pos.sum().sum()} substitutions')\n",
    "#     print(f'mean = {average: .2f}, pvalue = {pval:.2e}')\n",
    "\n",
    "_cols = ['subst', 'subst_count', 'diff_mean', 'w_statistic', 'p_value', 'significant']\n",
    "stat_table = pd.DataFrame(stat_table, columns=_cols)"
   ]
  },
  {
   "cell_type": "code",
   "execution_count": 168,
   "id": "acoustic-skating",
   "metadata": {
    "ExecuteTime": {
     "end_time": "2021-05-08T15:23:10.002933Z",
     "start_time": "2021-05-08T15:23:09.975500Z"
    }
   },
   "outputs": [
    {
     "data": {
      "text/html": [
       "<div>\n",
       "<style scoped>\n",
       "    .dataframe tbody tr th:only-of-type {\n",
       "        vertical-align: middle;\n",
       "    }\n",
       "\n",
       "    .dataframe tbody tr th {\n",
       "        vertical-align: top;\n",
       "    }\n",
       "\n",
       "    .dataframe thead th {\n",
       "        text-align: right;\n",
       "    }\n",
       "</style>\n",
       "<table border=\"1\" class=\"dataframe\">\n",
       "  <thead>\n",
       "    <tr style=\"text-align: right;\">\n",
       "      <th></th>\n",
       "      <th>subst</th>\n",
       "      <th>subst_count</th>\n",
       "      <th>diff_mean</th>\n",
       "      <th>w_statistic</th>\n",
       "      <th>p_value</th>\n",
       "      <th>significant</th>\n",
       "    </tr>\n",
       "  </thead>\n",
       "  <tbody>\n",
       "    <tr>\n",
       "      <th>5</th>\n",
       "      <td>AC</td>\n",
       "      <td>1280.0</td>\n",
       "      <td>2.56</td>\n",
       "      <td>0.0</td>\n",
       "      <td>1.127532e-35</td>\n",
       "      <td>+</td>\n",
       "    </tr>\n",
       "    <tr>\n",
       "      <th>8</th>\n",
       "      <td>AG</td>\n",
       "      <td>7902.0</td>\n",
       "      <td>2.84</td>\n",
       "      <td>0.0</td>\n",
       "      <td>2.112990e-62</td>\n",
       "      <td>+</td>\n",
       "    </tr>\n",
       "    <tr>\n",
       "      <th>6</th>\n",
       "      <td>CA</td>\n",
       "      <td>1270.0</td>\n",
       "      <td>-2.99</td>\n",
       "      <td>0.0</td>\n",
       "      <td>1.477644e-35</td>\n",
       "      <td>+</td>\n",
       "    </tr>\n",
       "    <tr>\n",
       "      <th>11</th>\n",
       "      <td>CG</td>\n",
       "      <td>681.0</td>\n",
       "      <td>2.70</td>\n",
       "      <td>1270.5</td>\n",
       "      <td>1.069205e-05</td>\n",
       "      <td>+</td>\n",
       "    </tr>\n",
       "    <tr>\n",
       "      <th>1</th>\n",
       "      <td>CT</td>\n",
       "      <td>15454.0</td>\n",
       "      <td>-0.07</td>\n",
       "      <td>0.0</td>\n",
       "      <td>7.598775e-04</td>\n",
       "      <td>+</td>\n",
       "    </tr>\n",
       "    <tr>\n",
       "      <th>7</th>\n",
       "      <td>GA</td>\n",
       "      <td>8365.0</td>\n",
       "      <td>-2.93</td>\n",
       "      <td>0.0</td>\n",
       "      <td>2.458068e-75</td>\n",
       "      <td>+</td>\n",
       "    </tr>\n",
       "    <tr>\n",
       "      <th>12</th>\n",
       "      <td>GC</td>\n",
       "      <td>667.0</td>\n",
       "      <td>-3.18</td>\n",
       "      <td>838.5</td>\n",
       "      <td>2.907590e-06</td>\n",
       "      <td>+</td>\n",
       "    </tr>\n",
       "    <tr>\n",
       "      <th>10</th>\n",
       "      <td>GT</td>\n",
       "      <td>10012.0</td>\n",
       "      <td>-12.70</td>\n",
       "      <td>0.0</td>\n",
       "      <td>7.857668e-70</td>\n",
       "      <td>+</td>\n",
       "    </tr>\n",
       "    <tr>\n",
       "      <th>2</th>\n",
       "      <td>TC</td>\n",
       "      <td>15636.0</td>\n",
       "      <td>0.03</td>\n",
       "      <td>0.0</td>\n",
       "      <td>2.728117e-02</td>\n",
       "      <td>+</td>\n",
       "    </tr>\n",
       "    <tr>\n",
       "      <th>9</th>\n",
       "      <td>TG</td>\n",
       "      <td>8707.0</td>\n",
       "      <td>11.81</td>\n",
       "      <td>0.0</td>\n",
       "      <td>2.271658e-64</td>\n",
       "      <td>+</td>\n",
       "    </tr>\n",
       "    <tr>\n",
       "      <th>0</th>\n",
       "      <td>all</td>\n",
       "      <td>73102.0</td>\n",
       "      <td>-0.58</td>\n",
       "      <td>6836.0</td>\n",
       "      <td>3.389100e-77</td>\n",
       "      <td>+</td>\n",
       "    </tr>\n",
       "    <tr>\n",
       "      <th>3</th>\n",
       "      <td>None</td>\n",
       "      <td>NaN</td>\n",
       "      <td>NaN</td>\n",
       "      <td>NaN</td>\n",
       "      <td>NaN</td>\n",
       "      <td>None</td>\n",
       "    </tr>\n",
       "    <tr>\n",
       "      <th>4</th>\n",
       "      <td>None</td>\n",
       "      <td>NaN</td>\n",
       "      <td>NaN</td>\n",
       "      <td>NaN</td>\n",
       "      <td>NaN</td>\n",
       "      <td>None</td>\n",
       "    </tr>\n",
       "  </tbody>\n",
       "</table>\n",
       "</div>"
      ],
      "text/plain": [
       "   subst  subst_count  diff_mean  w_statistic       p_value significant\n",
       "5     AC       1280.0       2.56          0.0  1.127532e-35           +\n",
       "8     AG       7902.0       2.84          0.0  2.112990e-62           +\n",
       "6     CA       1270.0      -2.99          0.0  1.477644e-35           +\n",
       "11    CG        681.0       2.70       1270.5  1.069205e-05           +\n",
       "1     CT      15454.0      -0.07          0.0  7.598775e-04           +\n",
       "7     GA       8365.0      -2.93          0.0  2.458068e-75           +\n",
       "12    GC        667.0      -3.18        838.5  2.907590e-06           +\n",
       "10    GT      10012.0     -12.70          0.0  7.857668e-70           +\n",
       "2     TC      15636.0       0.03          0.0  2.728117e-02           +\n",
       "9     TG       8707.0      11.81          0.0  2.271658e-64           +\n",
       "0    all      73102.0      -0.58       6836.0  3.389100e-77           +\n",
       "3   None          NaN        NaN          NaN           NaN        None\n",
       "4   None          NaN        NaN          NaN           NaN        None"
      ]
     },
     "execution_count": 168,
     "metadata": {},
     "output_type": "execute_result"
    }
   ],
   "source": [
    "stat_table.round({'diff_mean': 2}).sort_values('subst')"
   ]
  },
  {
   "cell_type": "code",
   "execution_count": 156,
   "id": "average-terrace",
   "metadata": {
    "ExecuteTime": {
     "end_time": "2021-05-01T15:30:47.208988Z",
     "start_time": "2021-05-01T15:30:37.922434Z"
    }
   },
   "outputs": [],
   "source": [
    "# write logos to files\n",
    "mut_context_path = '../visual_data/mut_context/'\n",
    "for mut in mutations[1:]:\n",
    "    mut_ppm = context_extraction(full_annotation, mut)\n",
    "    ppm = seqlogo.Ppm(mut_ppm)\n",
    "    path = mut_context_path + mut + '.png'\n",
    "    seqlogo.seqlogo(ppm, ic_scale = False, format = 'png', size = 'small', filename=path)"
   ]
  },
  {
   "cell_type": "markdown",
   "id": "clean-belize",
   "metadata": {},
   "source": [
    "### Table with logos"
   ]
  },
  {
   "cell_type": "markdown",
   "id": "distributed-helicopter",
   "metadata": {
    "ExecuteTime": {
     "end_time": "2021-05-01T15:23:13.715084Z",
     "start_time": "2021-05-01T15:23:13.709114Z"
    }
   },
   "source": [
    "context | subst | subst_count | (n_destab - n_stab)_mean | destabilize | w_statistic | p_value | significant |\n",
    "------- | ----- | ----------- | --------- | ------------- | ----------- | ------- | ----------- | \n",
    "<img src=\"../visual_data/mut_context/AC.png-130x.jpg\" width=\"120\"/> | A>C    |     710    |   -2.78    | - |      528.5 | 2.1e-01    |  -\n",
    "<img src=\"../visual_data/mut_context/AG.png-130x.jpg\" width=\"120\"/> | A>G    |     6196   |     4.29   | + |    26177.0 | 9.9e-07    |  +\n",
    "<img src=\"../visual_data/mut_context/AT.png-130x.jpg\" width=\"120\"/>  | A>T    |      942   |   -2.73    | - |      538.0 | 6.1e-01    |  -\n",
    "<img src=\"../visual_data/mut_context/CA.png-130x.jpg\" width=\"120\"/>  | C>A    |      717   |    3.15    | + |     485.5  | 2.9e-01    |  -\n",
    "<img src=\"../visual_data/mut_context/CG.png-130x.jpg\" width=\"120\"/>  | C>G    |      333   |  -23.00    | - |       8.0  | 2.4e-02    |  +\n",
    "<img src=\"../visual_data/mut_context/CT.png-130x.jpg\" width=\"120\"/>  | C>T    |    14117   |    16.73   | + |   27817.5  | 9.9e-53    |  +\n",
    "<img src=\"../visual_data/mut_context/GA.png-130x.jpg\" width=\"120\"/>  | G>A    |     6452   |    -3.56   | - |   30811.0  | 7.9e-05    |  +\n",
    "<img src=\"../visual_data/mut_context/GC.png-130x.jpg\" width=\"120\"/>  | G>C    |      340   |    21.83   | + |       9.0  | 1.6e-02    |  +\n",
    "<img src=\"../visual_data/mut_context/GT.png-130x.jpg\" width=\"120\"/>  | G>T    |     7672   |    30.41   | + |     739.5  | 4.1e-38    |  +\n",
    "<img src=\"../visual_data/mut_context/TA.png-130x.jpg\" width=\"120\"/>  | T>A    |      809   |     2.61   | + |     340.0  | 6.6e-01    |  -\n",
    "<img src=\"../visual_data/mut_context/TC.png-130x.jpg\" width=\"120\"/>  | T>C    |   14128    |  -15.46    | - |   33694.5  | 2.0e-48    |  +\n",
    "<img src=\"../visual_data/mut_context/TG.png-130x.jpg\" width=\"120\"/>  | T>G    |     6602   |  -28.88    | - |   726.0    | 1.1e-33    |  +\n",
    " | all   |     68351  |   1.10   | + |  121694.0 | 3.4e-88    |  +"
   ]
  },
  {
   "cell_type": "code",
   "execution_count": 94,
   "id": "passive-fourth",
   "metadata": {
    "ExecuteTime": {
     "end_time": "2021-05-01T15:05:34.852135Z",
     "start_time": "2021-05-01T15:05:34.585526Z"
    }
   },
   "outputs": [
    {
     "data": {
      "image/svg+xml": [
       "<svg height=\"232pt\" version=\"1.1\" viewBox=\"0 0 292 232\" width=\"292pt\" xmlns=\"http://www.w3.org/2000/svg\" xmlns:xlink=\"http://www.w3.org/1999/xlink\">\n",
       "<defs>\n",
       "<g>\n",
       "<symbol id=\"glyph0-0 3267999068921973254\" overflow=\"visible\">\n",
       "<path d=\"\" style=\"stroke:none;\"/>\n",
       "</symbol>\n",
       "<symbol id=\"glyph0-1 3267999068921973254\" overflow=\"visible\">\n",
       "<path d=\"M 2.203125 -5.78125 C 1.671875 -5.78125 1.1875 -5.546875 0.890625 -5.15625 C 0.53125 -4.640625 0.34375 -3.875 0.34375 -2.796875 C 0.34375 -0.84375 0.984375 0.1875 2.203125 0.1875 C 3.40625 0.1875 4.0625 -0.84375 4.0625 -2.75 C 4.0625 -3.875 3.875 -4.625 3.5 -5.15625 C 3.203125 -5.546875 2.734375 -5.78125 2.203125 -5.78125 Z M 2.203125 -5.15625 C 2.953125 -5.15625 3.34375 -4.390625 3.34375 -2.8125 C 3.34375 -1.171875 2.96875 -0.40625 2.1875 -0.40625 C 1.4375 -0.40625 1.0625 -1.203125 1.0625 -2.796875 C 1.0625 -4.390625 1.4375 -5.15625 2.203125 -5.15625 Z M 2.203125 -5.15625 \" style=\"stroke:none;\"/>\n",
       "</symbol>\n",
       "<symbol id=\"glyph0-2 3267999068921973254\" overflow=\"visible\">\n",
       "<path d=\"M 1.53125 -0.828125 L 0.703125 -0.828125 L 0.703125 0 L 1.53125 0 Z M 1.53125 -0.828125 \" style=\"stroke:none;\"/>\n",
       "</symbol>\n",
       "<symbol id=\"glyph0-3 3267999068921973254\" overflow=\"visible\">\n",
       "<path d=\"M 3.8125 -5.671875 L 0.875 -5.671875 L 0.453125 -2.578125 L 1.109375 -2.578125 C 1.4375 -2.96875 1.703125 -3.109375 2.15625 -3.109375 C 2.90625 -3.109375 3.390625 -2.59375 3.390625 -1.75 C 3.390625 -0.9375 2.90625 -0.4375 2.140625 -0.4375 C 1.53125 -0.4375 1.15625 -0.75 0.984375 -1.390625 L 0.28125 -1.390625 C 0.375 -0.921875 0.453125 -0.703125 0.625 -0.5 C 0.9375 -0.0625 1.515625 0.1875 2.15625 0.1875 C 3.296875 0.1875 4.109375 -0.640625 4.109375 -1.84375 C 4.109375 -2.96875 3.359375 -3.734375 2.265625 -3.734375 C 1.875 -3.734375 1.546875 -3.625 1.21875 -3.390625 L 1.453125 -4.96875 L 3.8125 -4.96875 Z M 3.8125 -5.671875 \" style=\"stroke:none;\"/>\n",
       "</symbol>\n",
       "<symbol id=\"glyph0-4 3267999068921973254\" overflow=\"visible\">\n",
       "<path d=\"M 2.078125 -4.125 L 2.078125 0 L 2.78125 0 L 2.78125 -5.78125 L 2.3125 -5.78125 C 2.0625 -4.890625 1.90625 -4.78125 0.8125 -4.625 L 0.8125 -4.125 Z M 2.078125 -4.125 \" style=\"stroke:none;\"/>\n",
       "</symbol>\n",
       "<symbol id=\"glyph1-0 3267999068921973254\" overflow=\"visible\">\n",
       "<path d=\"\" style=\"stroke:none;\"/>\n",
       "</symbol>\n",
       "<symbol id=\"glyph1-1 3267999068921973254\" overflow=\"visible\">\n",
       "<path d=\"M 2.1875 -0.546875 L 2.1875 -1.375 L -0.546875 -1.375 C -0.015625 -1.8125 0.234375 -2.3125 0.234375 -2.984375 C 0.234375 -4.34375 -0.859375 -5.234375 -2.53125 -5.234375 C -4.296875 -5.234375 -5.390625 -4.375 -5.390625 -2.984375 C -5.390625 -2.265625 -5.0625 -1.703125 -4.453125 -1.3125 L -5.234375 -1.3125 L -5.234375 -0.546875 Z M -4.609375 -2.84375 C -4.609375 -3.765625 -3.796875 -4.359375 -2.546875 -4.359375 C -1.359375 -4.359375 -0.546875 -3.75 -0.546875 -2.84375 C -0.546875 -1.953125 -1.34375 -1.375 -2.578125 -1.375 C -3.8125 -1.375 -4.609375 -1.953125 -4.609375 -2.84375 Z M -4.609375 -2.84375 \" style=\"stroke:none;\"/>\n",
       "</symbol>\n",
       "<symbol id=\"glyph1-2 3267999068921973254\" overflow=\"visible\">\n",
       "<path d=\"M -5.234375 -0.6875 L 0 -0.6875 L 0 -1.53125 L -2.71875 -1.53125 C -3.984375 -1.546875 -4.546875 -2.0625 -4.515625 -3.203125 L -5.359375 -3.203125 C -5.375 -3.0625 -5.390625 -2.984375 -5.390625 -2.890625 C -5.390625 -2.34375 -5.0625 -1.9375 -4.296875 -1.453125 L -5.234375 -1.453125 Z M -5.234375 -0.6875 \" style=\"stroke:none;\"/>\n",
       "</symbol>\n",
       "<symbol id=\"glyph1-3 3267999068921973254\" overflow=\"visible\">\n",
       "<path d=\"M -5.390625 -2.71875 C -5.390625 -1.234375 -4.34375 -0.359375 -2.578125 -0.359375 C -0.8125 -0.359375 0.234375 -1.234375 0.234375 -2.734375 C 0.234375 -4.203125 -0.8125 -5.09375 -2.546875 -5.09375 C -4.359375 -5.09375 -5.390625 -4.234375 -5.390625 -2.71875 Z M -4.625 -2.734375 C -4.625 -3.671875 -3.84375 -4.234375 -2.546875 -4.234375 C -1.3125 -4.234375 -0.546875 -3.65625 -0.546875 -2.734375 C -0.546875 -1.796875 -1.3125 -1.234375 -2.578125 -1.234375 C -3.84375 -1.234375 -4.625 -1.796875 -4.625 -2.734375 Z M -4.625 -2.734375 \" style=\"stroke:none;\"/>\n",
       "</symbol>\n",
       "<symbol id=\"glyph1-4 3267999068921973254\" overflow=\"visible\">\n",
       "<path d=\"M -7.296875 -0.546875 L 0 -0.546875 L 0 -1.296875 L -0.671875 -1.296875 C -0.0625 -1.6875 0.234375 -2.21875 0.234375 -2.953125 C 0.234375 -4.328125 -0.90625 -5.234375 -2.640625 -5.234375 C -4.34375 -5.234375 -5.390625 -4.375 -5.390625 -2.984375 C -5.390625 -2.265625 -5.125 -1.765625 -4.53125 -1.375 L -7.296875 -1.375 Z M -4.609375 -2.828125 C -4.609375 -3.765625 -3.796875 -4.359375 -2.546875 -4.359375 C -1.359375 -4.359375 -0.546875 -3.734375 -0.546875 -2.828125 C -0.546875 -1.9375 -1.34375 -1.375 -2.578125 -1.375 C -3.8125 -1.375 -4.609375 -1.9375 -4.609375 -2.828125 Z M -4.609375 -2.828125 \" style=\"stroke:none;\"/>\n",
       "</symbol>\n",
       "<symbol id=\"glyph1-5 3267999068921973254\" overflow=\"visible\">\n",
       "<path d=\"M -0.484375 -5.34375 C -0.46875 -5.265625 -0.46875 -5.21875 -0.46875 -5.171875 C -0.46875 -4.875 -0.625 -4.71875 -0.875 -4.71875 L -3.953125 -4.71875 C -4.890625 -4.71875 -5.390625 -4.046875 -5.390625 -2.75 C -5.390625 -1.984375 -5.171875 -1.375 -4.78125 -1.015625 C -4.515625 -0.765625 -4.203125 -0.671875 -3.6875 -0.65625 L -3.6875 -1.484375 C -4.328125 -1.5625 -4.625 -1.9375 -4.625 -2.71875 C -4.625 -3.484375 -4.34375 -3.890625 -3.84375 -3.890625 L -3.625 -3.890625 C -3.265625 -3.875 -3.125 -3.703125 -3.046875 -3.015625 C -2.890625 -1.84375 -2.84375 -1.65625 -2.71875 -1.34375 C -2.453125 -0.734375 -2 -0.421875 -1.3125 -0.421875 C -0.375 -0.421875 0.234375 -1.078125 0.234375 -2.140625 C 0.234375 -2.796875 0 -3.328125 -0.546875 -3.921875 C 0 -3.984375 0.234375 -4.234375 0.234375 -4.78125 C 0.234375 -4.953125 0.203125 -5.0625 0.140625 -5.34375 Z M -1.65625 -3.890625 C -1.375 -3.890625 -1.203125 -3.8125 -0.96875 -3.5625 C -0.65625 -3.21875 -0.5 -2.8125 -0.5 -2.3125 C -0.5 -1.671875 -0.8125 -1.296875 -1.34375 -1.296875 C -1.890625 -1.296875 -2.171875 -1.65625 -2.296875 -2.546875 C -2.421875 -3.4375 -2.453125 -3.609375 -2.59375 -3.890625 Z M -1.65625 -3.890625 \" style=\"stroke:none;\"/>\n",
       "</symbol>\n",
       "<symbol id=\"glyph1-6 3267999068921973254\" overflow=\"visible\">\n",
       "<path d=\"M -5.234375 -1.5 L -5.234375 -0.671875 L 0 -0.671875 L 0 -1.5 Z M -7.296875 -1.5 L -7.296875 -0.65625 L -6.234375 -0.65625 L -6.234375 -1.5 Z M -7.296875 -1.5 \" style=\"stroke:none;\"/>\n",
       "</symbol>\n",
       "<symbol id=\"glyph1-7 3267999068921973254\" overflow=\"visible\">\n",
       "<path d=\"M -7.296875 -1.515625 L -7.296875 -0.6875 L 0 -0.6875 L 0 -1.515625 Z M -7.296875 -1.515625 \" style=\"stroke:none;\"/>\n",
       "</symbol>\n",
       "<symbol id=\"glyph1-8 3267999068921973254\" overflow=\"visible\">\n",
       "<path d=\"M -5.234375 -2.546875 L -5.234375 -1.6875 L -6.6875 -1.6875 L -6.6875 -0.84375 L -5.234375 -0.84375 L -5.234375 -0.140625 L -4.5625 -0.140625 L -4.5625 -0.84375 L -0.59375 -0.84375 C -0.0625 -0.84375 0.234375 -1.203125 0.234375 -1.859375 C 0.234375 -2.078125 0.203125 -2.265625 0.15625 -2.546875 L -0.546875 -2.546875 C -0.515625 -2.421875 -0.5 -2.3125 -0.5 -2.140625 C -0.5 -1.78125 -0.59375 -1.6875 -0.96875 -1.6875 L -4.5625 -1.6875 L -4.5625 -2.546875 Z M -5.234375 -2.546875 \" style=\"stroke:none;\"/>\n",
       "</symbol>\n",
       "<symbol id=\"glyph1-9 3267999068921973254\" overflow=\"visible\">\n",
       "<path d=\"M -5.234375 -3.875 L -1.15625 -2.4375 L -5.234375 -1.09375 L -5.234375 -0.203125 L 0.015625 -1.96875 L 0.84375 -1.65625 C 1.21875 -1.515625 1.359375 -1.328125 1.359375 -0.984375 C 1.359375 -0.84375 1.34375 -0.71875 1.296875 -0.546875 L 2.046875 -0.546875 C 2.140625 -0.703125 2.1875 -0.875 2.1875 -1.09375 C 2.1875 -1.375 2.09375 -1.65625 1.9375 -1.875 C 1.734375 -2.140625 1.515625 -2.296875 1.09375 -2.453125 L -5.234375 -4.78125 Z M -5.234375 -3.875 \" style=\"stroke:none;\"/>\n",
       "</symbol>\n",
       "<symbol id=\"glyph2-0 3267999068921973254\" overflow=\"visible\">\n",
       "<path d=\"\" style=\"stroke:none;\"/>\n",
       "</symbol>\n",
       "<symbol id=\"glyph2-1 3267999068921973254\" overflow=\"visible\">\n",
       "<path d=\"M 44.140625 -14.734375 C 43.8125 -16.671875 42.96875 -17.890625 40.96875 -19.140625 C 37.34375 -21.40625 31.515625 -22.65625 24.46875 -22.65625 C 11.125 -22.65625 2.84375 -18.15625 2.84375 -10.953125 C 2.84375 -3.765625 11.0625 0.703125 24.203125 0.703125 C 35.984375 0.703125 43.75 -2.5 44.328125 -7.609375 L 34.890625 -7.609375 C 34.234375 -4.765625 30.484375 -3.15625 24.46875 -3.15625 C 16.953125 -3.15625 12.5625 -6.03125 12.5625 -10.890625 C 12.5625 -15.8125 17.15625 -18.75 24.78125 -18.75 C 30.421875 -18.75 33.59375 -17.453125 34.890625 -14.734375 Z M 44.140625 -14.734375 \" style=\"stroke:none;\"/>\n",
       "</symbol>\n",
       "<symbol id=\"glyph3-0 3267999068921973254\" overflow=\"visible\">\n",
       "<path d=\"\" style=\"stroke:none;\"/>\n",
       "</symbol>\n",
       "<symbol id=\"glyph3-1 3267999068921973254\" overflow=\"visible\">\n",
       "<path d=\"M 30.734375 -6.453125 L 33.671875 0 L 43.125 0 L 27.671875 -31.96875 L 17.484375 -31.96875 L 1.59375 0 L 10.984375 0 L 13.984375 -6.453125 Z M 28.21875 -11.9375 L 16.5625 -11.9375 L 22.390625 -24.4375 Z M 28.21875 -11.9375 \" style=\"stroke:none;\"/>\n",
       "</symbol>\n",
       "<symbol id=\"glyph4-0 3267999068921973254\" overflow=\"visible\">\n",
       "<path d=\"\" style=\"stroke:none;\"/>\n",
       "</symbol>\n",
       "<symbol id=\"glyph4-1 3267999068921973254\" overflow=\"visible\">\n",
       "<path d=\"M 27.375 -60.625 L 42.515625 -60.625 L 42.515625 -73.171875 L 1 -73.171875 L 1 -60.625 L 16.703125 -60.625 L 16.703125 0 L 27.375 0 Z M 27.375 -60.625 \" style=\"stroke:none;\"/>\n",
       "</symbol>\n",
       "<symbol id=\"glyph5-0 3267999068921973254\" overflow=\"visible\">\n",
       "<path d=\"\" style=\"stroke:none;\"/>\n",
       "</symbol>\n",
       "<symbol id=\"glyph5-1 3267999068921973254\" overflow=\"visible\">\n",
       "<path d=\"M 44.109375 -42 L 26 -42 L 26 -28.609375 L 36.296875 -28.609375 C 36.046875 -24.21875 35.421875 -21.53125 34.0625 -18.75 C 31.828125 -14.03125 28.359375 -11.25 24.8125 -11.25 C 17.25 -11.25 11.90625 -22.609375 11.90625 -38.6875 C 11.90625 -55.5 16.625 -65.6875 24.578125 -65.6875 C 27.796875 -65.6875 30.53125 -64.078125 32.578125 -60.96875 C 33.875 -59.046875 34.5625 -57.21875 35.359375 -53.15625 L 44.109375 -53.15625 C 43 -69.328125 35.421875 -79.40625 24.515625 -79.40625 C 11.484375 -79.40625 2.609375 -62.796875 2.609375 -38.46875 C 2.609375 -14.78125 11.546875 2.46875 23.765625 2.46875 C 29.84375 2.46875 33.9375 -1.28125 37.421875 -10.078125 L 38.53125 0.21875 L 44.109375 0.21875 Z M 44.109375 -42 \" style=\"stroke:none;\"/>\n",
       "</symbol>\n",
       "<symbol id=\"glyph6-0 3267999068921973254\" overflow=\"visible\">\n",
       "<path d=\"\" style=\"stroke:none;\"/>\n",
       "</symbol>\n",
       "<symbol id=\"glyph6-1 3267999068921973254\" overflow=\"visible\">\n",
       "<path d=\"M 30.734375 -2.109375 L 33.671875 0 L 43.125 0 L 27.671875 -10.4375 L 17.484375 -10.4375 L 1.59375 0 L 10.984375 0 L 13.984375 -2.109375 Z M 28.21875 -3.890625 L 16.5625 -3.890625 L 22.390625 -7.96875 Z M 28.21875 -3.890625 \" style=\"stroke:none;\"/>\n",
       "</symbol>\n",
       "<symbol id=\"glyph7-0 3267999068921973254\" overflow=\"visible\">\n",
       "<path d=\"\" style=\"stroke:none;\"/>\n",
       "</symbol>\n",
       "<symbol id=\"glyph7-1 3267999068921973254\" overflow=\"visible\">\n",
       "<path d=\"M 44.109375 -25.5625 L 26 -25.5625 L 26 -17.40625 L 36.296875 -17.40625 C 36.046875 -14.734375 35.421875 -13.109375 34.0625 -11.40625 C 31.828125 -8.546875 28.359375 -6.84375 24.8125 -6.84375 C 17.25 -6.84375 11.90625 -13.765625 11.90625 -23.546875 C 11.90625 -33.78125 16.625 -39.984375 24.578125 -39.984375 C 27.796875 -39.984375 30.53125 -39 32.578125 -37.109375 C 33.875 -35.9375 34.5625 -34.828125 35.359375 -32.34375 L 44.109375 -32.34375 C 43 -42.203125 35.421875 -48.328125 24.515625 -48.328125 C 11.484375 -48.328125 2.609375 -38.21875 2.609375 -23.40625 C 2.609375 -9 11.546875 1.5 23.765625 1.5 C 29.84375 1.5 33.9375 -0.78125 37.421875 -6.125 L 38.53125 0.125 L 44.109375 0.125 Z M 44.109375 -25.5625 \" style=\"stroke:none;\"/>\n",
       "</symbol>\n",
       "<symbol id=\"glyph8-0 3267999068921973254\" overflow=\"visible\">\n",
       "<path d=\"\" style=\"stroke:none;\"/>\n",
       "</symbol>\n",
       "<symbol id=\"glyph8-1 3267999068921973254\" overflow=\"visible\">\n",
       "<path d=\"M 27.375 -50.34375 L 42.515625 -50.34375 L 42.515625 -60.765625 L 1 -60.765625 L 1 -50.34375 L 16.703125 -50.34375 L 16.703125 0 L 27.375 0 Z M 27.375 -50.34375 \" style=\"stroke:none;\"/>\n",
       "</symbol>\n",
       "<symbol id=\"glyph9-0 3267999068921973254\" overflow=\"visible\">\n",
       "<path d=\"\" style=\"stroke:none;\"/>\n",
       "</symbol>\n",
       "<symbol id=\"glyph9-1 3267999068921973254\" overflow=\"visible\">\n",
       "<path d=\"M 44.140625 -56.296875 C 43.8125 -63.65625 42.96875 -68.328125 40.96875 -73.125 C 37.34375 -81.765625 31.515625 -86.5625 24.46875 -86.5625 C 11.125 -86.5625 2.84375 -69.390625 2.84375 -41.8125 C 2.84375 -14.375 11.0625 2.6875 24.203125 2.6875 C 35.984375 2.6875 43.75 -9.578125 44.328125 -29.09375 L 34.890625 -29.09375 C 34.234375 -18.21875 30.484375 -12.03125 24.46875 -12.03125 C 16.953125 -12.03125 12.5625 -23.015625 12.5625 -41.578125 C 12.5625 -60.390625 17.15625 -71.609375 24.78125 -71.609375 C 30.421875 -71.609375 33.59375 -66.703125 34.890625 -56.296875 Z M 44.140625 -56.296875 \" style=\"stroke:none;\"/>\n",
       "</symbol>\n",
       "<symbol id=\"glyph10-0 3267999068921973254\" overflow=\"visible\">\n",
       "<path d=\"\" style=\"stroke:none;\"/>\n",
       "</symbol>\n",
       "<symbol id=\"glyph10-1 3267999068921973254\" overflow=\"visible\">\n",
       "<path d=\"M 27.375 -6.796875 L 42.515625 -6.796875 L 42.515625 -8.21875 L 1 -8.21875 L 1 -6.796875 L 16.703125 -6.796875 L 16.703125 0 L 27.375 0 Z M 27.375 -6.796875 \" style=\"stroke:none;\"/>\n",
       "</symbol>\n",
       "<symbol id=\"glyph11-0 3267999068921973254\" overflow=\"visible\">\n",
       "<path d=\"\" style=\"stroke:none;\"/>\n",
       "</symbol>\n",
       "<symbol id=\"glyph11-1 3267999068921973254\" overflow=\"visible\">\n",
       "<path d=\"M 44.140625 -25.65625 C 43.8125 -29.015625 42.96875 -31.140625 40.96875 -33.328125 C 37.34375 -37.265625 31.515625 -39.453125 24.46875 -39.453125 C 11.125 -39.453125 2.84375 -31.625 2.84375 -19.0625 C 2.84375 -6.546875 11.0625 1.21875 24.203125 1.21875 C 35.984375 1.21875 43.75 -4.359375 44.328125 -13.25 L 34.890625 -13.25 C 34.234375 -8.296875 30.484375 -5.484375 24.46875 -5.484375 C 16.953125 -5.484375 12.5625 -10.484375 12.5625 -18.953125 C 12.5625 -27.515625 17.15625 -32.625 24.78125 -32.625 C 30.421875 -32.625 33.59375 -30.390625 34.890625 -25.65625 Z M 44.140625 -25.65625 \" style=\"stroke:none;\"/>\n",
       "</symbol>\n",
       "<symbol id=\"glyph12-0 3267999068921973254\" overflow=\"visible\">\n",
       "<path d=\"\" style=\"stroke:none;\"/>\n",
       "</symbol>\n",
       "<symbol id=\"glyph12-1 3267999068921973254\" overflow=\"visible\">\n",
       "<path d=\"M 44.109375 -21.953125 L 26 -21.953125 L 26 -14.953125 L 36.296875 -14.953125 C 36.046875 -12.65625 35.421875 -11.25 34.0625 -9.796875 C 31.828125 -7.34375 28.359375 -5.875 24.8125 -5.875 C 17.25 -5.875 11.90625 -11.8125 11.90625 -20.21875 C 11.90625 -29.015625 16.625 -34.328125 24.578125 -34.328125 C 27.796875 -34.328125 30.53125 -33.484375 32.578125 -31.859375 C 33.875 -30.859375 34.5625 -29.90625 35.359375 -27.78125 L 44.109375 -27.78125 C 43 -36.234375 35.421875 -41.5 24.515625 -41.5 C 11.484375 -41.5 2.609375 -32.8125 2.609375 -20.109375 C 2.609375 -7.734375 11.546875 1.28125 23.765625 1.28125 C 29.84375 1.28125 33.9375 -0.671875 37.421875 -5.265625 L 38.53125 0.109375 L 44.109375 0.109375 Z M 44.109375 -21.953125 \" style=\"stroke:none;\"/>\n",
       "</symbol>\n",
       "<symbol id=\"glyph13-0 3267999068921973254\" overflow=\"visible\">\n",
       "<path d=\"\" style=\"stroke:none;\"/>\n",
       "</symbol>\n",
       "<symbol id=\"glyph13-1 3267999068921973254\" overflow=\"visible\">\n",
       "<path d=\"M 30.734375 -23.9375 L 33.671875 0 L 43.125 0 L 27.671875 -118.703125 L 17.484375 -118.703125 L 1.59375 0 L 10.984375 0 L 13.984375 -23.9375 Z M 28.21875 -44.296875 L 16.5625 -44.296875 L 22.390625 -90.6875 Z M 28.21875 -44.296875 \" style=\"stroke:none;\"/>\n",
       "</symbol>\n",
       "<symbol id=\"glyph14-0 3267999068921973254\" overflow=\"visible\">\n",
       "<path d=\"\" style=\"stroke:none;\"/>\n",
       "</symbol>\n",
       "<symbol id=\"glyph14-1 3267999068921973254\" overflow=\"visible\">\n",
       "<path d=\"M 44.109375 -3.046875 L 26 -3.046875 L 26 -2.078125 L 36.296875 -2.078125 C 36.046875 -1.765625 35.421875 -1.5625 34.0625 -1.359375 C 31.828125 -1.015625 28.359375 -0.8125 24.8125 -0.8125 C 17.25 -0.8125 11.90625 -1.640625 11.90625 -2.8125 C 11.90625 -4.03125 16.625 -4.765625 24.578125 -4.765625 C 27.796875 -4.765625 30.53125 -4.65625 32.578125 -4.421875 C 33.875 -4.28125 34.5625 -4.15625 35.359375 -3.859375 L 44.109375 -3.859375 C 43 -5.03125 35.421875 -5.765625 24.515625 -5.765625 C 11.484375 -5.765625 2.609375 -4.5625 2.609375 -2.796875 C 2.609375 -1.078125 11.546875 0.171875 23.765625 0.171875 C 29.84375 0.171875 33.9375 -0.09375 37.421875 -0.734375 L 38.53125 0.015625 L 44.109375 0.015625 Z M 44.109375 -3.046875 \" style=\"stroke:none;\"/>\n",
       "</symbol>\n",
       "<symbol id=\"glyph15-0 3267999068921973254\" overflow=\"visible\">\n",
       "<path d=\"\" style=\"stroke:none;\"/>\n",
       "</symbol>\n",
       "<symbol id=\"glyph15-1 3267999068921973254\" overflow=\"visible\">\n",
       "<path d=\"M 44.140625 -24.3125 C 43.8125 -27.5 42.96875 -29.515625 40.96875 -31.578125 C 37.34375 -35.3125 31.515625 -37.390625 24.46875 -37.390625 C 11.125 -37.390625 2.84375 -29.96875 2.84375 -18.0625 C 2.84375 -6.203125 11.0625 1.15625 24.203125 1.15625 C 35.984375 1.15625 43.75 -4.140625 44.328125 -12.5625 L 34.890625 -12.5625 C 34.234375 -7.875 30.484375 -5.203125 24.46875 -5.203125 C 16.953125 -5.203125 12.5625 -9.9375 12.5625 -17.96875 C 12.5625 -26.078125 17.15625 -30.921875 24.78125 -30.921875 C 30.421875 -30.921875 33.59375 -28.8125 34.890625 -24.3125 Z M 44.140625 -24.3125 \" style=\"stroke:none;\"/>\n",
       "</symbol>\n",
       "<symbol id=\"glyph16-0 3267999068921973254\" overflow=\"visible\">\n",
       "<path d=\"\" style=\"stroke:none;\"/>\n",
       "</symbol>\n",
       "<symbol id=\"glyph16-1 3267999068921973254\" overflow=\"visible\">\n",
       "<path d=\"M 27.375 -64.21875 L 42.515625 -64.21875 L 42.515625 -77.5 L 1 -77.5 L 1 -64.21875 L 16.703125 -64.21875 L 16.703125 0 L 27.375 0 Z M 27.375 -64.21875 \" style=\"stroke:none;\"/>\n",
       "</symbol>\n",
       "<symbol id=\"glyph17-0 3267999068921973254\" overflow=\"visible\">\n",
       "<path d=\"\" style=\"stroke:none;\"/>\n",
       "</symbol>\n",
       "<symbol id=\"glyph17-1 3267999068921973254\" overflow=\"visible\">\n",
       "<path d=\"M 30.734375 -17.828125 L 33.671875 0 L 43.125 0 L 27.671875 -88.375 L 17.484375 -88.375 L 1.59375 0 L 10.984375 0 L 13.984375 -17.828125 Z M 28.21875 -32.96875 L 16.5625 -32.96875 L 22.390625 -67.53125 Z M 28.21875 -32.96875 \" style=\"stroke:none;\"/>\n",
       "</symbol>\n",
       "<symbol id=\"glyph18-0 3267999068921973254\" overflow=\"visible\">\n",
       "<path d=\"\" style=\"stroke:none;\"/>\n",
       "</symbol>\n",
       "<symbol id=\"glyph18-1 3267999068921973254\" overflow=\"visible\">\n",
       "<path d=\"M 44.109375 -17.546875 L 26 -17.546875 L 26 -11.953125 L 36.296875 -11.953125 C 36.046875 -10.109375 35.421875 -9 34.0625 -7.828125 C 31.828125 -5.859375 28.359375 -4.703125 24.8125 -4.703125 C 17.25 -4.703125 11.90625 -9.4375 11.90625 -16.15625 C 11.90625 -23.1875 16.625 -27.4375 24.578125 -27.4375 C 27.796875 -27.4375 30.53125 -26.765625 32.578125 -25.46875 C 33.875 -24.65625 34.5625 -23.890625 35.359375 -22.203125 L 44.109375 -22.203125 C 43 -28.953125 35.421875 -33.15625 24.515625 -33.15625 C 11.484375 -33.15625 2.609375 -26.21875 2.609375 -16.0625 C 2.609375 -6.171875 11.546875 1.03125 23.765625 1.03125 C 29.84375 1.03125 33.9375 -0.53125 37.421875 -4.203125 L 38.53125 0.09375 L 44.109375 0.09375 Z M 44.109375 -17.546875 \" style=\"stroke:none;\"/>\n",
       "</symbol>\n",
       "<symbol id=\"glyph19-0 3267999068921973254\" overflow=\"visible\">\n",
       "<path d=\"\" style=\"stroke:none;\"/>\n",
       "</symbol>\n",
       "<symbol id=\"glyph19-1 3267999068921973254\" overflow=\"visible\">\n",
       "<path d=\"M 30.734375 -15.625 L 33.671875 0 L 43.125 0 L 27.671875 -77.5 L 17.484375 -77.5 L 1.59375 0 L 10.984375 0 L 13.984375 -15.625 Z M 28.21875 -28.921875 L 16.5625 -28.921875 L 22.390625 -59.21875 Z M 28.21875 -28.921875 \" style=\"stroke:none;\"/>\n",
       "</symbol>\n",
       "<symbol id=\"glyph20-0 3267999068921973254\" overflow=\"visible\">\n",
       "<path d=\"\" style=\"stroke:none;\"/>\n",
       "</symbol>\n",
       "<symbol id=\"glyph20-1 3267999068921973254\" overflow=\"visible\">\n",
       "<path d=\"M 27.375 -82.15625 L 42.515625 -82.15625 L 42.515625 -99.15625 L 1 -99.15625 L 1 -82.15625 L 16.703125 -82.15625 L 16.703125 0 L 27.375 0 Z M 27.375 -82.15625 \" style=\"stroke:none;\"/>\n",
       "</symbol>\n",
       "<symbol id=\"glyph21-0 3267999068921973254\" overflow=\"visible\">\n",
       "<path d=\"\" style=\"stroke:none;\"/>\n",
       "</symbol>\n",
       "<symbol id=\"glyph21-1 3267999068921973254\" overflow=\"visible\">\n",
       "<path d=\"M 27.375 -4.96875 L 42.515625 -4.96875 L 42.515625 -6 L 1 -6 L 1 -4.96875 L 16.703125 -4.96875 L 16.703125 0 L 27.375 0 Z M 27.375 -4.96875 \" style=\"stroke:none;\"/>\n",
       "</symbol>\n",
       "<symbol id=\"glyph22-0 3267999068921973254\" overflow=\"visible\">\n",
       "<path d=\"\" style=\"stroke:none;\"/>\n",
       "</symbol>\n",
       "<symbol id=\"glyph22-1 3267999068921973254\" overflow=\"visible\">\n",
       "<path d=\"M 44.109375 -7.515625 L 26 -7.515625 L 26 -5.125 L 36.296875 -5.125 C 36.046875 -4.34375 35.421875 -3.859375 34.0625 -3.359375 C 31.828125 -2.515625 28.359375 -2.015625 24.8125 -2.015625 C 17.25 -2.015625 11.90625 -4.046875 11.90625 -6.921875 C 11.90625 -9.9375 16.625 -11.765625 24.578125 -11.765625 C 27.796875 -11.765625 30.53125 -11.46875 32.578125 -10.921875 C 33.875 -10.578125 34.5625 -10.25 35.359375 -9.515625 L 44.109375 -9.515625 C 43 -12.421875 35.421875 -14.21875 24.515625 -14.21875 C 11.484375 -14.21875 2.609375 -11.25 2.609375 -6.890625 C 2.609375 -2.640625 11.546875 0.4375 23.765625 0.4375 C 29.84375 0.4375 33.9375 -0.234375 37.421875 -1.796875 L 38.53125 0.03125 L 44.109375 0.03125 Z M 44.109375 -7.515625 \" style=\"stroke:none;\"/>\n",
       "</symbol>\n",
       "<symbol id=\"glyph23-0 3267999068921973254\" overflow=\"visible\">\n",
       "<path d=\"\" style=\"stroke:none;\"/>\n",
       "</symbol>\n",
       "<symbol id=\"glyph23-1 3267999068921973254\" overflow=\"visible\">\n",
       "<path d=\"M 30.734375 -18.703125 L 33.671875 0 L 43.125 0 L 27.671875 -92.71875 L 17.484375 -92.71875 L 1.59375 0 L 10.984375 0 L 13.984375 -18.703125 Z M 28.21875 -34.59375 L 16.5625 -34.59375 L 22.390625 -70.84375 Z M 28.21875 -34.59375 \" style=\"stroke:none;\"/>\n",
       "</symbol>\n",
       "<symbol id=\"glyph24-0 3267999068921973254\" overflow=\"visible\">\n",
       "<path d=\"\" style=\"stroke:none;\"/>\n",
       "</symbol>\n",
       "<symbol id=\"glyph24-1 3267999068921973254\" overflow=\"visible\">\n",
       "<path d=\"M 44.140625 -61.234375 C 43.8125 -69.234375 42.96875 -74.328125 40.96875 -79.53125 C 37.34375 -88.9375 31.515625 -94.140625 24.46875 -94.140625 C 11.125 -94.140625 2.84375 -75.46875 2.84375 -45.484375 C 2.84375 -15.625 11.0625 2.921875 24.203125 2.921875 C 35.984375 2.921875 43.75 -10.421875 44.328125 -31.640625 L 34.890625 -31.640625 C 34.234375 -19.8125 30.484375 -13.078125 24.46875 -13.078125 C 16.953125 -13.078125 12.5625 -25.03125 12.5625 -45.234375 C 12.5625 -65.6875 17.15625 -77.875 24.78125 -77.875 C 30.421875 -77.875 33.59375 -72.546875 34.890625 -61.234375 Z M 44.140625 -61.234375 \" style=\"stroke:none;\"/>\n",
       "</symbol>\n",
       "</g>\n",
       "</defs>\n",
       "<g id=\"surface1\">\n",
       "<path d=\"M 110.416667 56.673177 L 131.25 56.673177 L 131.25 941.666667 \" style=\"fill:none;stroke-width:2.08333;stroke-linecap:butt;stroke-linejoin:miter;stroke:rgb(0%,0%,0%);stroke-opacity:1;stroke-miterlimit:10;\" transform=\"matrix(0.24,0,0,-0.24,0,232)\"/>\n",
       "<g style=\"fill:rgb(0%,0%,0%);fill-opacity:1;\">\n",
       "  <use x=\"14.880912\" xlink:href=\"#glyph0-1 3267999068921973254\" y=\"221.364091\"/>\n",
       "  <use x=\"19.328915\" xlink:href=\"#glyph0-2 3267999068921973254\" y=\"221.364091\"/>\n",
       "  <use x=\"21.552917\" xlink:href=\"#glyph0-1 3267999068921973254\" y=\"221.364091\"/>\n",
       "</g>\n",
       "<path d=\"M 110.416667 56.673177 L 131.25 56.673177 \" style=\"fill:none;stroke-width:2.08333;stroke-linecap:butt;stroke-linejoin:miter;stroke:rgb(0%,0%,0%);stroke-opacity:1;stroke-miterlimit:10;\" transform=\"matrix(0.24,0,0,-0.24,0,232)\"/>\n",
       "<g style=\"fill:rgb(0%,0%,0%);fill-opacity:1;\">\n",
       "  <use x=\"14.880912\" xlink:href=\"#glyph0-1 3267999068921973254\" y=\"115.163907\"/>\n",
       "  <use x=\"19.328915\" xlink:href=\"#glyph0-2 3267999068921973254\" y=\"115.163907\"/>\n",
       "  <use x=\"21.552917\" xlink:href=\"#glyph0-3 3267999068921973254\" y=\"115.163907\"/>\n",
       "</g>\n",
       "<path d=\"M 110.416667 499.169922 L 131.25 499.169922 \" style=\"fill:none;stroke-width:2.08333;stroke-linecap:butt;stroke-linejoin:miter;stroke:rgb(0%,0%,0%);stroke-opacity:1;stroke-miterlimit:10;\" transform=\"matrix(0.24,0,0,-0.24,0,232)\"/>\n",
       "<g style=\"fill:rgb(0%,0%,0%);fill-opacity:1;\">\n",
       "  <use x=\"14.880912\" xlink:href=\"#glyph0-4 3267999068921973254\" y=\"8.963822\"/>\n",
       "  <use x=\"19.328915\" xlink:href=\"#glyph0-2 3267999068921973254\" y=\"8.963822\"/>\n",
       "  <use x=\"21.552917\" xlink:href=\"#glyph0-1 3267999068921973254\" y=\"8.963822\"/>\n",
       "</g>\n",
       "<path d=\"M 110.416667 941.666667 L 131.25 941.666667 \" style=\"fill:none;stroke-width:2.08333;stroke-linecap:butt;stroke-linejoin:miter;stroke:rgb(0%,0%,0%);stroke-opacity:1;stroke-miterlimit:10;\" transform=\"matrix(0.24,0,0,-0.24,0,232)\"/>\n",
       "<path d=\"M 131.25 56.673177 L 120.833333 56.673177 \" style=\"fill:none;stroke-width:2.08333;stroke-linecap:butt;stroke-linejoin:miter;stroke:rgb(0%,0%,0%);stroke-opacity:1;stroke-miterlimit:10;\" transform=\"matrix(0.24,0,0,-0.24,0,232)\"/>\n",
       "<path d=\"M 131.25 145.166016 L 120.833333 145.166016 \" style=\"fill:none;stroke-width:2.08333;stroke-linecap:butt;stroke-linejoin:miter;stroke:rgb(0%,0%,0%);stroke-opacity:1;stroke-miterlimit:10;\" transform=\"matrix(0.24,0,0,-0.24,0,232)\"/>\n",
       "<path d=\"M 131.25 233.67513 L 120.833333 233.67513 \" style=\"fill:none;stroke-width:2.08333;stroke-linecap:butt;stroke-linejoin:miter;stroke:rgb(0%,0%,0%);stroke-opacity:1;stroke-miterlimit:10;\" transform=\"matrix(0.24,0,0,-0.24,0,232)\"/>\n",
       "<path d=\"M 131.25 322.167969 L 120.833333 322.167969 \" style=\"fill:none;stroke-width:2.08333;stroke-linecap:butt;stroke-linejoin:miter;stroke:rgb(0%,0%,0%);stroke-opacity:1;stroke-miterlimit:10;\" transform=\"matrix(0.24,0,0,-0.24,0,232)\"/>\n",
       "<path d=\"M 131.25 410.660807 L 120.833333 410.660807 \" style=\"fill:none;stroke-width:2.08333;stroke-linecap:butt;stroke-linejoin:miter;stroke:rgb(0%,0%,0%);stroke-opacity:1;stroke-miterlimit:10;\" transform=\"matrix(0.24,0,0,-0.24,0,232)\"/>\n",
       "<path d=\"M 131.25 499.169922 L 120.833333 499.169922 \" style=\"fill:none;stroke-width:2.08333;stroke-linecap:butt;stroke-linejoin:miter;stroke:rgb(0%,0%,0%);stroke-opacity:1;stroke-miterlimit:10;\" transform=\"matrix(0.24,0,0,-0.24,0,232)\"/>\n",
       "<path d=\"M 131.25 587.66276 L 120.833333 587.66276 \" style=\"fill:none;stroke-width:2.08333;stroke-linecap:butt;stroke-linejoin:miter;stroke:rgb(0%,0%,0%);stroke-opacity:1;stroke-miterlimit:10;\" transform=\"matrix(0.24,0,0,-0.24,0,232)\"/>\n",
       "<path d=\"M 131.25 676.171875 L 120.833333 676.171875 \" style=\"fill:none;stroke-width:2.08333;stroke-linecap:butt;stroke-linejoin:miter;stroke:rgb(0%,0%,0%);stroke-opacity:1;stroke-miterlimit:10;\" transform=\"matrix(0.24,0,0,-0.24,0,232)\"/>\n",
       "<path d=\"M 131.25 764.664714 L 120.833333 764.664714 \" style=\"fill:none;stroke-width:2.08333;stroke-linecap:butt;stroke-linejoin:miter;stroke:rgb(0%,0%,0%);stroke-opacity:1;stroke-miterlimit:10;\" transform=\"matrix(0.24,0,0,-0.24,0,232)\"/>\n",
       "<path d=\"M 131.25 853.173828 L 120.833333 853.173828 \" style=\"fill:none;stroke-width:2.08333;stroke-linecap:butt;stroke-linejoin:miter;stroke:rgb(0%,0%,0%);stroke-opacity:1;stroke-miterlimit:10;\" transform=\"matrix(0.24,0,0,-0.24,0,232)\"/>\n",
       "<g style=\"fill:rgb(0%,0%,0%);fill-opacity:1;\">\n",
       "  <use x=\"11.851909\" xlink:href=\"#glyph1-1 3267999068921973254\" y=\"134.982722\"/>\n",
       "  <use x=\"11.851909\" xlink:href=\"#glyph1-2 3267999068921973254\" y=\"129.422718\"/>\n",
       "  <use x=\"11.851909\" xlink:href=\"#glyph1-3 3267999068921973254\" y=\"126.092715\"/>\n",
       "  <use x=\"11.851909\" xlink:href=\"#glyph1-4 3267999068921973254\" y=\"120.532711\"/>\n",
       "  <use x=\"11.851909\" xlink:href=\"#glyph1-5 3267999068921973254\" y=\"114.972706\"/>\n",
       "  <use x=\"11.851909\" xlink:href=\"#glyph1-4 3267999068921973254\" y=\"109.412702\"/>\n",
       "  <use x=\"11.851909\" xlink:href=\"#glyph1-6 3267999068921973254\" y=\"103.852697\"/>\n",
       "  <use x=\"11.851909\" xlink:href=\"#glyph1-7 3267999068921973254\" y=\"101.632696\"/>\n",
       "  <use x=\"11.851909\" xlink:href=\"#glyph1-6 3267999068921973254\" y=\"99.412694\"/>\n",
       "  <use x=\"11.851909\" xlink:href=\"#glyph1-8 3267999068921973254\" y=\"97.192692\"/>\n",
       "  <use x=\"11.851909\" xlink:href=\"#glyph1-9 3267999068921973254\" y=\"94.41269\"/>\n",
       "</g>\n",
       "<path d=\"M 133.333333 56.673177 L 310.335286 56.673177 M 221.826172 56.673177 L 221.826172 51.464844 \" style=\"fill:none;stroke-width:2.08333;stroke-linecap:butt;stroke-linejoin:miter;stroke:rgb(0%,0%,0%);stroke-opacity:1;stroke-miterlimit:10;\" transform=\"matrix(0.24,0,0,-0.24,0,232)\"/>\n",
       "<g style=\"fill:rgb(0%,0%,100%);fill-opacity:1;\">\n",
       "  <use x=\"29.654124\" xlink:href=\"#glyph2-1 3267999068921973254\" y=\"217.198788\"/>\n",
       "</g>\n",
       "<g style=\"fill:rgb(0%,50.193787%,0%);fill-opacity:1;\">\n",
       "  <use x=\"30.906625\" xlink:href=\"#glyph3-1 3267999068921973254\" y=\"194.05937\"/>\n",
       "</g>\n",
       "<g style=\"fill:rgb(100%,0%,0%);fill-opacity:1;\">\n",
       "  <use x=\"31.506625\" xlink:href=\"#glyph4-1 3267999068921973254\" y=\"161.548644\"/>\n",
       "</g>\n",
       "<g style=\"fill:rgb(100%,64.646912%,0%);fill-opacity:1;\">\n",
       "  <use x=\"29.894124\" xlink:href=\"#glyph5-1 3267999068921973254\" y=\"85.395883\"/>\n",
       "</g>\n",
       "<path d=\"M 310.335286 56.673177 L 487.33724 56.673177 M 398.828125 56.673177 L 398.828125 51.464844 \" style=\"fill:none;stroke-width:2.08333;stroke-linecap:butt;stroke-linejoin:miter;stroke:rgb(0%,0%,0%);stroke-opacity:1;stroke-miterlimit:10;\" transform=\"matrix(0.24,0,0,-0.24,0,232)\"/>\n",
       "<g style=\"fill:rgb(0%,50.193787%,0%);fill-opacity:1;\">\n",
       "  <use x=\"73.386659\" xlink:href=\"#glyph6-1 3267999068921973254\" y=\"217.899989\"/>\n",
       "</g>\n",
       "<g style=\"fill:rgb(100%,64.646912%,0%);fill-opacity:1;\">\n",
       "  <use x=\"72.374158\" xlink:href=\"#glyph7-1 3267999068921973254\" y=\"205.451879\"/>\n",
       "</g>\n",
       "<g style=\"fill:rgb(100%,0%,0%);fill-opacity:1;\">\n",
       "  <use x=\"73.986659\" xlink:href=\"#glyph8-1 3267999068921973254\" y=\"156.58834\"/>\n",
       "</g>\n",
       "<g style=\"fill:rgb(0%,0%,100%);fill-opacity:1;\">\n",
       "  <use x=\"72.134158\" xlink:href=\"#glyph9-1 3267999068921973254\" y=\"92.592888\"/>\n",
       "</g>\n",
       "<path d=\"M 487.33724 56.673177 L 664.339193 56.673177 M 575.830078 56.673177 L 575.830078 51.464844 \" style=\"fill:none;stroke-width:2.08333;stroke-linecap:butt;stroke-linejoin:miter;stroke:rgb(0%,0%,0%);stroke-opacity:1;stroke-miterlimit:10;\" transform=\"matrix(0.24,0,0,-0.24,0,232)\"/>\n",
       "<g style=\"fill:rgb(100%,0%,0%);fill-opacity:1;\">\n",
       "  <use x=\"116.467093\" xlink:href=\"#glyph10-1 3267999068921973254\" y=\"217.899989\"/>\n",
       "</g>\n",
       "<g style=\"fill:rgb(0%,0%,100%);fill-opacity:1;\">\n",
       "  <use x=\"114.614092\" xlink:href=\"#glyph11-1 3267999068921973254\" y=\"208.008381\"/>\n",
       "</g>\n",
       "<g style=\"fill:rgb(100%,64.646912%,0%);fill-opacity:1;\">\n",
       "  <use x=\"114.854092\" xlink:href=\"#glyph12-1 3267999068921973254\" y=\"166.764948\"/>\n",
       "</g>\n",
       "<g style=\"fill:rgb(0%,50.193787%,0%);fill-opacity:1;\">\n",
       "  <use x=\"115.867093\" xlink:href=\"#glyph13-1 3267999068921973254\" y=\"124.703914\"/>\n",
       "</g>\n",
       "<path d=\"M 664.339193 56.673177 L 841.32487 56.673177 M 752.832031 56.673177 L 752.832031 51.464844 \" style=\"fill:none;stroke-width:2.08333;stroke-linecap:butt;stroke-linejoin:miter;stroke:rgb(0%,0%,0%);stroke-opacity:1;stroke-miterlimit:10;\" transform=\"matrix(0.24,0,0,-0.24,0,232)\"/>\n",
       "<g style=\"fill:rgb(100%,64.646912%,0%);fill-opacity:1;\">\n",
       "  <use x=\"157.334126\" xlink:href=\"#glyph14-1 3267999068921973254\" y=\"217.719989\"/>\n",
       "</g>\n",
       "<g style=\"fill:rgb(0%,0%,100%);fill-opacity:1;\">\n",
       "  <use x=\"157.094126\" xlink:href=\"#glyph15-1 3267999068921973254\" y=\"210.239683\"/>\n",
       "</g>\n",
       "<g style=\"fill:rgb(100%,0%,0%);fill-opacity:1;\">\n",
       "  <use x=\"158.947127\" xlink:href=\"#glyph16-1 3267999068921973254\" y=\"172.386252\"/>\n",
       "</g>\n",
       "<g style=\"fill:rgb(0%,50.193787%,0%);fill-opacity:1;\">\n",
       "  <use x=\"158.347127\" xlink:href=\"#glyph17-1 3267999068921973254\" y=\"94.36089\"/>\n",
       "</g>\n",
       "<path d=\"M 841.32487 56.673177 L 1018.326823 56.673177 M 929.833984 56.673177 L 929.833984 46.25651 \" style=\"fill:none;stroke-width:2.08333;stroke-linecap:butt;stroke-linejoin:miter;stroke:rgb(0%,0%,0%);stroke-opacity:1;stroke-miterlimit:10;\" transform=\"matrix(0.24,0,0,-0.24,0,232)\"/>\n",
       "<g style=\"fill:rgb(0%,0%,0%);fill-opacity:1;\">\n",
       "  <use x=\"220.936177\" xlink:href=\"#glyph0-3 3267999068921973254\" y=\"228.899688\"/>\n",
       "</g>\n",
       "<g style=\"fill:rgb(100%,64.646912%,0%);fill-opacity:1;\">\n",
       "  <use x=\"199.81416\" xlink:href=\"#glyph18-1 3267999068921973254\" y=\"216.868788\"/>\n",
       "</g>\n",
       "<g style=\"fill:rgb(0%,50.193787%,0%);fill-opacity:1;\">\n",
       "  <use x=\"200.827161\" xlink:href=\"#glyph19-1 3267999068921973254\" y=\"183.222761\"/>\n",
       "</g>\n",
       "<g style=\"fill:rgb(100%,0%,0%);fill-opacity:1;\">\n",
       "  <use x=\"201.427161\" xlink:href=\"#glyph20-1 3267999068921973254\" y=\"105.197899\"/>\n",
       "</g>\n",
       "<path d=\"M 1018.326823 56.673177 L 1195.328776 56.673177 M 1106.835937 56.673177 L 1106.835937 51.464844 \" style=\"fill:none;stroke-width:2.08333;stroke-linecap:butt;stroke-linejoin:miter;stroke:rgb(0%,0%,0%);stroke-opacity:1;stroke-miterlimit:10;\" transform=\"matrix(0.24,0,0,-0.24,0,232)\"/>\n",
       "<g style=\"fill:rgb(100%,0%,0%);fill-opacity:1;\">\n",
       "  <use x=\"243.907195\" xlink:href=\"#glyph21-1 3267999068921973254\" y=\"217.899989\"/>\n",
       "</g>\n",
       "<g style=\"fill:rgb(100%,64.646912%,0%);fill-opacity:1;\">\n",
       "  <use x=\"242.294194\" xlink:href=\"#glyph22-1 3267999068921973254\" y=\"210.959683\"/>\n",
       "</g>\n",
       "<g style=\"fill:rgb(0%,50.193787%,0%);fill-opacity:1;\">\n",
       "  <use x=\"243.307195\" xlink:href=\"#glyph23-1 3267999068921973254\" y=\"196.226871\"/>\n",
       "</g>\n",
       "<g style=\"fill:rgb(0%,0%,100%);fill-opacity:1;\">\n",
       "  <use x=\"242.054194\" xlink:href=\"#glyph24-1 3267999068921973254\" y=\"100.109894\"/>\n",
       "</g>\n",
       "</g>\n",
       "</svg>"
      ],
      "text/plain": [
       "<IPython.core.display.SVG object>"
      ]
     },
     "execution_count": 94,
     "metadata": {},
     "output_type": "execute_result"
    }
   ],
   "source": [
    "random_ppm = np.random.dirichlet(np.ones(4), size=6)\n",
    "\n",
    "ppm = seqlogo.Ppm(random_ppm)\n",
    "seqlogo.seqlogo(ppm, ic_scale = False, format = 'svg', size = 'small')"
   ]
  },
  {
   "cell_type": "code",
   "execution_count": null,
   "id": "strategic-effects",
   "metadata": {},
   "outputs": [],
   "source": []
  },
  {
   "cell_type": "code",
   "execution_count": null,
   "id": "signal-sigma",
   "metadata": {},
   "outputs": [],
   "source": []
  },
  {
   "cell_type": "code",
   "execution_count": 16,
   "id": "formed-qualification",
   "metadata": {
    "ExecuteTime": {
     "end_time": "2021-05-01T12:56:16.562703Z",
     "start_time": "2021-05-01T12:56:16.537402Z"
    }
   },
   "outputs": [
    {
     "data": {
      "text/html": [
       "<div>\n",
       "<style scoped>\n",
       "    .dataframe tbody tr th:only-of-type {\n",
       "        vertical-align: middle;\n",
       "    }\n",
       "\n",
       "    .dataframe tbody tr th {\n",
       "        vertical-align: top;\n",
       "    }\n",
       "\n",
       "    .dataframe thead th {\n",
       "        text-align: right;\n",
       "    }\n",
       "</style>\n",
       "<table border=\"1\" class=\"dataframe\">\n",
       "  <thead>\n",
       "    <tr style=\"text-align: right;\">\n",
       "      <th></th>\n",
       "      <th>pair_idx</th>\n",
       "      <th>pos</th>\n",
       "      <th>parent_nucl</th>\n",
       "      <th>child_nucl</th>\n",
       "      <th>stype</th>\n",
       "      <th>primary_dist2nearest</th>\n",
       "      <th>secondary_dist2nearest</th>\n",
       "      <th>parent_node</th>\n",
       "      <th>child_node</th>\n",
       "      <th>n2n</th>\n",
       "      <th>Pos</th>\n",
       "      <th>RefNuc</th>\n",
       "      <th>GenName</th>\n",
       "    </tr>\n",
       "  </thead>\n",
       "  <tbody>\n",
       "    <tr>\n",
       "      <th>0</th>\n",
       "      <td>0</td>\n",
       "      <td>240</td>\n",
       "      <td>C</td>\n",
       "      <td>T</td>\n",
       "      <td>3</td>\n",
       "      <td>30000</td>\n",
       "      <td>30000</td>\n",
       "      <td>#54567#</td>\n",
       "      <td>#51858#</td>\n",
       "      <td>CT</td>\n",
       "      <td>240</td>\n",
       "      <td>C</td>\n",
       "      <td>5UTR</td>\n",
       "    </tr>\n",
       "    <tr>\n",
       "      <th>1</th>\n",
       "      <td>1</td>\n",
       "      <td>240</td>\n",
       "      <td>C</td>\n",
       "      <td>T</td>\n",
       "      <td>3</td>\n",
       "      <td>30000</td>\n",
       "      <td>30000</td>\n",
       "      <td>#54567#</td>\n",
       "      <td>#54566#</td>\n",
       "      <td>CT</td>\n",
       "      <td>240</td>\n",
       "      <td>C</td>\n",
       "      <td>5UTR</td>\n",
       "    </tr>\n",
       "    <tr>\n",
       "      <th>2</th>\n",
       "      <td>758</td>\n",
       "      <td>240</td>\n",
       "      <td>T</td>\n",
       "      <td>C</td>\n",
       "      <td>3</td>\n",
       "      <td>30000</td>\n",
       "      <td>30000</td>\n",
       "      <td>#48888#</td>\n",
       "      <td>#48203#</td>\n",
       "      <td>TC</td>\n",
       "      <td>240</td>\n",
       "      <td>C</td>\n",
       "      <td>5UTR</td>\n",
       "    </tr>\n",
       "    <tr>\n",
       "      <th>3</th>\n",
       "      <td>1028</td>\n",
       "      <td>240</td>\n",
       "      <td>C</td>\n",
       "      <td>T</td>\n",
       "      <td>3</td>\n",
       "      <td>30000</td>\n",
       "      <td>30000</td>\n",
       "      <td>#48203#</td>\n",
       "      <td>#47426#</td>\n",
       "      <td>CT</td>\n",
       "      <td>240</td>\n",
       "      <td>C</td>\n",
       "      <td>5UTR</td>\n",
       "    </tr>\n",
       "    <tr>\n",
       "      <th>4</th>\n",
       "      <td>1029</td>\n",
       "      <td>240</td>\n",
       "      <td>C</td>\n",
       "      <td>T</td>\n",
       "      <td>3</td>\n",
       "      <td>30000</td>\n",
       "      <td>30000</td>\n",
       "      <td>#48203#</td>\n",
       "      <td>#39588#</td>\n",
       "      <td>CT</td>\n",
       "      <td>240</td>\n",
       "      <td>C</td>\n",
       "      <td>5UTR</td>\n",
       "    </tr>\n",
       "  </tbody>\n",
       "</table>\n",
       "</div>"
      ],
      "text/plain": [
       "   pair_idx  pos parent_nucl child_nucl  stype  primary_dist2nearest  \\\n",
       "0         0  240           C          T      3                 30000   \n",
       "1         1  240           C          T      3                 30000   \n",
       "2       758  240           T          C      3                 30000   \n",
       "3      1028  240           C          T      3                 30000   \n",
       "4      1029  240           C          T      3                 30000   \n",
       "\n",
       "   secondary_dist2nearest parent_node child_node n2n  Pos RefNuc GenName  \n",
       "0                   30000     #54567#    #51858#  CT  240      C    5UTR  \n",
       "1                   30000     #54567#    #54566#  CT  240      C    5UTR  \n",
       "2                   30000     #48888#    #48203#  TC  240      C    5UTR  \n",
       "3                   30000     #48203#    #47426#  CT  240      C    5UTR  \n",
       "4                   30000     #48203#    #39588#  CT  240      C    5UTR  "
      ]
     },
     "execution_count": 16,
     "metadata": {},
     "output_type": "execute_result"
    }
   ],
   "source": [
    "distances.head()"
   ]
  },
  {
   "cell_type": "code",
   "execution_count": null,
   "id": "expired-claim",
   "metadata": {},
   "outputs": [],
   "source": []
  },
  {
   "cell_type": "code",
   "execution_count": null,
   "id": "cathedral-factory",
   "metadata": {},
   "outputs": [],
   "source": []
  },
  {
   "cell_type": "code",
   "execution_count": 41,
   "id": "thirty-specific",
   "metadata": {
    "ExecuteTime": {
     "end_time": "2021-04-30T10:39:30.714575Z",
     "start_time": "2021-04-30T10:39:30.560342Z"
    }
   },
   "outputs": [
    {
     "data": {
      "text/html": [
       "<div>\n",
       "<style scoped>\n",
       "    .dataframe tbody tr th:only-of-type {\n",
       "        vertical-align: middle;\n",
       "    }\n",
       "\n",
       "    .dataframe tbody tr th {\n",
       "        vertical-align: top;\n",
       "    }\n",
       "\n",
       "    .dataframe thead th {\n",
       "        text-align: right;\n",
       "    }\n",
       "</style>\n",
       "<table border=\"1\" class=\"dataframe\">\n",
       "  <thead>\n",
       "    <tr style=\"text-align: right;\">\n",
       "      <th>stype</th>\n",
       "      <th>free2paired</th>\n",
       "      <th>paired2free</th>\n",
       "      <th>free2free</th>\n",
       "      <th>no_info</th>\n",
       "      <th>paired2paired</th>\n",
       "    </tr>\n",
       "    <tr>\n",
       "      <th>pos</th>\n",
       "      <th></th>\n",
       "      <th></th>\n",
       "      <th></th>\n",
       "      <th></th>\n",
       "      <th></th>\n",
       "    </tr>\n",
       "  </thead>\n",
       "  <tbody>\n",
       "    <tr>\n",
       "      <th>83</th>\n",
       "      <td>10</td>\n",
       "      <td>10</td>\n",
       "      <td>0</td>\n",
       "      <td>0</td>\n",
       "      <td>0</td>\n",
       "    </tr>\n",
       "    <tr>\n",
       "      <th>87</th>\n",
       "      <td>8</td>\n",
       "      <td>7</td>\n",
       "      <td>0</td>\n",
       "      <td>0</td>\n",
       "      <td>0</td>\n",
       "    </tr>\n",
       "  </tbody>\n",
       "</table>\n",
       "</div>"
      ],
      "text/plain": [
       "stype  free2paired  paired2free  free2free  no_info  paired2paired\n",
       "pos                                                               \n",
       "83              10           10          0        0              0\n",
       "87               8            7          0        0              0"
      ]
     },
     "execution_count": 41,
     "metadata": {},
     "output_type": "execute_result"
    }
   ],
   "source": [
    "filtered_stype_on_pos = calculate_stype_on_pos(distances)\n",
    "filtered_stype_on_pos.head(2)"
   ]
  },
  {
   "cell_type": "code",
   "execution_count": 45,
   "id": "egyptian-jewel",
   "metadata": {
    "ExecuteTime": {
     "end_time": "2021-04-30T10:40:19.565763Z",
     "start_time": "2021-04-30T10:40:19.552683Z"
    }
   },
   "outputs": [
    {
     "data": {
      "text/html": [
       "<div>\n",
       "<style scoped>\n",
       "    .dataframe tbody tr th:only-of-type {\n",
       "        vertical-align: middle;\n",
       "    }\n",
       "\n",
       "    .dataframe tbody tr th {\n",
       "        vertical-align: top;\n",
       "    }\n",
       "\n",
       "    .dataframe thead th {\n",
       "        text-align: right;\n",
       "    }\n",
       "</style>\n",
       "<table border=\"1\" class=\"dataframe\">\n",
       "  <thead>\n",
       "    <tr style=\"text-align: right;\">\n",
       "      <th>stype</th>\n",
       "      <th>free2paired</th>\n",
       "      <th>paired2free</th>\n",
       "      <th>free2free</th>\n",
       "      <th>no_info</th>\n",
       "      <th>paired2paired</th>\n",
       "    </tr>\n",
       "    <tr>\n",
       "      <th>pos</th>\n",
       "      <th></th>\n",
       "      <th></th>\n",
       "      <th></th>\n",
       "      <th></th>\n",
       "      <th></th>\n",
       "    </tr>\n",
       "  </thead>\n",
       "  <tbody>\n",
       "    <tr>\n",
       "      <th>83</th>\n",
       "      <td>10</td>\n",
       "      <td>10</td>\n",
       "      <td>0</td>\n",
       "      <td>0</td>\n",
       "      <td>0</td>\n",
       "    </tr>\n",
       "    <tr>\n",
       "      <th>87</th>\n",
       "      <td>8</td>\n",
       "      <td>7</td>\n",
       "      <td>0</td>\n",
       "      <td>0</td>\n",
       "      <td>0</td>\n",
       "    </tr>\n",
       "    <tr>\n",
       "      <th>89</th>\n",
       "      <td>8</td>\n",
       "      <td>8</td>\n",
       "      <td>0</td>\n",
       "      <td>0</td>\n",
       "      <td>0</td>\n",
       "    </tr>\n",
       "    <tr>\n",
       "      <th>90</th>\n",
       "      <td>18</td>\n",
       "      <td>19</td>\n",
       "      <td>24</td>\n",
       "      <td>0</td>\n",
       "      <td>0</td>\n",
       "    </tr>\n",
       "    <tr>\n",
       "      <th>93</th>\n",
       "      <td>6</td>\n",
       "      <td>8</td>\n",
       "      <td>0</td>\n",
       "      <td>0</td>\n",
       "      <td>0</td>\n",
       "    </tr>\n",
       "    <tr>\n",
       "      <th>...</th>\n",
       "      <td>...</td>\n",
       "      <td>...</td>\n",
       "      <td>...</td>\n",
       "      <td>...</td>\n",
       "      <td>...</td>\n",
       "    </tr>\n",
       "    <tr>\n",
       "      <th>29862</th>\n",
       "      <td>35</td>\n",
       "      <td>29</td>\n",
       "      <td>3</td>\n",
       "      <td>0</td>\n",
       "      <td>0</td>\n",
       "    </tr>\n",
       "    <tr>\n",
       "      <th>29863</th>\n",
       "      <td>137</td>\n",
       "      <td>125</td>\n",
       "      <td>4</td>\n",
       "      <td>0</td>\n",
       "      <td>0</td>\n",
       "    </tr>\n",
       "    <tr>\n",
       "      <th>29864</th>\n",
       "      <td>44</td>\n",
       "      <td>51</td>\n",
       "      <td>3</td>\n",
       "      <td>0</td>\n",
       "      <td>0</td>\n",
       "    </tr>\n",
       "    <tr>\n",
       "      <th>29865</th>\n",
       "      <td>30</td>\n",
       "      <td>31</td>\n",
       "      <td>0</td>\n",
       "      <td>0</td>\n",
       "      <td>0</td>\n",
       "    </tr>\n",
       "    <tr>\n",
       "      <th>29866</th>\n",
       "      <td>274</td>\n",
       "      <td>252</td>\n",
       "      <td>7</td>\n",
       "      <td>0</td>\n",
       "      <td>0</td>\n",
       "    </tr>\n",
       "  </tbody>\n",
       "</table>\n",
       "<p>1805 rows × 5 columns</p>\n",
       "</div>"
      ],
      "text/plain": [
       "stype  free2paired  paired2free  free2free  no_info  paired2paired\n",
       "pos                                                               \n",
       "83              10           10          0        0              0\n",
       "87               8            7          0        0              0\n",
       "89               8            8          0        0              0\n",
       "90              18           19         24        0              0\n",
       "93               6            8          0        0              0\n",
       "...            ...          ...        ...      ...            ...\n",
       "29862           35           29          3        0              0\n",
       "29863          137          125          4        0              0\n",
       "29864           44           51          3        0              0\n",
       "29865           30           31          0        0              0\n",
       "29866          274          252          7        0              0\n",
       "\n",
       "[1805 rows x 5 columns]"
      ]
     },
     "execution_count": 45,
     "metadata": {},
     "output_type": "execute_result"
    }
   ],
   "source": [
    "filtered_stype_on_pos"
   ]
  },
  {
   "cell_type": "code",
   "execution_count": 12,
   "id": "worthy-heading",
   "metadata": {
    "ExecuteTime": {
     "end_time": "2021-04-29T21:42:22.342832Z",
     "start_time": "2021-04-29T21:42:22.040887Z"
    }
   },
   "outputs": [
    {
     "data": {
      "image/png": "[encoded data removed]",
      "text/plain": [
       "<Figure size 432x288 with 1 Axes>"
      ]
     },
     "metadata": {
      "needs_background": "light"
     },
     "output_type": "display_data"
    },
    {
     "data": {
      "text/plain": [
       "(1.100831024930748, 121694.0, 3.3458041901654024e-88)"
      ]
     },
     "execution_count": 12,
     "metadata": {},
     "output_type": "execute_result"
    }
   ],
   "source": [
    "count_difference(filtered_stype_on_pos, plot=True)"
   ]
  },
  {
   "cell_type": "code",
   "execution_count": null,
   "id": "small-albert",
   "metadata": {},
   "outputs": [],
   "source": []
  },
  {
   "cell_type": "code",
   "execution_count": null,
   "id": "analyzed-income",
   "metadata": {},
   "outputs": [],
   "source": []
  },
  {
   "cell_type": "code",
   "execution_count": null,
   "id": "alone-wrist",
   "metadata": {},
   "outputs": [],
   "source": []
  },
  {
   "cell_type": "code",
   "execution_count": null,
   "id": "human-effort",
   "metadata": {},
   "outputs": [],
   "source": []
  },
  {
   "cell_type": "code",
   "execution_count": 39,
   "id": "contrary-digest",
   "metadata": {
    "ExecuteTime": {
     "end_time": "2021-04-29T16:54:15.305003Z",
     "start_time": "2021-04-29T16:54:15.292121Z"
    }
   },
   "outputs": [
    {
     "data": {
      "text/html": [
       "<div>\n",
       "<style scoped>\n",
       "    .dataframe tbody tr th:only-of-type {\n",
       "        vertical-align: middle;\n",
       "    }\n",
       "\n",
       "    .dataframe tbody tr th {\n",
       "        vertical-align: top;\n",
       "    }\n",
       "\n",
       "    .dataframe thead th {\n",
       "        text-align: right;\n",
       "    }\n",
       "</style>\n",
       "<table border=\"1\" class=\"dataframe\">\n",
       "  <thead>\n",
       "    <tr style=\"text-align: right;\">\n",
       "      <th></th>\n",
       "      <th>free2paired</th>\n",
       "      <th>paired2free</th>\n",
       "      <th>free2free</th>\n",
       "    </tr>\n",
       "    <tr>\n",
       "      <th>pos</th>\n",
       "      <th></th>\n",
       "      <th></th>\n",
       "      <th></th>\n",
       "    </tr>\n",
       "  </thead>\n",
       "  <tbody>\n",
       "    <tr>\n",
       "      <th>159</th>\n",
       "      <td>6</td>\n",
       "      <td>15</td>\n",
       "      <td>0</td>\n",
       "    </tr>\n",
       "    <tr>\n",
       "      <th>171</th>\n",
       "      <td>2</td>\n",
       "      <td>5</td>\n",
       "      <td>0</td>\n",
       "    </tr>\n",
       "    <tr>\n",
       "      <th>268</th>\n",
       "      <td>3</td>\n",
       "      <td>7</td>\n",
       "      <td>0</td>\n",
       "    </tr>\n",
       "    <tr>\n",
       "      <th>8005</th>\n",
       "      <td>5</td>\n",
       "      <td>2</td>\n",
       "      <td>0</td>\n",
       "    </tr>\n",
       "    <tr>\n",
       "      <th>11290</th>\n",
       "      <td>6</td>\n",
       "      <td>2</td>\n",
       "      <td>0</td>\n",
       "    </tr>\n",
       "    <tr>\n",
       "      <th>13424</th>\n",
       "      <td>2</td>\n",
       "      <td>6</td>\n",
       "      <td>0</td>\n",
       "    </tr>\n",
       "    <tr>\n",
       "      <th>17241</th>\n",
       "      <td>5</td>\n",
       "      <td>2</td>\n",
       "      <td>1</td>\n",
       "    </tr>\n",
       "    <tr>\n",
       "      <th>19480</th>\n",
       "      <td>2</td>\n",
       "      <td>5</td>\n",
       "      <td>0</td>\n",
       "    </tr>\n",
       "    <tr>\n",
       "      <th>20355</th>\n",
       "      <td>2</td>\n",
       "      <td>7</td>\n",
       "      <td>0</td>\n",
       "    </tr>\n",
       "    <tr>\n",
       "      <th>20400</th>\n",
       "      <td>2</td>\n",
       "      <td>5</td>\n",
       "      <td>0</td>\n",
       "    </tr>\n",
       "    <tr>\n",
       "      <th>20900</th>\n",
       "      <td>2</td>\n",
       "      <td>5</td>\n",
       "      <td>0</td>\n",
       "    </tr>\n",
       "    <tr>\n",
       "      <th>25249</th>\n",
       "      <td>4</td>\n",
       "      <td>9</td>\n",
       "      <td>0</td>\n",
       "    </tr>\n",
       "    <tr>\n",
       "      <th>25260</th>\n",
       "      <td>2</td>\n",
       "      <td>5</td>\n",
       "      <td>0</td>\n",
       "    </tr>\n",
       "    <tr>\n",
       "      <th>25296</th>\n",
       "      <td>4</td>\n",
       "      <td>9</td>\n",
       "      <td>0</td>\n",
       "    </tr>\n",
       "    <tr>\n",
       "      <th>28088</th>\n",
       "      <td>6</td>\n",
       "      <td>14</td>\n",
       "      <td>0</td>\n",
       "    </tr>\n",
       "    <tr>\n",
       "      <th>28913</th>\n",
       "      <td>2</td>\n",
       "      <td>5</td>\n",
       "      <td>0</td>\n",
       "    </tr>\n",
       "    <tr>\n",
       "      <th>28915</th>\n",
       "      <td>9</td>\n",
       "      <td>4</td>\n",
       "      <td>15</td>\n",
       "    </tr>\n",
       "    <tr>\n",
       "      <th>29667</th>\n",
       "      <td>6</td>\n",
       "      <td>15</td>\n",
       "      <td>10</td>\n",
       "    </tr>\n",
       "    <tr>\n",
       "      <th>29701</th>\n",
       "      <td>4</td>\n",
       "      <td>10</td>\n",
       "      <td>0</td>\n",
       "    </tr>\n",
       "    <tr>\n",
       "      <th>29839</th>\n",
       "      <td>39</td>\n",
       "      <td>19</td>\n",
       "      <td>0</td>\n",
       "    </tr>\n",
       "    <tr>\n",
       "      <th>29840</th>\n",
       "      <td>38</td>\n",
       "      <td>15</td>\n",
       "      <td>0</td>\n",
       "    </tr>\n",
       "    <tr>\n",
       "      <th>29841</th>\n",
       "      <td>10</td>\n",
       "      <td>1</td>\n",
       "      <td>0</td>\n",
       "    </tr>\n",
       "    <tr>\n",
       "      <th>29842</th>\n",
       "      <td>12</td>\n",
       "      <td>3</td>\n",
       "      <td>0</td>\n",
       "    </tr>\n",
       "    <tr>\n",
       "      <th>29846</th>\n",
       "      <td>13</td>\n",
       "      <td>5</td>\n",
       "      <td>0</td>\n",
       "    </tr>\n",
       "  </tbody>\n",
       "</table>\n",
       "</div>"
      ],
      "text/plain": [
       "       free2paired  paired2free  free2free\n",
       "pos                                       \n",
       "159              6           15          0\n",
       "171              2            5          0\n",
       "268              3            7          0\n",
       "8005             5            2          0\n",
       "11290            6            2          0\n",
       "13424            2            6          0\n",
       "17241            5            2          1\n",
       "19480            2            5          0\n",
       "20355            2            7          0\n",
       "20400            2            5          0\n",
       "20900            2            5          0\n",
       "25249            4            9          0\n",
       "25260            2            5          0\n",
       "25296            4            9          0\n",
       "28088            6           14          0\n",
       "28913            2            5          0\n",
       "28915            9            4         15\n",
       "29667            6           15         10\n",
       "29701            4           10          0\n",
       "29839           39           19          0\n",
       "29840           38           15          0\n",
       "29841           10            1          0\n",
       "29842           12            3          0\n",
       "29846           13            5          0"
      ]
     },
     "execution_count": 39,
     "metadata": {},
     "output_type": "execute_result"
    }
   ],
   "source": [
    "# trend to become paired or free\n",
    "filtered_stype_on_pos[(division < .5) | (division > 2)].iloc[:, :3]"
   ]
  },
  {
   "cell_type": "code",
   "execution_count": 40,
   "id": "demonstrated-stylus",
   "metadata": {
    "ExecuteTime": {
     "end_time": "2021-04-29T16:54:21.872994Z",
     "start_time": "2021-04-29T16:54:21.858605Z"
    }
   },
   "outputs": [
    {
     "data": {
      "text/html": [
       "<div>\n",
       "<style scoped>\n",
       "    .dataframe tbody tr th:only-of-type {\n",
       "        vertical-align: middle;\n",
       "    }\n",
       "\n",
       "    .dataframe tbody tr th {\n",
       "        vertical-align: top;\n",
       "    }\n",
       "\n",
       "    .dataframe thead th {\n",
       "        text-align: right;\n",
       "    }\n",
       "</style>\n",
       "<table border=\"1\" class=\"dataframe\">\n",
       "  <thead>\n",
       "    <tr style=\"text-align: right;\">\n",
       "      <th></th>\n",
       "      <th>free2paired</th>\n",
       "      <th>paired2free</th>\n",
       "      <th>free2free</th>\n",
       "    </tr>\n",
       "    <tr>\n",
       "      <th>pos</th>\n",
       "      <th></th>\n",
       "      <th></th>\n",
       "      <th></th>\n",
       "    </tr>\n",
       "  </thead>\n",
       "  <tbody>\n",
       "    <tr>\n",
       "      <th>83</th>\n",
       "      <td>10</td>\n",
       "      <td>10</td>\n",
       "      <td>0</td>\n",
       "    </tr>\n",
       "    <tr>\n",
       "      <th>87</th>\n",
       "      <td>8</td>\n",
       "      <td>7</td>\n",
       "      <td>0</td>\n",
       "    </tr>\n",
       "    <tr>\n",
       "      <th>89</th>\n",
       "      <td>8</td>\n",
       "      <td>8</td>\n",
       "      <td>0</td>\n",
       "    </tr>\n",
       "    <tr>\n",
       "      <th>90</th>\n",
       "      <td>18</td>\n",
       "      <td>19</td>\n",
       "      <td>24</td>\n",
       "    </tr>\n",
       "    <tr>\n",
       "      <th>93</th>\n",
       "      <td>6</td>\n",
       "      <td>8</td>\n",
       "      <td>0</td>\n",
       "    </tr>\n",
       "    <tr>\n",
       "      <th>...</th>\n",
       "      <td>...</td>\n",
       "      <td>...</td>\n",
       "      <td>...</td>\n",
       "    </tr>\n",
       "    <tr>\n",
       "      <th>29862</th>\n",
       "      <td>35</td>\n",
       "      <td>29</td>\n",
       "      <td>3</td>\n",
       "    </tr>\n",
       "    <tr>\n",
       "      <th>29863</th>\n",
       "      <td>137</td>\n",
       "      <td>125</td>\n",
       "      <td>4</td>\n",
       "    </tr>\n",
       "    <tr>\n",
       "      <th>29864</th>\n",
       "      <td>44</td>\n",
       "      <td>51</td>\n",
       "      <td>3</td>\n",
       "    </tr>\n",
       "    <tr>\n",
       "      <th>29865</th>\n",
       "      <td>30</td>\n",
       "      <td>31</td>\n",
       "      <td>0</td>\n",
       "    </tr>\n",
       "    <tr>\n",
       "      <th>29866</th>\n",
       "      <td>274</td>\n",
       "      <td>252</td>\n",
       "      <td>7</td>\n",
       "    </tr>\n",
       "  </tbody>\n",
       "</table>\n",
       "<p>1740 rows × 3 columns</p>\n",
       "</div>"
      ],
      "text/plain": [
       "       free2paired  paired2free  free2free\n",
       "pos                                       \n",
       "83              10           10          0\n",
       "87               8            7          0\n",
       "89               8            8          0\n",
       "90              18           19         24\n",
       "93               6            8          0\n",
       "...            ...          ...        ...\n",
       "29862           35           29          3\n",
       "29863          137          125          4\n",
       "29864           44           51          3\n",
       "29865           30           31          0\n",
       "29866          274          252          7\n",
       "\n",
       "[1740 rows x 3 columns]"
      ]
     },
     "execution_count": 40,
     "metadata": {},
     "output_type": "execute_result"
    }
   ],
   "source": [
    "# trend to jumb: free <--> paired\n",
    "filtered_stype_on_pos[(division > .5) & (division < 2)].iloc[:, [0,1,2]]"
   ]
  },
  {
   "cell_type": "code",
   "execution_count": 1,
   "id": "cloudy-strand",
   "metadata": {
    "ExecuteTime": {
     "end_time": "2021-04-30T10:03:04.278537Z",
     "start_time": "2021-04-30T10:03:04.275059Z"
    }
   },
   "outputs": [],
   "source": [
    "# Они реально прыгают"
   ]
  },
  {
   "cell_type": "code",
   "execution_count": null,
   "id": "confident-experiment",
   "metadata": {},
   "outputs": [],
   "source": []
  },
  {
   "cell_type": "code",
   "execution_count": 12,
   "id": "warming-secret",
   "metadata": {
    "ExecuteTime": {
     "end_time": "2021-04-27T22:25:39.111214Z",
     "start_time": "2021-04-27T22:25:39.103840Z"
    }
   },
   "outputs": [
    {
     "data": {
      "text/html": [
       "<svg  width=\"275\" height=\"55\"><rect x=\"0\" y=\"0\" width=\"55\" height=\"55\" style=\"fill:#db5f57;stroke-width:2;stroke:rgb(255,255,255)\"/><rect x=\"55\" y=\"0\" width=\"55\" height=\"55\" style=\"fill:#b9db57;stroke-width:2;stroke:rgb(255,255,255)\"/><rect x=\"110\" y=\"0\" width=\"55\" height=\"55\" style=\"fill:#57db94;stroke-width:2;stroke:rgb(255,255,255)\"/><rect x=\"165\" y=\"0\" width=\"55\" height=\"55\" style=\"fill:#5784db;stroke-width:2;stroke:rgb(255,255,255)\"/><rect x=\"220\" y=\"0\" width=\"55\" height=\"55\" style=\"fill:#c957db;stroke-width:2;stroke:rgb(255,255,255)\"/></svg>"
      ],
      "text/plain": [
       "[(0.86, 0.3712, 0.33999999999999997),\n",
       " (0.7247999999999999, 0.86, 0.33999999999999997),\n",
       " (0.33999999999999997, 0.86, 0.5792000000000002),\n",
       " (0.33999999999999997, 0.5167999999999995, 0.86),\n",
       " (0.7871999999999999, 0.33999999999999997, 0.86)]"
      ]
     },
     "execution_count": 12,
     "metadata": {},
     "output_type": "execute_result"
    }
   ],
   "source": [
    "# https://seaborn.pydata.org/tutorial/color_palettes.html\n",
    "palette = sns.color_palette(\"hls\", 5)\n",
    "palette"
   ]
  },
  {
   "cell_type": "code",
   "execution_count": null,
   "id": "cellular-connecticut",
   "metadata": {},
   "outputs": [],
   "source": []
  },
  {
   "cell_type": "code",
   "execution_count": null,
   "id": "abandoned-oasis",
   "metadata": {},
   "outputs": [],
   "source": []
  },
  {
   "cell_type": "code",
   "execution_count": null,
   "id": "attractive-consistency",
   "metadata": {},
   "outputs": [],
   "source": []
  },
  {
   "cell_type": "code",
   "execution_count": null,
   "id": "afraid-topic",
   "metadata": {},
   "outputs": [],
   "source": []
  },
  {
   "cell_type": "code",
   "execution_count": null,
   "id": "intellectual-worth",
   "metadata": {},
   "outputs": [],
   "source": []
  }
 ],
 "metadata": {
  "kernelspec": {
   "display_name": "Python 3",
   "language": "python",
   "name": "python3"
  },
  "language_info": {
   "codemirror_mode": {
    "name": "ipython",
    "version": 3
   },
   "file_extension": ".py",
   "mimetype": "text/x-python",
   "name": "python",
   "nbconvert_exporter": "python",
   "pygments_lexer": "ipython3",
   "version": "3.7.5"
  }
 },
 "nbformat": 4,
 "nbformat_minor": 5
}

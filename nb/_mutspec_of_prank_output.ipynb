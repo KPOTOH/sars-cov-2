{
 "cells": [
  {
   "cell_type": "markdown",
   "metadata": {},
   "source": [
    "### first part when substitutions json-storage created was writed to script `../sourse/mutations_extractor.py`\n",
    "\n",
    "- 2nd part when mut-spec table created exist only here"
   ]
  },
  {
   "cell_type": "code",
   "execution_count": 1,
   "metadata": {
    "ExecuteTime": {
     "end_time": "2021-03-04T21:40:45.128772Z",
     "start_time": "2021-03-04T21:40:43.784956Z"
    }
   },
   "outputs": [],
   "source": [
    "import json\n",
    "from queue import Queue\n",
    "import sys\n",
    "\n",
    "import numpy as np\n",
    "import pandas as pd\n",
    "import matplotlib.pyplot as plt\n",
    "from ete3 import PhyloTree\n",
    "\n",
    "path_to_tree = \"../data/mulal_gisaid_2021-01-22.filtered.fasta.prank.anc.dnd\"\n",
    "path_to_fasta = \"../data/mulal_gisaid_2021-01-22.filtered.fasta.prank.anc.fas\""
   ]
  },
  {
   "cell_type": "code",
   "execution_count": 2,
   "metadata": {
    "ExecuteTime": {
     "end_time": "2021-03-04T21:40:46.307326Z",
     "start_time": "2021-03-04T21:40:46.293157Z"
    }
   },
   "outputs": [],
   "source": [
    "def read_fasta_generator(filepath):\n",
    "    \"\"\"read fasta without deleting '\\n' from line ends to write that\n",
    "    in the next step\n",
    "    \"\"\"\n",
    "    with open(filepath) as fin:\n",
    "        seq = ''\n",
    "        for line in fin:\n",
    "            if line.startswith(\">\"):\n",
    "                if seq != '':\n",
    "                    yield header, seq\n",
    "                header = line\n",
    "                seq = ''\n",
    "            else:\n",
    "                seq += line\n",
    "        yield header, seq\n",
    "\n",
    "\n",
    "fasta_generator = read_fasta_generator(path_to_fasta)\n",
    "fasta_storage = dict()\n",
    "\n",
    "\n",
    "def get_sequence(node_name):\n",
    "    \"\"\"read fasta file online and write seqs to dict if another one are needed\"\"\"\n",
    "    if node_name in fasta_storage:\n",
    "        seq = fasta_storage[node_name]\n",
    "        return seq\n",
    "    \n",
    "    for new_node_name, new_seq in fasta_generator:\n",
    "        new_node_name = new_node_name.strip(\">\\n\")\n",
    "        new_seq = new_seq.replace(\"\\n\", \"\")\n",
    "        fasta_storage[new_node_name] = new_seq\n",
    "        if new_node_name == node_name:\n",
    "            return new_seq\n",
    "\n",
    "\n",
    "def node_parent(node):\n",
    "    try: return next(node.iter_ancestors())\n",
    "    except: return None\n",
    "\n",
    "\n",
    "def trim_two_seqs(seq1, seq2):\n",
    "    \"\"\"there are '----' in the start and end of seqs. Drop it!\"\"\"\n",
    "    n = len(seq1)\n",
    "    start_pos, stop_pos = 0, n\n",
    "    for start_pos in range(n):\n",
    "        if not (seq1[start_pos] == '-' or seq2[start_pos] == \"-\"):\n",
    "            break\n",
    "    \n",
    "    for stop_pos in range(n - 1, -1, -1):\n",
    "        if not (seq1[stop_pos] == '-' or seq2[stop_pos] == \"-\"):\n",
    "            break\n",
    "    stop_pos += 1\n",
    "    return start_pos, stop_pos\n",
    "\n",
    "\n",
    "def release_mutations_from_two_seqs(parent_seq: str, child_seq: str):\n",
    "    start_pos, stop_pos = trim_two_seqs(parent_seq, child_seq)\n",
    "    \n",
    "    mutations = []\n",
    "    for pos in range(start_pos, stop_pos):\n",
    "        sourse_nucl = parent_seq[pos]\n",
    "        mutant_nucl = child_seq[pos]\n",
    "        if sourse_nucl != mutant_nucl:\n",
    "            mutations.append((pos, sourse_nucl, mutant_nucl))\n",
    "    return mutations\n",
    "\n",
    "\n",
    "def get_mutations(node):\n",
    "    parent = node_parent(node)\n",
    "    if parent is None:\n",
    "        return\n",
    "    seq_of_parent = get_sequence(parent.name)\n",
    "    seq_of_child = get_sequence(node.name)\n",
    "    assert len(seq_of_child) == len(seq_of_parent), (\n",
    "        \"parent and child seq lenghts aren't equal\"\n",
    "    )\n",
    "    mutations = release_mutations_from_two_seqs(\n",
    "        seq_of_parent,\n",
    "        seq_of_child,\n",
    "    )\n",
    "    return parent.name, node.name, mutations"
   ]
  },
  {
   "cell_type": "code",
   "execution_count": 3,
   "metadata": {
    "ExecuteTime": {
     "end_time": "2021-03-04T21:40:49.744907Z",
     "start_time": "2021-03-04T21:40:46.862733Z"
    }
   },
   "outputs": [],
   "source": [
    "tree = PhyloTree(path_to_tree, format=1)"
   ]
  },
  {
   "cell_type": "code",
   "execution_count": null,
   "metadata": {
    "ExecuteTime": {
     "start_time": "2021-03-04T21:40:47.303Z"
    }
   },
   "outputs": [],
   "source": [
    "# BFS\n",
    "# def bfs_to_extract_mutspec():\n",
    "discovered_nodes = set()\n",
    "Q = Queue()\n",
    "Q.put(tree)\n",
    "discovered_nodes.add(tree.name)\n",
    "\n",
    "overall_mutations = []\n",
    "while not Q.empty():\n",
    "    cur_node = Q.get()\n",
    "    for chi in cur_node.children:\n",
    "        Q.put(chi)\n",
    "    \n",
    "    if cur_node.name not in discovered_nodes:\n",
    "        discovered_nodes.add(cur_node.name)\n",
    "        # main process starts here \n",
    "        cur_mutations_of_one = get_mutations(cur_node)\n",
    "        overall_mutations.append(cur_mutations_of_one)\n",
    "        "
   ]
  },
  {
   "cell_type": "code",
   "execution_count": null,
   "metadata": {
    "ExecuteTime": {
     "start_time": "2021-03-04T21:40:47.821Z"
    }
   },
   "outputs": [],
   "source": [
    "len(discovered_nodes), len(tree.get_descendants()), len(overall_mutations)"
   ]
  },
  {
   "cell_type": "code",
   "execution_count": null,
   "metadata": {
    "ExecuteTime": {
     "start_time": "2021-03-04T21:40:50.474Z"
    }
   },
   "outputs": [],
   "source": [
    "overall_mutations[100000]"
   ]
  },
  {
   "cell_type": "code",
   "execution_count": 6,
   "metadata": {},
   "outputs": [],
   "source": [
    "# with open('../data/overall_mutations.json', 'w') as fout:\n",
    "#     json.dump(overall_mutations, fout)"
   ]
  },
  {
   "cell_type": "code",
   "execution_count": null,
   "metadata": {},
   "outputs": [],
   "source": []
  },
  {
   "cell_type": "markdown",
   "metadata": {},
   "source": [
    "-----------------"
   ]
  },
  {
   "cell_type": "code",
   "execution_count": 2,
   "metadata": {},
   "outputs": [],
   "source": [
    "with open('../data/overall_mutations_2.json') as fin:\n",
    "    overall_mutations = json.load(fin)"
   ]
  },
  {
   "cell_type": "code",
   "execution_count": 3,
   "metadata": {},
   "outputs": [
    {
     "data": {
      "text/plain": [
       "100976"
      ]
     },
     "execution_count": 3,
     "metadata": {},
     "output_type": "execute_result"
    }
   ],
   "source": [
    "len(overall_mutations)"
   ]
  },
  {
   "cell_type": "code",
   "execution_count": 4,
   "metadata": {},
   "outputs": [
    {
     "data": {
      "text/plain": [
       "[]"
      ]
     },
     "execution_count": 4,
     "metadata": {},
     "output_type": "execute_result"
    }
   ],
   "source": [
    "([x for x in overall_mutations if len(x) > 0 and x[0][1] == '-'])"
   ]
  },
  {
   "cell_type": "code",
   "execution_count": 5,
   "metadata": {},
   "outputs": [
    {
     "name": "stdout",
     "output_type": "stream",
     "text": [
      "{'A2C': 0, 'A2G': 1, 'A2T': 2, 'A2-': 3, 'C2A': 4, 'C2G': 5, 'C2T': 6, 'C2-': 7, 'G2A': 8, 'G2C': 9, 'G2T': 10, 'G2-': 11, 'T2A': 12, 'T2C': 13, 'T2G': 14, 'T2-': 15, '-2A': 16, '-2C': 17, '-2G': 18, '-2T': 19}\n"
     ]
    }
   ],
   "source": [
    "nucl_idx = dict()\n",
    "variants = \"ACGT-\"\n",
    "i = 0\n",
    "for char1 in variants:\n",
    "    for char2 in variants.replace(char1, ''):\n",
    "        # print(i, f\"{char1}2{char2}\")\n",
    "        nucl_idx[f\"{char1}2{char2}\"] = i\n",
    "        i += 1\n",
    "print(nucl_idx)"
   ]
  },
  {
   "cell_type": "code",
   "execution_count": 6,
   "metadata": {},
   "outputs": [],
   "source": [
    "mutation_matrix = np.zeros((29903, len(nucl_idx)), dtype=np.uint32)\n",
    "\n",
    "for mutations in overall_mutations:\n",
    "    for pos, source_nucl, mutant_nucl in mutations[-1]:\n",
    "        code = f\"{source_nucl}2{mutant_nucl}\"\n",
    "        mutation_matrix[pos, nucl_idx[code]] += 1"
   ]
  },
  {
   "cell_type": "code",
   "execution_count": 7,
   "metadata": {},
   "outputs": [
    {
     "data": {
      "text/html": [
       "<div>\n",
       "<style scoped>\n",
       "    .dataframe tbody tr th:only-of-type {\n",
       "        vertical-align: middle;\n",
       "    }\n",
       "\n",
       "    .dataframe tbody tr th {\n",
       "        vertical-align: top;\n",
       "    }\n",
       "\n",
       "    .dataframe thead th {\n",
       "        text-align: right;\n",
       "    }\n",
       "</style>\n",
       "<table border=\"1\" class=\"dataframe\">\n",
       "  <thead>\n",
       "    <tr style=\"text-align: right;\">\n",
       "      <th></th>\n",
       "      <th>A2C</th>\n",
       "      <th>A2G</th>\n",
       "      <th>A2T</th>\n",
       "      <th>A2-</th>\n",
       "      <th>C2A</th>\n",
       "      <th>C2G</th>\n",
       "      <th>C2T</th>\n",
       "      <th>C2-</th>\n",
       "      <th>G2A</th>\n",
       "      <th>G2C</th>\n",
       "      <th>G2T</th>\n",
       "      <th>G2-</th>\n",
       "      <th>T2A</th>\n",
       "      <th>T2C</th>\n",
       "      <th>T2G</th>\n",
       "      <th>T2-</th>\n",
       "      <th>-2A</th>\n",
       "      <th>-2C</th>\n",
       "      <th>-2G</th>\n",
       "      <th>-2T</th>\n",
       "    </tr>\n",
       "  </thead>\n",
       "  <tbody>\n",
       "    <tr>\n",
       "      <th>0</th>\n",
       "      <td>14</td>\n",
       "      <td>9</td>\n",
       "      <td>17</td>\n",
       "      <td>0</td>\n",
       "      <td>14</td>\n",
       "      <td>1</td>\n",
       "      <td>0</td>\n",
       "      <td>0</td>\n",
       "      <td>13</td>\n",
       "      <td>1</td>\n",
       "      <td>0</td>\n",
       "      <td>0</td>\n",
       "      <td>47</td>\n",
       "      <td>0</td>\n",
       "      <td>0</td>\n",
       "      <td>0</td>\n",
       "      <td>0</td>\n",
       "      <td>0</td>\n",
       "      <td>0</td>\n",
       "      <td>0</td>\n",
       "    </tr>\n",
       "    <tr>\n",
       "      <th>1</th>\n",
       "      <td>1</td>\n",
       "      <td>0</td>\n",
       "      <td>53</td>\n",
       "      <td>0</td>\n",
       "      <td>1</td>\n",
       "      <td>0</td>\n",
       "      <td>33</td>\n",
       "      <td>0</td>\n",
       "      <td>0</td>\n",
       "      <td>0</td>\n",
       "      <td>20</td>\n",
       "      <td>0</td>\n",
       "      <td>34</td>\n",
       "      <td>14</td>\n",
       "      <td>12</td>\n",
       "      <td>0</td>\n",
       "      <td>0</td>\n",
       "      <td>0</td>\n",
       "      <td>0</td>\n",
       "      <td>0</td>\n",
       "    </tr>\n",
       "    <tr>\n",
       "      <th>2</th>\n",
       "      <td>0</td>\n",
       "      <td>0</td>\n",
       "      <td>51</td>\n",
       "      <td>0</td>\n",
       "      <td>0</td>\n",
       "      <td>0</td>\n",
       "      <td>15</td>\n",
       "      <td>0</td>\n",
       "      <td>0</td>\n",
       "      <td>0</td>\n",
       "      <td>53</td>\n",
       "      <td>0</td>\n",
       "      <td>23</td>\n",
       "      <td>7</td>\n",
       "      <td>38</td>\n",
       "      <td>0</td>\n",
       "      <td>0</td>\n",
       "      <td>0</td>\n",
       "      <td>0</td>\n",
       "      <td>0</td>\n",
       "    </tr>\n",
       "    <tr>\n",
       "      <th>3</th>\n",
       "      <td>15</td>\n",
       "      <td>49</td>\n",
       "      <td>59</td>\n",
       "      <td>0</td>\n",
       "      <td>24</td>\n",
       "      <td>2</td>\n",
       "      <td>0</td>\n",
       "      <td>0</td>\n",
       "      <td>67</td>\n",
       "      <td>0</td>\n",
       "      <td>3</td>\n",
       "      <td>0</td>\n",
       "      <td>107</td>\n",
       "      <td>0</td>\n",
       "      <td>2</td>\n",
       "      <td>0</td>\n",
       "      <td>0</td>\n",
       "      <td>0</td>\n",
       "      <td>0</td>\n",
       "      <td>0</td>\n",
       "    </tr>\n",
       "    <tr>\n",
       "      <th>4</th>\n",
       "      <td>7</td>\n",
       "      <td>27</td>\n",
       "      <td>48</td>\n",
       "      <td>0</td>\n",
       "      <td>10</td>\n",
       "      <td>0</td>\n",
       "      <td>1</td>\n",
       "      <td>0</td>\n",
       "      <td>66</td>\n",
       "      <td>0</td>\n",
       "      <td>2</td>\n",
       "      <td>0</td>\n",
       "      <td>80</td>\n",
       "      <td>0</td>\n",
       "      <td>4</td>\n",
       "      <td>0</td>\n",
       "      <td>0</td>\n",
       "      <td>0</td>\n",
       "      <td>0</td>\n",
       "      <td>0</td>\n",
       "    </tr>\n",
       "  </tbody>\n",
       "</table>\n",
       "</div>"
      ],
      "text/plain": [
       "   A2C  A2G  A2T  A2-  C2A  C2G  C2T  C2-  G2A  G2C  G2T  G2-  T2A  T2C  T2G  \\\n",
       "0   14    9   17    0   14    1    0    0   13    1    0    0   47    0    0   \n",
       "1    1    0   53    0    1    0   33    0    0    0   20    0   34   14   12   \n",
       "2    0    0   51    0    0    0   15    0    0    0   53    0   23    7   38   \n",
       "3   15   49   59    0   24    2    0    0   67    0    3    0  107    0    2   \n",
       "4    7   27   48    0   10    0    1    0   66    0    2    0   80    0    4   \n",
       "\n",
       "   T2-  -2A  -2C  -2G  -2T  \n",
       "0    0    0    0    0    0  \n",
       "1    0    0    0    0    0  \n",
       "2    0    0    0    0    0  \n",
       "3    0    0    0    0    0  \n",
       "4    0    0    0    0    0  "
      ]
     },
     "execution_count": 7,
     "metadata": {},
     "output_type": "execute_result"
    }
   ],
   "source": [
    "df = pd.DataFrame(mutation_matrix, columns=nucl_idx.keys())\n",
    "df.head()"
   ]
  },
  {
   "cell_type": "code",
   "execution_count": 8,
   "metadata": {},
   "outputs": [],
   "source": [
    "df.reset_index().to_csv(\"../data/gisaid_sample_mutspec2.csv\", index=None)"
   ]
  },
  {
   "cell_type": "code",
   "execution_count": null,
   "metadata": {},
   "outputs": [],
   "source": []
  },
  {
   "cell_type": "code",
   "execution_count": null,
   "metadata": {},
   "outputs": [],
   "source": []
  },
  {
   "cell_type": "code",
   "execution_count": 7,
   "metadata": {},
   "outputs": [
    {
     "data": {
      "text/plain": [
       "29903"
      ]
     },
     "execution_count": 7,
     "metadata": {},
     "output_type": "execute_result"
    }
   ],
   "source": [
    "refseq = get_sequence(\"NC_045512.2\")\n",
    "len(refseq)"
   ]
  },
  {
   "cell_type": "code",
   "execution_count": 9,
   "metadata": {},
   "outputs": [],
   "source": [
    "seq_lens = []\n",
    "for _, seq in fasta_generator:\n",
    "    seq_lens.append(len(seq.strip(\"\\n-\")))"
   ]
  },
  {
   "cell_type": "code",
   "execution_count": 10,
   "metadata": {},
   "outputs": [
    {
     "data": {
      "text/plain": [
       "29782    5394\n",
       "29903    3228\n",
       "29836     333\n",
       "29775     292\n",
       "29902     281\n",
       "29899     266\n",
       "29882     265\n",
       "29901     255\n",
       "29840     236\n",
       "29866     234\n",
       "29865     231\n",
       "29864     221\n",
       "29862     208\n",
       "29873     207\n",
       "29813     197\n",
       "29868     183\n",
       "29857     177\n",
       "29859     175\n",
       "29872     166\n",
       "29863     165\n",
       "dtype: int64"
      ]
     },
     "execution_count": 10,
     "metadata": {},
     "output_type": "execute_result"
    }
   ],
   "source": [
    "import pandas as pd\n",
    "pd.Series(seq_lens).value_counts().iloc[:20]"
   ]
  },
  {
   "cell_type": "code",
   "execution_count": null,
   "metadata": {},
   "outputs": [],
   "source": []
  },
  {
   "cell_type": "code",
   "execution_count": null,
   "metadata": {},
   "outputs": [],
   "source": []
  },
  {
   "cell_type": "code",
   "execution_count": null,
   "metadata": {},
   "outputs": [],
   "source": []
  }
 ],
 "metadata": {
  "kernelspec": {
   "display_name": "Python 3",
   "language": "python",
   "name": "python3"
  },
  "language_info": {
   "codemirror_mode": {
    "name": "ipython",
    "version": 3
   },
   "file_extension": ".py",
   "mimetype": "text/x-python",
   "name": "python",
   "nbconvert_exporter": "python",
   "pygments_lexer": "ipython3",
   "version": "3.7.5"
  },
  "varInspector": {
   "cols": {
    "lenName": 16,
    "lenType": 16,
    "lenVar": 40
   },
   "kernels_config": {
    "python": {
     "delete_cmd_postfix": "",
     "delete_cmd_prefix": "del ",
     "library": "var_list.py",
     "varRefreshCmd": "print(var_dic_list())"
    },
    "r": {
     "delete_cmd_postfix": ") ",
     "delete_cmd_prefix": "rm(",
     "library": "var_list.r",
     "varRefreshCmd": "cat(var_dic_list()) "
    }
   },
   "types_to_exclude": [
    "module",
    "function",
    "builtin_function_or_method",
    "instance",
    "_Feature"
   ],
   "window_display": false
  }
 },
 "nbformat": 4,
 "nbformat_minor": 2
}

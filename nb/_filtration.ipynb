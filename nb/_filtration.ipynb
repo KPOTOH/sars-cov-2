{
 "cells": [
  {
   "cell_type": "code",
   "execution_count": 1,
   "metadata": {
    "ExecuteTime": {
     "end_time": "2020-12-07T13:24:17.136752Z",
     "start_time": "2020-12-07T13:24:17.094163Z"
    }
   },
   "outputs": [],
   "source": [
    "import os\n",
    "import sys\n",
    "\n",
    "import tqdm"
   ]
  },
  {
   "cell_type": "code",
   "execution_count": 2,
   "metadata": {
    "ExecuteTime": {
     "end_time": "2020-12-07T13:24:20.684883Z",
     "start_time": "2020-12-07T13:24:20.678368Z"
    }
   },
   "outputs": [],
   "source": [
    "FILEPATH_IN = \"../data/gisaid_hcov-19_2020_11_29_high_qualily.fasta\"\n",
    "FILEPATH_OUT = \"../data/filtered_gisaid_hcov-19_2020_11_29_high_qualily.fasta\"\n",
    "FILEPATH_EXCLUDE = '../data/exclude.txt'\n",
    "EXCLUDING_ANIMALS = [\n",
    "    'lion',\n",
    "    'tiger',\n",
    "    'mink',\n",
    "    'env',\n",
    "    'cat',\n",
    "    'pangolin',\n",
    "    'canine',\n",
    "    'mouse',\n",
    "]\n",
    "MAX_UNKNOWN_FRACTION = .05\n",
    "MIN_SEQ_LENGHT = 29700"
   ]
  },
  {
   "cell_type": "code",
   "execution_count": 5,
   "metadata": {
    "ExecuteTime": {
     "end_time": "2020-12-07T13:25:13.672985Z",
     "start_time": "2020-12-07T13:25:13.665698Z"
    }
   },
   "outputs": [],
   "source": [
    "EXCLUDE_IDX = set()\n",
    "with open(FILEPATH_EXCLUDE) as fin:\n",
    "    for line in fin:\n",
    "        if not line.startswith('#') and line != '\\n':\n",
    "            EXCLUDE_IDX.add(line.strip())"
   ]
  },
  {
   "cell_type": "code",
   "execution_count": 8,
   "metadata": {
    "ExecuteTime": {
     "end_time": "2020-12-07T13:28:12.305800Z",
     "start_time": "2020-12-07T13:28:12.299551Z"
    }
   },
   "outputs": [],
   "source": [
    "def one_seq_writer(header, seq_lst, fout):\n",
    "    \"\"\"return 1 if seq was not written, else 0\"\"\"\n",
    "    name, idx, date = header.split('|')\n",
    "    seq = ''.join(map(str.strip, seq_lst))\n",
    "    n_fraction = (seq.count('N') + seq.count('n')) / len(seq)\n",
    "    drop_access = any([\n",
    "        n_fraction > MAX_UNKNOWN_FRACTION,\n",
    "        name.split('/')[1] in EXCLUDING_ANIMALS,\n",
    "        name.lstrip(\">hCoV-19/\") in EXCLUDE_IDX,\n",
    "        len(seq) < MIN_SEQ_LENGHT,\n",
    "    ])\n",
    "    if drop_access:\n",
    "        return 1\n",
    "    \n",
    "    fout.write(header)\n",
    "    fout.write(''.join(seq_lst))\n",
    "    return 0    "
   ]
  },
  {
   "cell_type": "code",
   "execution_count": 9,
   "metadata": {
    "ExecuteTime": {
     "end_time": "2020-12-07T13:29:53.014582Z",
     "start_time": "2020-12-07T13:28:14.751381Z"
    }
   },
   "outputs": [
    {
     "name": "stderr",
     "output_type": "stream",
     "text": [
      "62957145it [01:38, 640861.14it/s]\n"
     ]
    }
   ],
   "source": [
    "n_seq_dropped = 0\n",
    "\n",
    "with open(FILEPATH_OUT, 'a') as fout:\n",
    "    with open(FILEPATH_IN) as fasta_fin:\n",
    "        for i, line in tqdm.tqdm(enumerate(fasta_fin)):\n",
    "            if line.startswith('>'):\n",
    "                if i > 0:\n",
    "                    res = one_seq_writer(header, seq_lst, fout)\n",
    "                    n_seq_dropped += res\n",
    "\n",
    "                header = line\n",
    "                seq_lst = []\n",
    "            else:\n",
    "                seq_lst.append(line)\n",
    "    # last seq\n",
    "    res = one_seq_writer(header, seq_lst, fout)\n",
    "    n_seq_dropped += res"
   ]
  },
  {
   "cell_type": "code",
   "execution_count": 10,
   "metadata": {
    "ExecuteTime": {
     "end_time": "2020-12-07T13:29:58.865754Z",
     "start_time": "2020-12-07T13:29:58.857048Z"
    }
   },
   "outputs": [
    {
     "data": {
      "text/plain": [
       "4574"
      ]
     },
     "execution_count": 10,
     "metadata": {},
     "output_type": "execute_result"
    }
   ],
   "source": [
    "n_seq_dropped"
   ]
  },
  {
   "cell_type": "code",
   "execution_count": null,
   "metadata": {},
   "outputs": [],
   "source": []
  }
 ],
 "metadata": {
  "kernelspec": {
   "display_name": "Python 3 (ipykernel)",
   "language": "python",
   "name": "python3"
  },
  "language_info": {
   "codemirror_mode": {
    "name": "ipython",
    "version": 3
   },
   "file_extension": ".py",
   "mimetype": "text/x-python",
   "name": "python",
   "nbconvert_exporter": "python",
   "pygments_lexer": "ipython3",
   "version": "3.9.5"
  },
  "varInspector": {
   "cols": {
    "lenName": 16,
    "lenType": 16,
    "lenVar": 40
   },
   "kernels_config": {
    "python": {
     "delete_cmd_postfix": "",
     "delete_cmd_prefix": "del ",
     "library": "var_list.py",
     "varRefreshCmd": "print(var_dic_list())"
    },
    "r": {
     "delete_cmd_postfix": ") ",
     "delete_cmd_prefix": "rm(",
     "library": "var_list.r",
     "varRefreshCmd": "cat(var_dic_list()) "
    }
   },
   "types_to_exclude": [
    "module",
    "function",
    "builtin_function_or_method",
    "instance",
    "_Feature"
   ],
   "window_display": false
  }
 },
 "nbformat": 4,
 "nbformat_minor": 4
}

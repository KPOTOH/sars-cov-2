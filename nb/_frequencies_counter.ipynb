{
 "cells": [
  {
   "cell_type": "code",
   "execution_count": 1,
   "metadata": {
    "ExecuteTime": {
     "end_time": "2020-12-10T08:19:00.913985Z",
     "start_time": "2020-12-10T08:19:00.558485Z"
    }
   },
   "outputs": [],
   "source": [
    "from collections import defaultdict\n",
    "import pandas as pd"
   ]
  },
  {
   "cell_type": "code",
   "execution_count": 2,
   "metadata": {
    "ExecuteTime": {
     "end_time": "2020-12-10T08:19:00.940345Z",
     "start_time": "2020-12-10T08:19:00.935723Z"
    }
   },
   "outputs": [],
   "source": [
    "# количество множественно выровненных ковидов на референс\n",
    "NSEQS = 158398\n",
    "\n",
    "filepath = \"../data/multiple_alignment_gisaid.fasta\"\n",
    "nucleotides = list(\"ATGC\")"
   ]
  },
  {
   "cell_type": "code",
   "execution_count": 15,
   "metadata": {
    "ExecuteTime": {
     "end_time": "2020-12-09T15:01:00.092107Z",
     "start_time": "2020-12-09T14:46:07.615021Z"
    }
   },
   "outputs": [
    {
     "name": "stdout",
     "output_type": "stream",
     "text": [
      "#####################################################################################################################################################################################################"
     ]
    }
   ],
   "source": [
    "with open(filepath) as fasta_fin:\n",
    "    # read reference\n",
    "    fasta_fin.readline()\n",
    "    reference = fasta_fin.readline().strip()\n",
    "    len_ref = len(reference)\n",
    "    \n",
    "    freqs = [defaultdict(int) for _ in range(len_ref)]\n",
    "    n_seqs = 0\n",
    "    for line in fasta_fin:\n",
    "        if not line.startswith('>'):\n",
    "            seq = line.strip()\n",
    "            n_seqs += 1\n",
    "            for i in range(len_ref):\n",
    "                cur_n = seq[i]\n",
    "                if cur_n != reference[i] and cur_n in nucleotides:\n",
    "                    freqs[i][cur_n] += 1\n",
    "        \n",
    "            if n_seqs % 1600 == 0:\n",
    "                print('#', end='')"
   ]
  },
  {
   "cell_type": "code",
   "execution_count": 52,
   "metadata": {
    "ExecuteTime": {
     "end_time": "2020-12-09T15:20:44.088435Z",
     "start_time": "2020-12-09T15:20:44.008130Z"
    }
   },
   "outputs": [],
   "source": [
    "df = pd.DataFrame(freqs).fillna(0).astype(np.uint32)\n",
    "df['ref'] = list(reference)\n",
    "df.to_csv('../data/nucl_freqs.csv')"
   ]
  },
  {
   "cell_type": "code",
   "execution_count": 12,
   "metadata": {
    "ExecuteTime": {
     "end_time": "2020-12-10T08:22:38.261057Z",
     "start_time": "2020-12-10T08:22:38.230610Z"
    }
   },
   "outputs": [
    {
     "data": {
      "text/html": [
       "<div>\n",
       "<style scoped>\n",
       "    .dataframe tbody tr th:only-of-type {\n",
       "        vertical-align: middle;\n",
       "    }\n",
       "\n",
       "    .dataframe tbody tr th {\n",
       "        vertical-align: top;\n",
       "    }\n",
       "\n",
       "    .dataframe thead th {\n",
       "        text-align: right;\n",
       "    }\n",
       "</style>\n",
       "<table border=\"1\" class=\"dataframe\">\n",
       "  <thead>\n",
       "    <tr style=\"text-align: right;\">\n",
       "      <th></th>\n",
       "      <th>T</th>\n",
       "      <th>G</th>\n",
       "      <th>C</th>\n",
       "      <th>A</th>\n",
       "      <th>ref</th>\n",
       "    </tr>\n",
       "    <tr>\n",
       "      <th>pos</th>\n",
       "      <th></th>\n",
       "      <th></th>\n",
       "      <th></th>\n",
       "      <th></th>\n",
       "      <th></th>\n",
       "    </tr>\n",
       "  </thead>\n",
       "  <tbody>\n",
       "    <tr>\n",
       "      <th>0</th>\n",
       "      <td>39</td>\n",
       "      <td>54</td>\n",
       "      <td>30</td>\n",
       "      <td>0</td>\n",
       "      <td>A</td>\n",
       "    </tr>\n",
       "    <tr>\n",
       "      <th>1</th>\n",
       "      <td>0</td>\n",
       "      <td>39</td>\n",
       "      <td>41</td>\n",
       "      <td>76</td>\n",
       "      <td>T</td>\n",
       "    </tr>\n",
       "    <tr>\n",
       "      <th>2</th>\n",
       "      <td>0</td>\n",
       "      <td>99</td>\n",
       "      <td>23</td>\n",
       "      <td>30</td>\n",
       "      <td>T</td>\n",
       "    </tr>\n",
       "    <tr>\n",
       "      <th>3</th>\n",
       "      <td>137</td>\n",
       "      <td>122</td>\n",
       "      <td>17</td>\n",
       "      <td>0</td>\n",
       "      <td>A</td>\n",
       "    </tr>\n",
       "    <tr>\n",
       "      <th>4</th>\n",
       "      <td>108</td>\n",
       "      <td>19</td>\n",
       "      <td>9</td>\n",
       "      <td>0</td>\n",
       "      <td>A</td>\n",
       "    </tr>\n",
       "  </tbody>\n",
       "</table>\n",
       "</div>"
      ],
      "text/plain": [
       "       T    G   C   A ref\n",
       "pos                      \n",
       "0     39   54  30   0   A\n",
       "1      0   39  41  76   T\n",
       "2      0   99  23  30   T\n",
       "3    137  122  17   0   A\n",
       "4    108   19   9   0   A"
      ]
     },
     "execution_count": 12,
     "metadata": {},
     "output_type": "execute_result"
    }
   ],
   "source": [
    "df = pd.read_csv('../data/nucl_freqs.csv', index_col=0)\n",
    "df.head()"
   ]
  },
  {
   "cell_type": "code",
   "execution_count": 14,
   "metadata": {
    "ExecuteTime": {
     "end_time": "2020-12-10T08:23:22.057310Z",
     "start_time": "2020-12-10T08:23:22.024646Z"
    }
   },
   "outputs": [
    {
     "data": {
      "text/plain": [
       "6134"
      ]
     },
     "execution_count": 14,
     "metadata": {},
     "output_type": "execute_result"
    }
   ],
   "source": [
    "n_hyper_conservative_sites = np.sum(df.sum(axis=1) == 0)\n",
    "n_hyper_conservative_sites"
   ]
  },
  {
   "cell_type": "code",
   "execution_count": 15,
   "metadata": {
    "ExecuteTime": {
     "end_time": "2020-12-10T08:23:31.355697Z",
     "start_time": "2020-12-10T08:23:26.713253Z"
    }
   },
   "outputs": [],
   "source": [
    "accordance = {v: k for k, v in enumerate(nucleotides)}\n",
    "reverse_accordance = {k: v for k, v in enumerate(nucleotides)}\n",
    "n2n_matrix = [[0, 0, 0, 0] for _ in range(4)]\n",
    "\n",
    "for i, row in df.iterrows():\n",
    "    for nucl in nucleotides:\n",
    "        n2n_matrix[accordance[row['ref']]][accordance[nucl]] += row[nucl]"
   ]
  },
  {
   "cell_type": "code",
   "execution_count": 16,
   "metadata": {
    "ExecuteTime": {
     "end_time": "2020-12-10T08:23:32.443946Z",
     "start_time": "2020-12-10T08:23:32.430291Z"
    }
   },
   "outputs": [
    {
     "data": {
      "text/html": [
       "<div>\n",
       "<style scoped>\n",
       "    .dataframe tbody tr th:only-of-type {\n",
       "        vertical-align: middle;\n",
       "    }\n",
       "\n",
       "    .dataframe tbody tr th {\n",
       "        vertical-align: top;\n",
       "    }\n",
       "\n",
       "    .dataframe thead th {\n",
       "        text-align: right;\n",
       "    }\n",
       "</style>\n",
       "<table border=\"1\" class=\"dataframe\">\n",
       "  <thead>\n",
       "    <tr style=\"text-align: right;\">\n",
       "      <th></th>\n",
       "      <th>A</th>\n",
       "      <th>T</th>\n",
       "      <th>G</th>\n",
       "      <th>C</th>\n",
       "    </tr>\n",
       "  </thead>\n",
       "  <tbody>\n",
       "    <tr>\n",
       "      <th>A</th>\n",
       "      <td>0</td>\n",
       "      <td>33813</td>\n",
       "      <td>226969</td>\n",
       "      <td>11387</td>\n",
       "    </tr>\n",
       "    <tr>\n",
       "      <th>T</th>\n",
       "      <td>15211</td>\n",
       "      <td>0</td>\n",
       "      <td>9025</td>\n",
       "      <td>121089</td>\n",
       "    </tr>\n",
       "    <tr>\n",
       "      <th>G</th>\n",
       "      <td>188437</td>\n",
       "      <td>274882</td>\n",
       "      <td>0</td>\n",
       "      <td>101338</td>\n",
       "    </tr>\n",
       "    <tr>\n",
       "      <th>C</th>\n",
       "      <td>27580</td>\n",
       "      <td>1016818</td>\n",
       "      <td>33441</td>\n",
       "      <td>0</td>\n",
       "    </tr>\n",
       "  </tbody>\n",
       "</table>\n",
       "</div>"
      ],
      "text/plain": [
       "        A        T       G       C\n",
       "A       0    33813  226969   11387\n",
       "T   15211        0    9025  121089\n",
       "G  188437   274882       0  101338\n",
       "C   27580  1016818   33441       0"
      ]
     },
     "execution_count": 16,
     "metadata": {},
     "output_type": "execute_result"
    }
   ],
   "source": [
    "pd.DataFrame(n2n_matrix, columns=nucleotides, index=nucleotides)"
   ]
  },
  {
   "cell_type": "code",
   "execution_count": 96,
   "metadata": {
    "ExecuteTime": {
     "end_time": "2020-12-09T15:56:25.325759Z",
     "start_time": "2020-12-09T15:56:25.322218Z"
    }
   },
   "outputs": [],
   "source": [
    "# df.loc[df.sum(axis=1).sort_values().index].tail(20)"
   ]
  }
 ],
 "metadata": {
  "kernelspec": {
   "display_name": "Python 3",
   "language": "python",
   "name": "python3"
  },
  "language_info": {
   "codemirror_mode": {
    "name": "ipython",
    "version": 3
   },
   "file_extension": ".py",
   "mimetype": "text/x-python",
   "name": "python",
   "nbconvert_exporter": "python",
   "pygments_lexer": "ipython3",
   "version": "3.7.5"
  },
  "varInspector": {
   "cols": {
    "lenName": 16,
    "lenType": 16,
    "lenVar": 40
   },
   "kernels_config": {
    "python": {
     "delete_cmd_postfix": "",
     "delete_cmd_prefix": "del ",
     "library": "var_list.py",
     "varRefreshCmd": "print(var_dic_list())"
    },
    "r": {
     "delete_cmd_postfix": ") ",
     "delete_cmd_prefix": "rm(",
     "library": "var_list.r",
     "varRefreshCmd": "cat(var_dic_list()) "
    }
   },
   "types_to_exclude": [
    "module",
    "function",
    "builtin_function_or_method",
    "instance",
    "_Feature"
   ],
   "window_display": false
  }
 },
 "nbformat": 4,
 "nbformat_minor": 4
}
